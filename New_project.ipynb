{
 "cells": [
  {
   "cell_type": "code",
   "execution_count": 2,
   "metadata": {},
   "outputs": [],
   "source": [
    "import numpy as np\n",
    "import igraph as ig\n",
    "import seaborn as sns\n",
    "import pandas as pd\n",
    "import matplotlib.pylab as plt\n",
    "import scipy.stats as st\n",
    "\n",
    "sns.set()"
   ]
  },
  {
   "cell_type": "code",
   "execution_count": 2,
   "metadata": {},
   "outputs": [],
   "source": [
    "data = pd.read_csv('table_retweets1.csv',nrows=10)"
   ]
  },
  {
   "cell_type": "code",
   "execution_count": 3,
   "metadata": {},
   "outputs": [
    {
     "data": {
      "text/html": [
       "<div>\n",
       "<style scoped>\n",
       "    .dataframe tbody tr th:only-of-type {\n",
       "        vertical-align: middle;\n",
       "    }\n",
       "\n",
       "    .dataframe tbody tr th {\n",
       "        vertical-align: top;\n",
       "    }\n",
       "\n",
       "    .dataframe thead th {\n",
       "        text-align: right;\n",
       "    }\n",
       "</style>\n",
       "<table border=\"1\" class=\"dataframe\">\n",
       "  <thead>\n",
       "    <tr style=\"text-align: right;\">\n",
       "      <th></th>\n",
       "      <th>created_at</th>\n",
       "      <th>id_str</th>\n",
       "      <th>user.id</th>\n",
       "      <th>retweeted_status.user.id</th>\n",
       "    </tr>\n",
       "  </thead>\n",
       "  <tbody>\n",
       "    <tr>\n",
       "      <th>0</th>\n",
       "      <td>2013-03-19 10:59:53+00:00</td>\n",
       "      <td>313952961422295040</td>\n",
       "      <td>353934881</td>\n",
       "      <td>NaN</td>\n",
       "    </tr>\n",
       "    <tr>\n",
       "      <th>1</th>\n",
       "      <td>2013-03-19 23:00:32+00:00</td>\n",
       "      <td>314134318471593985</td>\n",
       "      <td>419828092</td>\n",
       "      <td>NaN</td>\n",
       "    </tr>\n",
       "    <tr>\n",
       "      <th>2</th>\n",
       "      <td>2013-12-12 14:14:54+00:00</td>\n",
       "      <td>411121987369832448</td>\n",
       "      <td>1257609660</td>\n",
       "      <td>NaN</td>\n",
       "    </tr>\n",
       "    <tr>\n",
       "      <th>3</th>\n",
       "      <td>2017-05-22 05:47:28+00:00</td>\n",
       "      <td>866515833895473153</td>\n",
       "      <td>264806169</td>\n",
       "      <td>NaN</td>\n",
       "    </tr>\n",
       "    <tr>\n",
       "      <th>4</th>\n",
       "      <td>2017-05-25 18:17:39+00:00</td>\n",
       "      <td>867791787007463424</td>\n",
       "      <td>508538467</td>\n",
       "      <td>NaN</td>\n",
       "    </tr>\n",
       "    <tr>\n",
       "      <th>5</th>\n",
       "      <td>2017-06-29 08:30:41+00:00</td>\n",
       "      <td>880327646810341377</td>\n",
       "      <td>2878256099</td>\n",
       "      <td>NaN</td>\n",
       "    </tr>\n",
       "    <tr>\n",
       "      <th>6</th>\n",
       "      <td>2017-08-21 11:03:36+00:00</td>\n",
       "      <td>899572685264617473</td>\n",
       "      <td>195454642</td>\n",
       "      <td>NaN</td>\n",
       "    </tr>\n",
       "    <tr>\n",
       "      <th>7</th>\n",
       "      <td>2017-10-24 12:41:43+00:00</td>\n",
       "      <td>922790204301246464</td>\n",
       "      <td>776465110856589312</td>\n",
       "      <td>NaN</td>\n",
       "    </tr>\n",
       "    <tr>\n",
       "      <th>8</th>\n",
       "      <td>2017-12-16 07:26:01+00:00</td>\n",
       "      <td>941917309098168320</td>\n",
       "      <td>410584380</td>\n",
       "      <td>NaN</td>\n",
       "    </tr>\n",
       "    <tr>\n",
       "      <th>9</th>\n",
       "      <td>2018-04-06 10:48:19+00:00</td>\n",
       "      <td>982193274319335424</td>\n",
       "      <td>4835674227</td>\n",
       "      <td>NaN</td>\n",
       "    </tr>\n",
       "  </tbody>\n",
       "</table>\n",
       "</div>"
      ],
      "text/plain": [
       "                  created_at              id_str             user.id  \\\n",
       "0  2013-03-19 10:59:53+00:00  313952961422295040           353934881   \n",
       "1  2013-03-19 23:00:32+00:00  314134318471593985           419828092   \n",
       "2  2013-12-12 14:14:54+00:00  411121987369832448          1257609660   \n",
       "3  2017-05-22 05:47:28+00:00  866515833895473153           264806169   \n",
       "4  2017-05-25 18:17:39+00:00  867791787007463424           508538467   \n",
       "5  2017-06-29 08:30:41+00:00  880327646810341377          2878256099   \n",
       "6  2017-08-21 11:03:36+00:00  899572685264617473           195454642   \n",
       "7  2017-10-24 12:41:43+00:00  922790204301246464  776465110856589312   \n",
       "8  2017-12-16 07:26:01+00:00  941917309098168320           410584380   \n",
       "9  2018-04-06 10:48:19+00:00  982193274319335424          4835674227   \n",
       "\n",
       "   retweeted_status.user.id  \n",
       "0                       NaN  \n",
       "1                       NaN  \n",
       "2                       NaN  \n",
       "3                       NaN  \n",
       "4                       NaN  \n",
       "5                       NaN  \n",
       "6                       NaN  \n",
       "7                       NaN  \n",
       "8                       NaN  \n",
       "9                       NaN  "
      ]
     },
     "execution_count": 3,
     "metadata": {},
     "output_type": "execute_result"
    }
   ],
   "source": [
    "data"
   ]
  },
  {
   "cell_type": "markdown",
   "metadata": {},
   "source": [
    "### sistemo database"
   ]
  },
  {
   "cell_type": "markdown",
   "metadata": {},
   "source": [
    "#### tengo solo i tweet con retweet (tolgo i NaN)"
   ]
  },
  {
   "cell_type": "code",
   "execution_count": 2,
   "metadata": {},
   "outputs": [],
   "source": [
    "data = pd.read_csv('table_retweets1.csv', low_memory = False)"
   ]
  },
  {
   "cell_type": "code",
   "execution_count": 3,
   "metadata": {},
   "outputs": [
    {
     "data": {
      "text/html": [
       "<div>\n",
       "<style scoped>\n",
       "    .dataframe tbody tr th:only-of-type {\n",
       "        vertical-align: middle;\n",
       "    }\n",
       "\n",
       "    .dataframe tbody tr th {\n",
       "        vertical-align: top;\n",
       "    }\n",
       "\n",
       "    .dataframe thead th {\n",
       "        text-align: right;\n",
       "    }\n",
       "</style>\n",
       "<table border=\"1\" class=\"dataframe\">\n",
       "  <thead>\n",
       "    <tr style=\"text-align: right;\">\n",
       "      <th></th>\n",
       "      <th>created_at</th>\n",
       "      <th>id_str</th>\n",
       "      <th>user.id</th>\n",
       "      <th>retweeted_status.user.id</th>\n",
       "    </tr>\n",
       "  </thead>\n",
       "  <tbody>\n",
       "    <tr>\n",
       "      <th>1249</th>\n",
       "      <td>2020-02-20 08:37:00+00:00</td>\n",
       "      <td>1230395916974247936</td>\n",
       "      <td>369687882</td>\n",
       "      <td>1.007990e+18</td>\n",
       "    </tr>\n",
       "    <tr>\n",
       "      <th>1250</th>\n",
       "      <td>2020-02-20 08:37:11+00:00</td>\n",
       "      <td>1230395960221630465</td>\n",
       "      <td>911650004955226113</td>\n",
       "      <td>1.469192e+09</td>\n",
       "    </tr>\n",
       "    <tr>\n",
       "      <th>1251</th>\n",
       "      <td>2020-02-20 08:37:24+00:00</td>\n",
       "      <td>1230396015137525761</td>\n",
       "      <td>480544142</td>\n",
       "      <td>3.840013e+07</td>\n",
       "    </tr>\n",
       "    <tr>\n",
       "      <th>1252</th>\n",
       "      <td>2020-02-20 08:37:35+00:00</td>\n",
       "      <td>1230396061497413632</td>\n",
       "      <td>1440784603</td>\n",
       "      <td>4.806271e+07</td>\n",
       "    </tr>\n",
       "    <tr>\n",
       "      <th>1253</th>\n",
       "      <td>2020-02-20 08:37:45+00:00</td>\n",
       "      <td>1230396104405110786</td>\n",
       "      <td>2305735179</td>\n",
       "      <td>4.855866e+08</td>\n",
       "    </tr>\n",
       "  </tbody>\n",
       "</table>\n",
       "</div>"
      ],
      "text/plain": [
       "                     created_at               id_str             user.id  \\\n",
       "1249  2020-02-20 08:37:00+00:00  1230395916974247936           369687882   \n",
       "1250  2020-02-20 08:37:11+00:00  1230395960221630465  911650004955226113   \n",
       "1251  2020-02-20 08:37:24+00:00  1230396015137525761           480544142   \n",
       "1252  2020-02-20 08:37:35+00:00  1230396061497413632          1440784603   \n",
       "1253  2020-02-20 08:37:45+00:00  1230396104405110786          2305735179   \n",
       "\n",
       "      retweeted_status.user.id  \n",
       "1249              1.007990e+18  \n",
       "1250              1.469192e+09  \n",
       "1251              3.840013e+07  \n",
       "1252              4.806271e+07  \n",
       "1253              4.855866e+08  "
      ]
     },
     "execution_count": 3,
     "metadata": {},
     "output_type": "execute_result"
    }
   ],
   "source": [
    "data_retweet = data[data['retweeted_status.user.id'].isnull() == False].copy()\n",
    "data_retweet.head()"
   ]
  },
  {
   "cell_type": "markdown",
   "metadata": {},
   "source": [
    "####  aggiungo colonna per la data"
   ]
  },
  {
   "cell_type": "code",
   "execution_count": 6,
   "metadata": {},
   "outputs": [
    {
     "name": "stdout",
     "output_type": "stream",
     "text": [
      "<class 'str'> <class 'numpy.int64'> <class 'numpy.int64'> <class 'pandas.core.series.Series'>\n"
     ]
    }
   ],
   "source": [
    "#columns type\n",
    "print(type(data.created_at[0]),type(data.id_str[0]), type(data['user.id'][0]),type(data['retweeted_status.user.id']))"
   ]
  },
  {
   "cell_type": "code",
   "execution_count": 187,
   "metadata": {},
   "outputs": [
    {
     "data": {
      "text/html": [
       "<div>\n",
       "<style scoped>\n",
       "    .dataframe tbody tr th:only-of-type {\n",
       "        vertical-align: middle;\n",
       "    }\n",
       "\n",
       "    .dataframe tbody tr th {\n",
       "        vertical-align: top;\n",
       "    }\n",
       "\n",
       "    .dataframe thead th {\n",
       "        text-align: right;\n",
       "    }\n",
       "</style>\n",
       "<table border=\"1\" class=\"dataframe\">\n",
       "  <thead>\n",
       "    <tr style=\"text-align: right;\">\n",
       "      <th></th>\n",
       "      <th>created_at</th>\n",
       "      <th>id_str</th>\n",
       "      <th>user.id</th>\n",
       "      <th>retweeted_status.user.id</th>\n",
       "      <th>date</th>\n",
       "    </tr>\n",
       "  </thead>\n",
       "  <tbody>\n",
       "    <tr>\n",
       "      <th>1249</th>\n",
       "      <td>2020-02-20 08:37:00+00:00</td>\n",
       "      <td>1230395916974247936</td>\n",
       "      <td>369687882</td>\n",
       "      <td>1.007990e+18</td>\n",
       "      <td>02-20</td>\n",
       "    </tr>\n",
       "    <tr>\n",
       "      <th>1250</th>\n",
       "      <td>2020-02-20 08:37:11+00:00</td>\n",
       "      <td>1230395960221630465</td>\n",
       "      <td>911650004955226113</td>\n",
       "      <td>1.469192e+09</td>\n",
       "      <td>02-20</td>\n",
       "    </tr>\n",
       "    <tr>\n",
       "      <th>1251</th>\n",
       "      <td>2020-02-20 08:37:24+00:00</td>\n",
       "      <td>1230396015137525761</td>\n",
       "      <td>480544142</td>\n",
       "      <td>3.840013e+07</td>\n",
       "      <td>02-20</td>\n",
       "    </tr>\n",
       "    <tr>\n",
       "      <th>1252</th>\n",
       "      <td>2020-02-20 08:37:35+00:00</td>\n",
       "      <td>1230396061497413632</td>\n",
       "      <td>1440784603</td>\n",
       "      <td>4.806271e+07</td>\n",
       "      <td>02-20</td>\n",
       "    </tr>\n",
       "    <tr>\n",
       "      <th>1253</th>\n",
       "      <td>2020-02-20 08:37:45+00:00</td>\n",
       "      <td>1230396104405110786</td>\n",
       "      <td>2305735179</td>\n",
       "      <td>4.855866e+08</td>\n",
       "      <td>02-20</td>\n",
       "    </tr>\n",
       "  </tbody>\n",
       "</table>\n",
       "</div>"
      ],
      "text/plain": [
       "                     created_at               id_str             user.id  \\\n",
       "1249  2020-02-20 08:37:00+00:00  1230395916974247936           369687882   \n",
       "1250  2020-02-20 08:37:11+00:00  1230395960221630465  911650004955226113   \n",
       "1251  2020-02-20 08:37:24+00:00  1230396015137525761           480544142   \n",
       "1252  2020-02-20 08:37:35+00:00  1230396061497413632          1440784603   \n",
       "1253  2020-02-20 08:37:45+00:00  1230396104405110786          2305735179   \n",
       "\n",
       "      retweeted_status.user.id   date  \n",
       "1249              1.007990e+18  02-20  \n",
       "1250              1.469192e+09  02-20  \n",
       "1251              3.840013e+07  02-20  \n",
       "1252              4.806271e+07  02-20  \n",
       "1253              4.855866e+08  02-20  "
      ]
     },
     "execution_count": 187,
     "metadata": {},
     "output_type": "execute_result"
    }
   ],
   "source": [
    "#data_retweet['created_at'] = pd.to_datetime(data_retweet['created_at'])\n",
    "data_retweet['date'] = data_retweet['created_at'].apply(lambda x: x[5:10])\n",
    "data_retweet.head()"
   ]
  },
  {
   "cell_type": "markdown",
   "metadata": {},
   "source": [
    "### distribuzione retweets giornaieri"
   ]
  },
  {
   "cell_type": "code",
   "execution_count": 8,
   "metadata": {},
   "outputs": [
    {
     "data": {
      "image/png": "[encoded data removed]",
      "text/plain": [
       "<Figure size 432x288 with 1 Axes>"
      ]
     },
     "metadata": {
      "needs_background": "light"
     },
     "output_type": "display_data"
    }
   ],
   "source": [
    "#ragrruppo in base al mese e al giorno\n",
    "count_per_day = data_retweet.groupby('date',as_index=False).count()\n",
    "\n",
    "plt.xlabel('date')\n",
    "plt.ylabel('number of tweets')\n",
    "plt.title('Tweets per Day')\n",
    "plt.xticks(count_per_day.index,count_per_day.date, rotation= 'vertical')\n",
    "plt.bar(count_per_day.index,count_per_day.id_str)\n",
    "plt.show()"
   ]
  },
  {
   "cell_type": "markdown",
   "metadata": {},
   "source": [
    "#### aggiungo colonna per contare i giorni"
   ]
  },
  {
   "cell_type": "code",
   "execution_count": 188,
   "metadata": {},
   "outputs": [],
   "source": [
    "data_retweet['day_count'] = data_retweet.groupby('date').ngroup().values"
   ]
  },
  {
   "cell_type": "code",
   "execution_count": 34,
   "metadata": {},
   "outputs": [
    {
     "data": {
      "text/html": [
       "<div>\n",
       "<style scoped>\n",
       "    .dataframe tbody tr th:only-of-type {\n",
       "        vertical-align: middle;\n",
       "    }\n",
       "\n",
       "    .dataframe tbody tr th {\n",
       "        vertical-align: top;\n",
       "    }\n",
       "\n",
       "    .dataframe thead th {\n",
       "        text-align: right;\n",
       "    }\n",
       "</style>\n",
       "<table border=\"1\" class=\"dataframe\">\n",
       "  <thead>\n",
       "    <tr style=\"text-align: right;\">\n",
       "      <th></th>\n",
       "      <th>created_at</th>\n",
       "      <th>id_str</th>\n",
       "      <th>user.id</th>\n",
       "      <th>retweeted_status.user.id</th>\n",
       "      <th>date</th>\n",
       "      <th>day_count</th>\n",
       "    </tr>\n",
       "  </thead>\n",
       "  <tbody>\n",
       "    <tr>\n",
       "      <th>1249</th>\n",
       "      <td>2020-02-20 08:37:00+00:00</td>\n",
       "      <td>1230395916974247936</td>\n",
       "      <td>369687882</td>\n",
       "      <td>1.007990e+18</td>\n",
       "      <td>02-20</td>\n",
       "      <td>0</td>\n",
       "    </tr>\n",
       "    <tr>\n",
       "      <th>1250</th>\n",
       "      <td>2020-02-20 08:37:11+00:00</td>\n",
       "      <td>1230395960221630465</td>\n",
       "      <td>911650004955226113</td>\n",
       "      <td>1.469192e+09</td>\n",
       "      <td>02-20</td>\n",
       "      <td>0</td>\n",
       "    </tr>\n",
       "    <tr>\n",
       "      <th>1251</th>\n",
       "      <td>2020-02-20 08:37:24+00:00</td>\n",
       "      <td>1230396015137525761</td>\n",
       "      <td>480544142</td>\n",
       "      <td>3.840013e+07</td>\n",
       "      <td>02-20</td>\n",
       "      <td>0</td>\n",
       "    </tr>\n",
       "    <tr>\n",
       "      <th>1252</th>\n",
       "      <td>2020-02-20 08:37:35+00:00</td>\n",
       "      <td>1230396061497413632</td>\n",
       "      <td>1440784603</td>\n",
       "      <td>4.806271e+07</td>\n",
       "      <td>02-20</td>\n",
       "      <td>0</td>\n",
       "    </tr>\n",
       "    <tr>\n",
       "      <th>1253</th>\n",
       "      <td>2020-02-20 08:37:45+00:00</td>\n",
       "      <td>1230396104405110786</td>\n",
       "      <td>2305735179</td>\n",
       "      <td>4.855866e+08</td>\n",
       "      <td>02-20</td>\n",
       "      <td>0</td>\n",
       "    </tr>\n",
       "  </tbody>\n",
       "</table>\n",
       "</div>"
      ],
      "text/plain": [
       "                     created_at               id_str             user.id  \\\n",
       "1249  2020-02-20 08:37:00+00:00  1230395916974247936           369687882   \n",
       "1250  2020-02-20 08:37:11+00:00  1230395960221630465  911650004955226113   \n",
       "1251  2020-02-20 08:37:24+00:00  1230396015137525761           480544142   \n",
       "1252  2020-02-20 08:37:35+00:00  1230396061497413632          1440784603   \n",
       "1253  2020-02-20 08:37:45+00:00  1230396104405110786          2305735179   \n",
       "\n",
       "      retweeted_status.user.id   date  day_count  \n",
       "1249              1.007990e+18  02-20          0  \n",
       "1250              1.469192e+09  02-20          0  \n",
       "1251              3.840013e+07  02-20          0  \n",
       "1252              4.806271e+07  02-20          0  \n",
       "1253              4.855866e+08  02-20          0  "
      ]
     },
     "execution_count": 34,
     "metadata": {},
     "output_type": "execute_result"
    }
   ],
   "source": [
    "data_retweet.head()"
   ]
  },
  {
   "cell_type": "markdown",
   "metadata": {},
   "source": [
    "#### aggiungo una colonna per i pesi del network"
   ]
  },
  {
   "cell_type": "code",
   "execution_count": 192,
   "metadata": {},
   "outputs": [],
   "source": [
    "data_retweet['weight'] = 1"
   ]
  },
  {
   "cell_type": "code",
   "execution_count": 193,
   "metadata": {},
   "outputs": [],
   "source": [
    "data_retweet.to_csv('data_retweet',index=False)"
   ]
  },
  {
   "cell_type": "markdown",
   "metadata": {},
   "source": [
    "#### costruisco un network di 3 giorni: 20,25,26 febbraio"
   ]
  },
  {
   "cell_type": "code",
   "execution_count": 36,
   "metadata": {},
   "outputs": [],
   "source": [
    "sub_set = data_retweet[data_retweet.day_count < 3]\n",
    "sub_set_3_days = sub_set.copy()"
   ]
  },
  {
   "cell_type": "code",
   "execution_count": 37,
   "metadata": {},
   "outputs": [],
   "source": [
    "#raggruppo i tweet in base a utente del tweet ed utente del retweet, che sono target e source del network\n",
    "#'retweeted_status.user.id' è l'id di colui che è stato retweetato da 'user.id'\n",
    "db_for_network = sub_set_3_days.groupby(['retweeted_status.user.id','user.id'], as_index=False).count()"
   ]
  },
  {
   "cell_type": "code",
   "execution_count": 38,
   "metadata": {},
   "outputs": [
    {
     "data": {
      "text/html": [
       "<div>\n",
       "<style scoped>\n",
       "    .dataframe tbody tr th:only-of-type {\n",
       "        vertical-align: middle;\n",
       "    }\n",
       "\n",
       "    .dataframe tbody tr th {\n",
       "        vertical-align: top;\n",
       "    }\n",
       "\n",
       "    .dataframe thead th {\n",
       "        text-align: right;\n",
       "    }\n",
       "</style>\n",
       "<table border=\"1\" class=\"dataframe\">\n",
       "  <thead>\n",
       "    <tr style=\"text-align: right;\">\n",
       "      <th></th>\n",
       "      <th>retweeted_status.user.id</th>\n",
       "      <th>user.id</th>\n",
       "      <th>created_at</th>\n",
       "      <th>id_str</th>\n",
       "      <th>date</th>\n",
       "      <th>day_count</th>\n",
       "      <th>weight</th>\n",
       "    </tr>\n",
       "  </thead>\n",
       "  <tbody>\n",
       "    <tr>\n",
       "      <th>0</th>\n",
       "      <td>45763.0</td>\n",
       "      <td>218488177</td>\n",
       "      <td>1</td>\n",
       "      <td>1</td>\n",
       "      <td>1</td>\n",
       "      <td>1</td>\n",
       "      <td>1</td>\n",
       "    </tr>\n",
       "    <tr>\n",
       "      <th>1</th>\n",
       "      <td>394613.0</td>\n",
       "      <td>2002721</td>\n",
       "      <td>1</td>\n",
       "      <td>1</td>\n",
       "      <td>1</td>\n",
       "      <td>1</td>\n",
       "      <td>1</td>\n",
       "    </tr>\n",
       "    <tr>\n",
       "      <th>2</th>\n",
       "      <td>394613.0</td>\n",
       "      <td>3015121</td>\n",
       "      <td>1</td>\n",
       "      <td>1</td>\n",
       "      <td>1</td>\n",
       "      <td>1</td>\n",
       "      <td>1</td>\n",
       "    </tr>\n",
       "    <tr>\n",
       "      <th>3</th>\n",
       "      <td>394613.0</td>\n",
       "      <td>7830782</td>\n",
       "      <td>1</td>\n",
       "      <td>1</td>\n",
       "      <td>1</td>\n",
       "      <td>1</td>\n",
       "      <td>1</td>\n",
       "    </tr>\n",
       "    <tr>\n",
       "      <th>4</th>\n",
       "      <td>394613.0</td>\n",
       "      <td>11198782</td>\n",
       "      <td>1</td>\n",
       "      <td>1</td>\n",
       "      <td>1</td>\n",
       "      <td>1</td>\n",
       "      <td>1</td>\n",
       "    </tr>\n",
       "  </tbody>\n",
       "</table>\n",
       "</div>"
      ],
      "text/plain": [
       "   retweeted_status.user.id    user.id  created_at  id_str  date  day_count  \\\n",
       "0                   45763.0  218488177           1       1     1          1   \n",
       "1                  394613.0    2002721           1       1     1          1   \n",
       "2                  394613.0    3015121           1       1     1          1   \n",
       "3                  394613.0    7830782           1       1     1          1   \n",
       "4                  394613.0   11198782           1       1     1          1   \n",
       "\n",
       "   weight  \n",
       "0       1  \n",
       "1       1  \n",
       "2       1  \n",
       "3       1  \n",
       "4       1  "
      ]
     },
     "execution_count": 38,
     "metadata": {},
     "output_type": "execute_result"
    }
   ],
   "source": [
    "db_for_network.head()"
   ]
  },
  {
   "cell_type": "markdown",
   "metadata": {},
   "source": [
    "#### tengo solo i link con peso > 1, così da evitare eventuale rumore "
   ]
  },
  {
   "cell_type": "code",
   "execution_count": 39,
   "metadata": {},
   "outputs": [
    {
     "name": "stdout",
     "output_type": "stream",
     "text": [
      "numero link della rete: 14003\n"
     ]
    },
    {
     "data": {
      "text/html": [
       "<div>\n",
       "<style scoped>\n",
       "    .dataframe tbody tr th:only-of-type {\n",
       "        vertical-align: middle;\n",
       "    }\n",
       "\n",
       "    .dataframe tbody tr th {\n",
       "        vertical-align: top;\n",
       "    }\n",
       "\n",
       "    .dataframe thead th {\n",
       "        text-align: right;\n",
       "    }\n",
       "</style>\n",
       "<table border=\"1\" class=\"dataframe\">\n",
       "  <thead>\n",
       "    <tr style=\"text-align: right;\">\n",
       "      <th></th>\n",
       "      <th>retweeted_status.user.id</th>\n",
       "      <th>user.id</th>\n",
       "      <th>created_at</th>\n",
       "      <th>id_str</th>\n",
       "      <th>date</th>\n",
       "      <th>day_count</th>\n",
       "      <th>weight</th>\n",
       "    </tr>\n",
       "  </thead>\n",
       "  <tbody>\n",
       "    <tr>\n",
       "      <th>10</th>\n",
       "      <td>394613</td>\n",
       "      <td>169112670</td>\n",
       "      <td>3</td>\n",
       "      <td>3</td>\n",
       "      <td>3</td>\n",
       "      <td>3</td>\n",
       "      <td>3</td>\n",
       "    </tr>\n",
       "    <tr>\n",
       "      <th>111</th>\n",
       "      <td>673203</td>\n",
       "      <td>29482112</td>\n",
       "      <td>2</td>\n",
       "      <td>2</td>\n",
       "      <td>2</td>\n",
       "      <td>2</td>\n",
       "      <td>2</td>\n",
       "    </tr>\n",
       "    <tr>\n",
       "      <th>122</th>\n",
       "      <td>673203</td>\n",
       "      <td>545448505</td>\n",
       "      <td>2</td>\n",
       "      <td>2</td>\n",
       "      <td>2</td>\n",
       "      <td>2</td>\n",
       "      <td>2</td>\n",
       "    </tr>\n",
       "    <tr>\n",
       "      <th>146</th>\n",
       "      <td>814227</td>\n",
       "      <td>40985455</td>\n",
       "      <td>2</td>\n",
       "      <td>2</td>\n",
       "      <td>2</td>\n",
       "      <td>2</td>\n",
       "      <td>2</td>\n",
       "    </tr>\n",
       "    <tr>\n",
       "      <th>159</th>\n",
       "      <td>814227</td>\n",
       "      <td>151482583</td>\n",
       "      <td>2</td>\n",
       "      <td>2</td>\n",
       "      <td>2</td>\n",
       "      <td>2</td>\n",
       "      <td>2</td>\n",
       "    </tr>\n",
       "  </tbody>\n",
       "</table>\n",
       "</div>"
      ],
      "text/plain": [
       "     retweeted_status.user.id    user.id  created_at  id_str  date  day_count  \\\n",
       "10                     394613  169112670           3       3     3          3   \n",
       "111                    673203   29482112           2       2     2          2   \n",
       "122                    673203  545448505           2       2     2          2   \n",
       "146                    814227   40985455           2       2     2          2   \n",
       "159                    814227  151482583           2       2     2          2   \n",
       "\n",
       "     weight  \n",
       "10        3  \n",
       "111       2  \n",
       "122       2  \n",
       "146       2  \n",
       "159       2  "
      ]
     },
     "execution_count": 39,
     "metadata": {},
     "output_type": "execute_result"
    }
   ],
   "source": [
    "db_for_network = db_for_network[db_for_network.weight > 1].astype(int) #per comodità metto tutti i valori interi, anche per evitar problemi se si usa Graph.DataFrame che trasforma in stringa e ci sarebbero problemi a confrontare str(int) e str(float)\n",
    "print('numero link della rete:',len(db_for_network))\n",
    "db_for_network.head()"
   ]
  },
  {
   "cell_type": "markdown",
   "metadata": {},
   "source": [
    "#### costruisco il network"
   ]
  },
  {
   "cell_type": "code",
   "execution_count": 40,
   "metadata": {},
   "outputs": [],
   "source": [
    "#prova per vedere come funziona Graph.DataFrame\n",
    "aaa_df = pd.DataFrame({'s':[1,2,3,4],'t':[3,4,5,6],'w':[1,2,1,1]})\n",
    "aaa_df_v = pd.DataFrame({'name' : np.unique(aaa_df.values[:,:2])})"
   ]
  },
  {
   "cell_type": "code",
   "execution_count": 41,
   "metadata": {},
   "outputs": [
    {
     "name": "stdout",
     "output_type": "stream",
     "text": [
      "   s  t  w\n",
      "0  1  3  1\n",
      "1  2  4  2\n",
      "2  3  5  1\n",
      "3  4  6  1\n",
      "   name\n",
      "0     1\n",
      "1     2\n",
      "2     3\n",
      "3     4\n",
      "4     5\n",
      "5     6\n"
     ]
    }
   ],
   "source": [
    "print(aaa_df)\n",
    "print(aaa_df_v)"
   ]
  },
  {
   "cell_type": "code",
   "execution_count": 43,
   "metadata": {},
   "outputs": [],
   "source": [
    "# dataframe deve essere in formato stringa altrimenti non funziona\n",
    "aaa_g = ig.Graph.DataFrame(aaa_df.astype(str),vertices = aaa_df_v)"
   ]
  },
  {
   "cell_type": "code",
   "execution_count": 44,
   "metadata": {},
   "outputs": [
    {
     "data": {
      "text/plain": [
       "'IGRAPH DN-- 6 4 -- \\n+ attr: name (v), w (e)'"
      ]
     },
     "execution_count": 44,
     "metadata": {},
     "output_type": "execute_result"
    }
   ],
   "source": [
    "aaa_g.summary()"
   ]
  },
  {
   "cell_type": "markdown",
   "metadata": {},
   "source": [
    "#### uso TupleList che è più rapido"
   ]
  },
  {
   "cell_type": "code",
   "execution_count": 45,
   "metadata": {},
   "outputs": [],
   "source": [
    "graph_3_days = ig.Graph.TupleList(db_for_network[['retweeted_status.user.id','user.id','weight']].itertuples(index=False), directed=True, weights=True)"
   ]
  },
  {
   "cell_type": "code",
   "execution_count": 130,
   "metadata": {},
   "outputs": [
    {
     "data": {
      "text/plain": [
       "'IGRAPH DNW- 7771 14003 -- \\n+ attr: name (v), weight (e)'"
      ]
     },
     "execution_count": 130,
     "metadata": {},
     "output_type": "execute_result"
    }
   ],
   "source": [
    "graph_3_days.summary()"
   ]
  },
  {
   "cell_type": "markdown",
   "metadata": {},
   "source": [
    "### Analisi delle misure di centralita"
   ]
  },
  {
   "cell_type": "code",
   "execution_count": 133,
   "metadata": {},
   "outputs": [],
   "source": [
    "#definisco una funzione per il calcolo delle misure, che restituisca un dataframe \n",
    "def centrality_measures(graph, df, weights = None):\n",
    "    # graph = igraph.Graph object\n",
    "    # df = pandas.DataFrame object\n",
    "    df['name'] = graph.vs['name']\n",
    "    df['betweenness'] = graph.betweenness(weights=weights)\n",
    "    df['pagerank'] = graph.pagerank(weights=weights)\n",
    "    df['degree'] = graph.degree()\n",
    "    df['outdegree'] = graph.outdegree()\n",
    "    df['local_transitivity'] = graph.transitivity_local_undirected(mode = 'zero',weights=weights)\n",
    "    if graph.is_simple():\n",
    "        df['knn'] = graph.knn(weights=weights)\n",
    "    return df"
   ]
  },
  {
   "cell_type": "code",
   "execution_count": 134,
   "metadata": {},
   "outputs": [
    {
     "data": {
      "text/html": [
       "<div>\n",
       "<style scoped>\n",
       "    .dataframe tbody tr th:only-of-type {\n",
       "        vertical-align: middle;\n",
       "    }\n",
       "\n",
       "    .dataframe tbody tr th {\n",
       "        vertical-align: top;\n",
       "    }\n",
       "\n",
       "    .dataframe thead th {\n",
       "        text-align: right;\n",
       "    }\n",
       "</style>\n",
       "<table border=\"1\" class=\"dataframe\">\n",
       "  <thead>\n",
       "    <tr style=\"text-align: right;\">\n",
       "      <th></th>\n",
       "      <th>name</th>\n",
       "      <th>betweenness</th>\n",
       "      <th>pagerank</th>\n",
       "      <th>degree</th>\n",
       "      <th>outdegree</th>\n",
       "      <th>local_transitivity</th>\n",
       "    </tr>\n",
       "  </thead>\n",
       "  <tbody>\n",
       "    <tr>\n",
       "      <th>0</th>\n",
       "      <td>394613</td>\n",
       "      <td>0.0</td>\n",
       "      <td>0.000099</td>\n",
       "      <td>1</td>\n",
       "      <td>1</td>\n",
       "      <td>0.0</td>\n",
       "    </tr>\n",
       "    <tr>\n",
       "      <th>1</th>\n",
       "      <td>169112670</td>\n",
       "      <td>0.0</td>\n",
       "      <td>0.000183</td>\n",
       "      <td>1</td>\n",
       "      <td>0</td>\n",
       "      <td>0.0</td>\n",
       "    </tr>\n",
       "    <tr>\n",
       "      <th>2</th>\n",
       "      <td>673203</td>\n",
       "      <td>0.0</td>\n",
       "      <td>0.000099</td>\n",
       "      <td>2</td>\n",
       "      <td>2</td>\n",
       "      <td>0.0</td>\n",
       "    </tr>\n",
       "    <tr>\n",
       "      <th>3</th>\n",
       "      <td>29482112</td>\n",
       "      <td>0.0</td>\n",
       "      <td>0.000141</td>\n",
       "      <td>1</td>\n",
       "      <td>0</td>\n",
       "      <td>0.0</td>\n",
       "    </tr>\n",
       "    <tr>\n",
       "      <th>4</th>\n",
       "      <td>545448505</td>\n",
       "      <td>0.0</td>\n",
       "      <td>0.000141</td>\n",
       "      <td>1</td>\n",
       "      <td>0</td>\n",
       "      <td>0.0</td>\n",
       "    </tr>\n",
       "  </tbody>\n",
       "</table>\n",
       "</div>"
      ],
      "text/plain": [
       "        name  betweenness  pagerank  degree  outdegree  local_transitivity\n",
       "0     394613          0.0  0.000099       1          1                 0.0\n",
       "1  169112670          0.0  0.000183       1          0                 0.0\n",
       "2     673203          0.0  0.000099       2          2                 0.0\n",
       "3   29482112          0.0  0.000141       1          0                 0.0\n",
       "4  545448505          0.0  0.000141       1          0                 0.0"
      ]
     },
     "execution_count": 134,
     "metadata": {},
     "output_type": "execute_result"
    }
   ],
   "source": [
    "measures_3_days = centrality_measures(graph_3_days,pd.DataFrame(),weights ='weight')\n",
    "measures_3_days.head()"
   ]
  },
  {
   "cell_type": "markdown",
   "metadata": {},
   "source": [
    "#### analisi in periodi più lunghi, una settimana, un mese"
   ]
  },
  {
   "cell_type": "markdown",
   "metadata": {},
   "source": [
    "#### Costruisco un funzione che automatizzi il processo"
   ]
  },
  {
   "cell_type": "code",
   "execution_count": 5,
   "metadata": {},
   "outputs": [],
   "source": [
    "def graph(fini_day,init_day = 0):\n",
    "    sub_set = data_retweet[(data_retweet.day_count >= init_day)&(data_retweet.day_count < fini_day)]\n",
    "    db_for_network = sub_set.groupby(['retweeted_status.user.id','user.id'], as_index=False).count()\n",
    "    db_for_network = db_for_network[db_for_network.weight > 1].astype(int)\n",
    "    return ig.Graph.TupleList(db_for_network[['retweeted_status.user.id','user.id','weight']].itertuples(index=False), directed=True, weights=True)"
   ]
  },
  {
   "cell_type": "markdown",
   "metadata": {},
   "source": [
    "##### una settimana"
   ]
  },
  {
   "cell_type": "code",
   "execution_count": 136,
   "metadata": {},
   "outputs": [
    {
     "data": {
      "text/html": [
       "<div>\n",
       "<style scoped>\n",
       "    .dataframe tbody tr th:only-of-type {\n",
       "        vertical-align: middle;\n",
       "    }\n",
       "\n",
       "    .dataframe tbody tr th {\n",
       "        vertical-align: top;\n",
       "    }\n",
       "\n",
       "    .dataframe thead th {\n",
       "        text-align: right;\n",
       "    }\n",
       "</style>\n",
       "<table border=\"1\" class=\"dataframe\">\n",
       "  <thead>\n",
       "    <tr style=\"text-align: right;\">\n",
       "      <th></th>\n",
       "      <th>name</th>\n",
       "      <th>betweenness</th>\n",
       "      <th>pagerank</th>\n",
       "      <th>degree</th>\n",
       "      <th>outdegree</th>\n",
       "      <th>local_transitivity</th>\n",
       "    </tr>\n",
       "  </thead>\n",
       "  <tbody>\n",
       "    <tr>\n",
       "      <th>0</th>\n",
       "      <td>394613</td>\n",
       "      <td>0.0</td>\n",
       "      <td>0.000035</td>\n",
       "      <td>24</td>\n",
       "      <td>24</td>\n",
       "      <td>0.000000</td>\n",
       "    </tr>\n",
       "    <tr>\n",
       "      <th>1</th>\n",
       "      <td>2002721</td>\n",
       "      <td>0.0</td>\n",
       "      <td>0.000038</td>\n",
       "      <td>2</td>\n",
       "      <td>0</td>\n",
       "      <td>0.000000</td>\n",
       "    </tr>\n",
       "    <tr>\n",
       "      <th>2</th>\n",
       "      <td>16192743</td>\n",
       "      <td>0.0</td>\n",
       "      <td>0.000036</td>\n",
       "      <td>1</td>\n",
       "      <td>0</td>\n",
       "      <td>0.000000</td>\n",
       "    </tr>\n",
       "    <tr>\n",
       "      <th>3</th>\n",
       "      <td>29521878</td>\n",
       "      <td>0.0</td>\n",
       "      <td>0.000051</td>\n",
       "      <td>12</td>\n",
       "      <td>0</td>\n",
       "      <td>0.074747</td>\n",
       "    </tr>\n",
       "    <tr>\n",
       "      <th>4</th>\n",
       "      <td>54964150</td>\n",
       "      <td>0.0</td>\n",
       "      <td>0.000036</td>\n",
       "      <td>1</td>\n",
       "      <td>0</td>\n",
       "      <td>0.000000</td>\n",
       "    </tr>\n",
       "  </tbody>\n",
       "</table>\n",
       "</div>"
      ],
      "text/plain": [
       "       name  betweenness  pagerank  degree  outdegree  local_transitivity\n",
       "0    394613          0.0  0.000035      24         24            0.000000\n",
       "1   2002721          0.0  0.000038       2          0            0.000000\n",
       "2  16192743          0.0  0.000036       1          0            0.000000\n",
       "3  29521878          0.0  0.000051      12          0            0.074747\n",
       "4  54964150          0.0  0.000036       1          0            0.000000"
      ]
     },
     "execution_count": 136,
     "metadata": {},
     "output_type": "execute_result"
    }
   ],
   "source": [
    "measures_7_days = centrality_measures(grap7),pd.DataFrame(),weights ='weight')\n",
    "measures_7_days.head()"
   ]
  },
  {
   "cell_type": "markdown",
   "metadata": {},
   "source": [
    "##### un mese"
   ]
  },
  {
   "cell_type": "code",
   "execution_count": 137,
   "metadata": {},
   "outputs": [
    {
     "data": {
      "text/html": [
       "<div>\n",
       "<style scoped>\n",
       "    .dataframe tbody tr th:only-of-type {\n",
       "        vertical-align: middle;\n",
       "    }\n",
       "\n",
       "    .dataframe tbody tr th {\n",
       "        vertical-align: top;\n",
       "    }\n",
       "\n",
       "    .dataframe thead th {\n",
       "        text-align: right;\n",
       "    }\n",
       "</style>\n",
       "<table border=\"1\" class=\"dataframe\">\n",
       "  <thead>\n",
       "    <tr style=\"text-align: right;\">\n",
       "      <th></th>\n",
       "      <th>name</th>\n",
       "      <th>betweenness</th>\n",
       "      <th>pagerank</th>\n",
       "      <th>degree</th>\n",
       "      <th>outdegree</th>\n",
       "      <th>local_transitivity</th>\n",
       "    </tr>\n",
       "  </thead>\n",
       "  <tbody>\n",
       "    <tr>\n",
       "      <th>0</th>\n",
       "      <td>22083</td>\n",
       "      <td>0.000000e+00</td>\n",
       "      <td>0.000007</td>\n",
       "      <td>1</td>\n",
       "      <td>1</td>\n",
       "      <td>0.000000</td>\n",
       "    </tr>\n",
       "    <tr>\n",
       "      <th>1</th>\n",
       "      <td>70054648</td>\n",
       "      <td>1.317800e+05</td>\n",
       "      <td>0.000184</td>\n",
       "      <td>70</td>\n",
       "      <td>14</td>\n",
       "      <td>0.083783</td>\n",
       "    </tr>\n",
       "    <tr>\n",
       "      <th>2</th>\n",
       "      <td>394613</td>\n",
       "      <td>1.911918e+06</td>\n",
       "      <td>0.000012</td>\n",
       "      <td>234</td>\n",
       "      <td>232</td>\n",
       "      <td>0.012486</td>\n",
       "    </tr>\n",
       "    <tr>\n",
       "      <th>3</th>\n",
       "      <td>808231</td>\n",
       "      <td>0.000000e+00</td>\n",
       "      <td>0.000009</td>\n",
       "      <td>27</td>\n",
       "      <td>0</td>\n",
       "      <td>0.201450</td>\n",
       "    </tr>\n",
       "    <tr>\n",
       "      <th>4</th>\n",
       "      <td>2002721</td>\n",
       "      <td>0.000000e+00</td>\n",
       "      <td>0.000008</td>\n",
       "      <td>23</td>\n",
       "      <td>0</td>\n",
       "      <td>0.066535</td>\n",
       "    </tr>\n",
       "  </tbody>\n",
       "</table>\n",
       "</div>"
      ],
      "text/plain": [
       "       name   betweenness  pagerank  degree  outdegree  local_transitivity\n",
       "0     22083  0.000000e+00  0.000007       1          1            0.000000\n",
       "1  70054648  1.317800e+05  0.000184      70         14            0.083783\n",
       "2    394613  1.911918e+06  0.000012     234        232            0.012486\n",
       "3    808231  0.000000e+00  0.000009      27          0            0.201450\n",
       "4   2002721  0.000000e+00  0.000008      23          0            0.066535"
      ]
     },
     "execution_count": 137,
     "metadata": {},
     "output_type": "execute_result"
    }
   ],
   "source": [
    "measures_30_days = centrality_measures(graph(30),pd.DataFrame(),weights ='weight')\n",
    "measures_30_days.head()"
   ]
  },
  {
   "cell_type": "markdown",
   "metadata": {},
   "source": [
    "##### due sttimane"
   ]
  },
  {
   "cell_type": "code",
   "execution_count": 138,
   "metadata": {},
   "outputs": [
    {
     "data": {
      "text/html": [
       "<div>\n",
       "<style scoped>\n",
       "    .dataframe tbody tr th:only-of-type {\n",
       "        vertical-align: middle;\n",
       "    }\n",
       "\n",
       "    .dataframe tbody tr th {\n",
       "        vertical-align: top;\n",
       "    }\n",
       "\n",
       "    .dataframe thead th {\n",
       "        text-align: right;\n",
       "    }\n",
       "</style>\n",
       "<table border=\"1\" class=\"dataframe\">\n",
       "  <thead>\n",
       "    <tr style=\"text-align: right;\">\n",
       "      <th></th>\n",
       "      <th>name</th>\n",
       "      <th>betweenness</th>\n",
       "      <th>pagerank</th>\n",
       "      <th>degree</th>\n",
       "      <th>outdegree</th>\n",
       "      <th>local_transitivity</th>\n",
       "    </tr>\n",
       "  </thead>\n",
       "  <tbody>\n",
       "    <tr>\n",
       "      <th>0</th>\n",
       "      <td>394613</td>\n",
       "      <td>1314.600000</td>\n",
       "      <td>0.000017</td>\n",
       "      <td>119</td>\n",
       "      <td>118</td>\n",
       "      <td>0.008502</td>\n",
       "    </tr>\n",
       "    <tr>\n",
       "      <th>1</th>\n",
       "      <td>808231</td>\n",
       "      <td>0.000000</td>\n",
       "      <td>0.000018</td>\n",
       "      <td>11</td>\n",
       "      <td>0</td>\n",
       "      <td>0.211321</td>\n",
       "    </tr>\n",
       "    <tr>\n",
       "      <th>2</th>\n",
       "      <td>2002721</td>\n",
       "      <td>0.000000</td>\n",
       "      <td>0.000018</td>\n",
       "      <td>8</td>\n",
       "      <td>0</td>\n",
       "      <td>0.000000</td>\n",
       "    </tr>\n",
       "    <tr>\n",
       "      <th>3</th>\n",
       "      <td>9584192</td>\n",
       "      <td>25412.128236</td>\n",
       "      <td>0.000020</td>\n",
       "      <td>54</td>\n",
       "      <td>41</td>\n",
       "      <td>0.113546</td>\n",
       "    </tr>\n",
       "    <tr>\n",
       "      <th>4</th>\n",
       "      <td>13056322</td>\n",
       "      <td>0.000000</td>\n",
       "      <td>0.000017</td>\n",
       "      <td>1</td>\n",
       "      <td>0</td>\n",
       "      <td>0.000000</td>\n",
       "    </tr>\n",
       "  </tbody>\n",
       "</table>\n",
       "</div>"
      ],
      "text/plain": [
       "       name   betweenness  pagerank  degree  outdegree  local_transitivity\n",
       "0    394613   1314.600000  0.000017     119        118            0.008502\n",
       "1    808231      0.000000  0.000018      11          0            0.211321\n",
       "2   2002721      0.000000  0.000018       8          0            0.000000\n",
       "3   9584192  25412.128236  0.000020      54         41            0.113546\n",
       "4  13056322      0.000000  0.000017       1          0            0.000000"
      ]
     },
     "execution_count": 138,
     "metadata": {},
     "output_type": "execute_result"
    }
   ],
   "source": [
    "measures_first_2_week = centrality_measures(graph(14),pd.DataFrame(),weights='weight')\n",
    "measures_first_2_week.head()"
   ]
  },
  {
   "cell_type": "markdown",
   "metadata": {},
   "source": [
    "##### ultime due settimane"
   ]
  },
  {
   "cell_type": "code",
   "execution_count": 139,
   "metadata": {},
   "outputs": [
    {
     "ename": "InternalError",
     "evalue": "Error at ../../../source/igraph/src/centrality.c:1632: Weight vector must be positive, Invalid value",
     "output_type": "error",
     "traceback": [
      "\u001b[0;31m---------------------------------------------------------------------------\u001b[0m",
      "\u001b[0;31mInternalError\u001b[0m                             Traceback (most recent call last)",
      "\u001b[0;32m<ipython-input-139-119c912f0236>\u001b[0m in \u001b[0;36m<module>\u001b[0;34m\u001b[0m\n\u001b[0;32m----> 1\u001b[0;31m \u001b[0mmeasures_last_2_week\u001b[0m \u001b[0;34m=\u001b[0m \u001b[0mcentrality_measures\u001b[0m\u001b[0;34m(\u001b[0m\u001b[0mgraph\u001b[0m\u001b[0;34m(\u001b[0m\u001b[0;36m15\u001b[0m\u001b[0;34m,\u001b[0m\u001b[0;36m30\u001b[0m\u001b[0;34m)\u001b[0m\u001b[0;34m,\u001b[0m\u001b[0mpd\u001b[0m\u001b[0;34m.\u001b[0m\u001b[0mDataFrame\u001b[0m\u001b[0;34m(\u001b[0m\u001b[0;34m)\u001b[0m\u001b[0;34m,\u001b[0m\u001b[0mweights\u001b[0m\u001b[0;34m=\u001b[0m\u001b[0;34m'weight'\u001b[0m\u001b[0;34m)\u001b[0m\u001b[0;34m\u001b[0m\u001b[0;34m\u001b[0m\u001b[0m\n\u001b[0m\u001b[1;32m      2\u001b[0m \u001b[0mmeasures_last_2_week\u001b[0m\u001b[0;34m.\u001b[0m\u001b[0mhead\u001b[0m\u001b[0;34m(\u001b[0m\u001b[0;34m)\u001b[0m\u001b[0;34m\u001b[0m\u001b[0;34m\u001b[0m\u001b[0m\n",
      "\u001b[0;32m<ipython-input-133-ed3eefa506d6>\u001b[0m in \u001b[0;36mcentrality_measures\u001b[0;34m(graph, df, weights)\u001b[0m\n\u001b[1;32m      4\u001b[0m     \u001b[0;31m# df = pandas.DataFrame object\u001b[0m\u001b[0;34m\u001b[0m\u001b[0;34m\u001b[0m\u001b[0;34m\u001b[0m\u001b[0m\n\u001b[1;32m      5\u001b[0m     \u001b[0mdf\u001b[0m\u001b[0;34m[\u001b[0m\u001b[0;34m'name'\u001b[0m\u001b[0;34m]\u001b[0m \u001b[0;34m=\u001b[0m \u001b[0mgraph\u001b[0m\u001b[0;34m.\u001b[0m\u001b[0mvs\u001b[0m\u001b[0;34m[\u001b[0m\u001b[0;34m'name'\u001b[0m\u001b[0;34m]\u001b[0m\u001b[0;34m\u001b[0m\u001b[0;34m\u001b[0m\u001b[0m\n\u001b[0;32m----> 6\u001b[0;31m     \u001b[0mdf\u001b[0m\u001b[0;34m[\u001b[0m\u001b[0;34m'betweenness'\u001b[0m\u001b[0;34m]\u001b[0m \u001b[0;34m=\u001b[0m \u001b[0mgraph\u001b[0m\u001b[0;34m.\u001b[0m\u001b[0mbetweenness\u001b[0m\u001b[0;34m(\u001b[0m\u001b[0mweights\u001b[0m\u001b[0;34m=\u001b[0m\u001b[0mweights\u001b[0m\u001b[0;34m)\u001b[0m\u001b[0;34m\u001b[0m\u001b[0;34m\u001b[0m\u001b[0m\n\u001b[0m\u001b[1;32m      7\u001b[0m     \u001b[0mdf\u001b[0m\u001b[0;34m[\u001b[0m\u001b[0;34m'pagerank'\u001b[0m\u001b[0;34m]\u001b[0m \u001b[0;34m=\u001b[0m \u001b[0mgraph\u001b[0m\u001b[0;34m.\u001b[0m\u001b[0mpagerank\u001b[0m\u001b[0;34m(\u001b[0m\u001b[0mweights\u001b[0m\u001b[0;34m=\u001b[0m\u001b[0mweights\u001b[0m\u001b[0;34m)\u001b[0m\u001b[0;34m\u001b[0m\u001b[0;34m\u001b[0m\u001b[0m\n\u001b[1;32m      8\u001b[0m     \u001b[0mdf\u001b[0m\u001b[0;34m[\u001b[0m\u001b[0;34m'degree'\u001b[0m\u001b[0;34m]\u001b[0m \u001b[0;34m=\u001b[0m \u001b[0mgraph\u001b[0m\u001b[0;34m.\u001b[0m\u001b[0mdegree\u001b[0m\u001b[0;34m(\u001b[0m\u001b[0;34m)\u001b[0m\u001b[0;34m\u001b[0m\u001b[0;34m\u001b[0m\u001b[0m\n",
      "\u001b[0;31mInternalError\u001b[0m: Error at ../../../source/igraph/src/centrality.c:1632: Weight vector must be positive, Invalid value"
     ]
    }
   ],
   "source": [
    "measures_last_2_week = centrality_measures(graph(15,30),pd.DataFrame(),weights='weight')\n",
    "measures_last_2_week.head()"
   ]
  },
  {
   "cell_type": "code",
   "execution_count": 140,
   "metadata": {},
   "outputs": [],
   "source": [
    "sub_set = data_retweet[(data_retweet.day_count >= 15)&(data_retweet.day_count <= 30)]\n",
    "db_for_network = sub_set.groupby(['retweeted_status.user.id','user.id'], as_index=False).count()\n",
    "db_for_network = db_for_network[db_for_network.weight > 1].astype(int)\n",
    "g = ig.Graph.TupleList(db_for_network[['retweeted_status.user.id','user.id','weight']].itertuples(index=False), directed=True, weights=True)"
   ]
  },
  {
   "cell_type": "code",
   "execution_count": 144,
   "metadata": {},
   "outputs": [
    {
     "data": {
      "text/html": [
       "<div>\n",
       "<style scoped>\n",
       "    .dataframe tbody tr th:only-of-type {\n",
       "        vertical-align: middle;\n",
       "    }\n",
       "\n",
       "    .dataframe tbody tr th {\n",
       "        vertical-align: top;\n",
       "    }\n",
       "\n",
       "    .dataframe thead th {\n",
       "        text-align: right;\n",
       "    }\n",
       "</style>\n",
       "<table border=\"1\" class=\"dataframe\">\n",
       "  <thead>\n",
       "    <tr style=\"text-align: right;\">\n",
       "      <th></th>\n",
       "      <th>name</th>\n",
       "      <th>betweenness</th>\n",
       "      <th>pagerank</th>\n",
       "      <th>degree</th>\n",
       "      <th>outdegree</th>\n",
       "      <th>local_transitivity</th>\n",
       "    </tr>\n",
       "  </thead>\n",
       "  <tbody>\n",
       "    <tr>\n",
       "      <th>0</th>\n",
       "      <td>394613</td>\n",
       "      <td>231351.505950</td>\n",
       "      <td>0.000018</td>\n",
       "      <td>67</td>\n",
       "      <td>66</td>\n",
       "      <td>0.008589</td>\n",
       "    </tr>\n",
       "    <tr>\n",
       "      <th>1</th>\n",
       "      <td>7046912</td>\n",
       "      <td>0.000000</td>\n",
       "      <td>0.000010</td>\n",
       "      <td>4</td>\n",
       "      <td>0</td>\n",
       "      <td>0.000000</td>\n",
       "    </tr>\n",
       "    <tr>\n",
       "      <th>2</th>\n",
       "      <td>7697992</td>\n",
       "      <td>146349.759966</td>\n",
       "      <td>0.000011</td>\n",
       "      <td>71</td>\n",
       "      <td>66</td>\n",
       "      <td>0.046981</td>\n",
       "    </tr>\n",
       "    <tr>\n",
       "      <th>3</th>\n",
       "      <td>9497072</td>\n",
       "      <td>0.000000</td>\n",
       "      <td>0.000016</td>\n",
       "      <td>43</td>\n",
       "      <td>0</td>\n",
       "      <td>0.088820</td>\n",
       "    </tr>\n",
       "    <tr>\n",
       "      <th>4</th>\n",
       "      <td>9831832</td>\n",
       "      <td>0.000000</td>\n",
       "      <td>0.000009</td>\n",
       "      <td>9</td>\n",
       "      <td>0</td>\n",
       "      <td>0.115000</td>\n",
       "    </tr>\n",
       "  </tbody>\n",
       "</table>\n",
       "</div>"
      ],
      "text/plain": [
       "      name    betweenness  pagerank  degree  outdegree  local_transitivity\n",
       "0   394613  231351.505950  0.000018      67         66            0.008589\n",
       "1  7046912       0.000000  0.000010       4          0            0.000000\n",
       "2  7697992  146349.759966  0.000011      71         66            0.046981\n",
       "3  9497072       0.000000  0.000016      43          0            0.088820\n",
       "4  9831832       0.000000  0.000009       9          0            0.115000"
      ]
     },
     "execution_count": 144,
     "metadata": {},
     "output_type": "execute_result"
    }
   ],
   "source": [
    "measures_last_2_week = centrality_measures(g,pd.DataFrame(),weights='weight')\n",
    "measures_last_2_week.head()"
   ]
  },
  {
   "cell_type": "code",
   "execution_count": 79,
   "metadata": {},
   "outputs": [],
   "source": [
    "###non ho ben capito cosa è andato storto con la funzione"
   ]
  },
  {
   "cell_type": "markdown",
   "metadata": {},
   "source": [
    "#### Salvo le misure"
   ]
  },
  {
   "cell_type": "code",
   "execution_count": 145,
   "metadata": {},
   "outputs": [],
   "source": [
    "measures_3_days.to_csv('measures/measures_3_days',index=False)\n",
    "measures_7_days.to_csv('measures/measures_7_days',index=False)\n",
    "measures_30_days.to_csv('measures/measures_30_days',index=False)\n",
    "measures_first_2_week.to_csv('measures/measures_first_2_week', index= False)\n",
    "measures_last_2_week.to_csv('measures/measures_last_2_week', index= False)"
   ]
  },
  {
   "cell_type": "markdown",
   "metadata": {},
   "source": [
    "#### Confronto misure"
   ]
  },
  {
   "cell_type": "code",
   "execution_count": 103,
   "metadata": {},
   "outputs": [
    {
     "data": {
      "text/plain": [
       "<matplotlib.axes._subplots.AxesSubplot at 0x7f03772dd400>"
      ]
     },
     "execution_count": 103,
     "metadata": {},
     "output_type": "execute_result"
    },
    {
     "data": {
      "image/png": "[encoded data removed]",
      "text/plain": [
       "<Figure size 432x288 with 1 Axes>"
      ]
     },
     "metadata": {
      "needs_background": "light"
     },
     "output_type": "display_data"
    }
   ],
   "source": [
    "#degree distribution after degree 500\n",
    "sns.distplot(measures_30_days.outdegree,bins=np.linspace(500,measures_30_days.outdegree.max(),30), kde=False)"
   ]
  },
  {
   "cell_type": "code",
   "execution_count": 113,
   "metadata": {},
   "outputs": [
    {
     "data": {
      "text/plain": [
       "<matplotlib.axes._subplots.AxesSubplot at 0x7f0376ef3710>"
      ]
     },
     "execution_count": 113,
     "metadata": {},
     "output_type": "execute_result"
    },
    {
     "data": {
      "image/png": "[encoded data removed]",
      "text/plain": [
       "<Figure size 432x288 with 1 Axes>"
      ]
     },
     "metadata": {
      "needs_background": "light"
     },
     "output_type": "display_data"
    }
   ],
   "source": [
    "#distribution between 10 and 1000\n",
    "sns.distplot(measures_30_days.outdegree,bins=np.linspace(10,1000,30),kde=False)"
   ]
  },
  {
   "cell_type": "markdown",
   "metadata": {},
   "source": [
    "#### guardo gli utenti più retweetati"
   ]
  },
  {
   "cell_type": "code",
   "execution_count": 10,
   "metadata": {},
   "outputs": [],
   "source": [
    "#guardo i 20 con degree più alto in ogni set di misure\n",
    "top_20_retweeted = measures_30_days.sort_values('outdegree')['name'].values[-20:]"
   ]
  },
  {
   "cell_type": "code",
   "execution_count": 11,
   "metadata": {},
   "outputs": [],
   "source": [
    "top_20_retweeted = np.concatenate((top_20_retweeted,measures_3_days.sort_values('outdegree')['name'].values[-20:]))\n",
    "top_20_retweeted = np.concatenate((top_20_retweeted,measures_7_days.sort_values('outdegree')['name'].values[-20:]))\n",
    "top_20_retweeted = np.concatenate((top_20_retweeted,measures_first_2_week.sort_values('outdegree')['name'].values[-20:]))\n",
    "top_20_retweeted = np.concatenate((top_20_retweeted,measures_last_2_week.sort_values('outdegree')['name'].values[-20:]))"
   ]
  },
  {
   "cell_type": "code",
   "execution_count": 65,
   "metadata": {},
   "outputs": [],
   "source": [
    "from collections import Counter"
   ]
  },
  {
   "cell_type": "code",
   "execution_count": 95,
   "metadata": {},
   "outputs": [
    {
     "data": {
      "text/plain": [
       "Counter({1683455144: 5,\n",
       "         52424550: 4,\n",
       "         828717014: 3,\n",
       "         395218906: 1,\n",
       "         331617619: 5,\n",
       "         416476798: 3,\n",
       "         20423071: 2,\n",
       "         2971149125: 5,\n",
       "         1575496556: 2,\n",
       "         5893702: 4,\n",
       "         231902290: 4,\n",
       "         497190015: 2,\n",
       "         130537001: 3,\n",
       "         1904010924: 5,\n",
       "         16476536: 5,\n",
       "         994453158301786112: 2,\n",
       "         150725695: 5,\n",
       "         18935802: 5,\n",
       "         732817452569141248: 4,\n",
       "         1100776937004457984: 5,\n",
       "         2339316667: 1,\n",
       "         399004979: 1,\n",
       "         475234937: 2,\n",
       "         123920914: 1,\n",
       "         2753154182: 3,\n",
       "         585968039: 1,\n",
       "         144210805: 2,\n",
       "         13514762: 1,\n",
       "         270839361: 3,\n",
       "         234787615: 1,\n",
       "         18762875: 1,\n",
       "         1023625170509078528: 2,\n",
       "         406981868: 1,\n",
       "         337767301: 2,\n",
       "         895712365756293120: 1,\n",
       "         47756372: 1,\n",
       "         51759517: 1,\n",
       "         25676606: 1})"
      ]
     },
     "execution_count": 95,
     "metadata": {},
     "output_type": "execute_result"
    }
   ],
   "source": [
    "#conto quali vlori si ripetono --> quali utenti sono presenti in più set\n",
    "counter = Counter(top_20_retweeted)\n",
    "counter"
   ]
  },
  {
   "cell_type": "markdown",
   "metadata": {},
   "source": [
    "motli utenti sono presenti in tutti i periodi temporali analizzati"
   ]
  },
  {
   "cell_type": "code",
   "execution_count": 14,
   "metadata": {},
   "outputs": [],
   "source": [
    "counter_df = pd.DataFrame({'id':list(counter.keys()),'count':list(counter.values())})"
   ]
  },
  {
   "cell_type": "code",
   "execution_count": 15,
   "metadata": {},
   "outputs": [],
   "source": [
    "#isolo gli id degli utenti più retweetati\n",
    "id_top_retweeted = counter_df.id.values"
   ]
  },
  {
   "cell_type": "markdown",
   "metadata": {},
   "source": [
    "#### incorcio col file metadata per capire i nomi degli utenti"
   ]
  },
  {
   "cell_type": "code",
   "execution_count": 208,
   "metadata": {},
   "outputs": [
    {
     "data": {
      "text/html": [
       "<div>\n",
       "<style scoped>\n",
       "    .dataframe tbody tr th:only-of-type {\n",
       "        vertical-align: middle;\n",
       "    }\n",
       "\n",
       "    .dataframe tbody tr th {\n",
       "        vertical-align: top;\n",
       "    }\n",
       "\n",
       "    .dataframe thead th {\n",
       "        text-align: right;\n",
       "    }\n",
       "</style>\n",
       "<table border=\"1\" class=\"dataframe\">\n",
       "  <thead>\n",
       "    <tr style=\"text-align: right;\">\n",
       "      <th></th>\n",
       "      <th>id_str</th>\n",
       "      <th>text</th>\n",
       "      <th>retweeted_status.id</th>\n",
       "      <th>user.screen_name</th>\n",
       "      <th>user.followers_count</th>\n",
       "      <th>user.location</th>\n",
       "    </tr>\n",
       "  </thead>\n",
       "  <tbody>\n",
       "    <tr>\n",
       "      <th>0</th>\n",
       "      <td>313952961422295040</td>\n",
       "      <td>http://t.co/LqhmyOCsUB | Coronavirus: sarà la ...</td>\n",
       "      <td>NaN</td>\n",
       "      <td>urcaurcait</td>\n",
       "      <td>7</td>\n",
       "      <td>Italia</td>\n",
       "    </tr>\n",
       "    <tr>\n",
       "      <th>1</th>\n",
       "      <td>314134318471593985</td>\n",
       "      <td>La prossima pandemia sará scatenata dal corona...</td>\n",
       "      <td>NaN</td>\n",
       "      <td>alle_iccir</td>\n",
       "      <td>521</td>\n",
       "      <td>Purgatorio</td>\n",
       "    </tr>\n",
       "    <tr>\n",
       "      <th>2</th>\n",
       "      <td>411121987369832448</td>\n",
       "      <td>Isoliamo il virus del buon senso e diffondiamo...</td>\n",
       "      <td>NaN</td>\n",
       "      <td>AleLinari</td>\n",
       "      <td>212</td>\n",
       "      <td>Romagna</td>\n",
       "    </tr>\n",
       "    <tr>\n",
       "      <th>3</th>\n",
       "      <td>866515833895473153</td>\n",
       "      <td>Che sempre più persone credono in teorie bisla...</td>\n",
       "      <td>NaN</td>\n",
       "      <td>AsinoMorto</td>\n",
       "      <td>18035</td>\n",
       "      <td>Generalmente eretta</td>\n",
       "    </tr>\n",
       "    <tr>\n",
       "      <th>4</th>\n",
       "      <td>867791787007463424</td>\n",
       "      <td>Mai un'epidemia di intelligenza</td>\n",
       "      <td>NaN</td>\n",
       "      <td>mcomemax</td>\n",
       "      <td>2614</td>\n",
       "      <td>reggio emilia</td>\n",
       "    </tr>\n",
       "  </tbody>\n",
       "</table>\n",
       "</div>"
      ],
      "text/plain": [
       "               id_str                                               text  \\\n",
       "0  313952961422295040  http://t.co/LqhmyOCsUB | Coronavirus: sarà la ...   \n",
       "1  314134318471593985  La prossima pandemia sará scatenata dal corona...   \n",
       "2  411121987369832448  Isoliamo il virus del buon senso e diffondiamo...   \n",
       "3  866515833895473153  Che sempre più persone credono in teorie bisla...   \n",
       "4  867791787007463424                    Mai un'epidemia di intelligenza   \n",
       "\n",
       "   retweeted_status.id user.screen_name  user.followers_count  \\\n",
       "0                  NaN       urcaurcait                     7   \n",
       "1                  NaN       alle_iccir                   521   \n",
       "2                  NaN        AleLinari                   212   \n",
       "3                  NaN       AsinoMorto                 18035   \n",
       "4                  NaN         mcomemax                  2614   \n",
       "\n",
       "         user.location  \n",
       "0               Italia  \n",
       "1           Purgatorio  \n",
       "2              Romagna  \n",
       "3  Generalmente eretta  \n",
       "4        reggio emilia  "
      ]
     },
     "execution_count": 208,
     "metadata": {},
     "output_type": "execute_result"
    }
   ],
   "source": [
    "pd.read_csv('transfer_41033_files_4cf7ccc6(1)/table_metadata.csv', nrows = 5)"
   ]
  },
  {
   "cell_type": "code",
   "execution_count": 4,
   "metadata": {},
   "outputs": [],
   "source": [
    "#aggiunta si lineterminator = '\\n' per evitare un errore che si h anel caricamento del file\n",
    "chunksize = 10**5\n",
    "meta_data=pd.DataFrame()\n",
    "for chunk in pd.read_csv('transfer_41033_files_4cf7ccc6(1)/table_metadata.csv', chunksize=chunksize, lineterminator='\\n'):\n",
    "    meta_data = pd.concat([meta_data, chunk])"
   ]
  },
  {
   "cell_type": "code",
   "execution_count": 16,
   "metadata": {},
   "outputs": [
    {
     "data": {
      "text/html": [
       "<div>\n",
       "<style scoped>\n",
       "    .dataframe tbody tr th:only-of-type {\n",
       "        vertical-align: middle;\n",
       "    }\n",
       "\n",
       "    .dataframe tbody tr th {\n",
       "        vertical-align: top;\n",
       "    }\n",
       "\n",
       "    .dataframe thead th {\n",
       "        text-align: right;\n",
       "    }\n",
       "</style>\n",
       "<table border=\"1\" class=\"dataframe\">\n",
       "  <thead>\n",
       "    <tr style=\"text-align: right;\">\n",
       "      <th></th>\n",
       "      <th>id_str</th>\n",
       "      <th>text</th>\n",
       "      <th>retweeted_status.id</th>\n",
       "      <th>user.screen_name</th>\n",
       "      <th>user.followers_count</th>\n",
       "      <th>user.location</th>\n",
       "    </tr>\n",
       "  </thead>\n",
       "  <tbody>\n",
       "  </tbody>\n",
       "</table>\n",
       "</div>"
      ],
      "text/plain": [
       "Empty DataFrame\n",
       "Columns: [id_str, text, retweeted_status.id, user.screen_name, user.followers_count, user.location]\n",
       "Index: []"
      ]
     },
     "execution_count": 16,
     "metadata": {},
     "output_type": "execute_result"
    }
   ],
   "source": [
    "meta_data[meta_data['retweeted_status.id'].isin(id_top_retweeted)]"
   ]
  },
  {
   "cell_type": "markdown",
   "metadata": {},
   "source": [
    "gli id nel file metadata.csv sembrerebbero diversi da quelli del file rewteets.csv, poichè nel primo non compaiono e nel secondo si"
   ]
  },
  {
   "cell_type": "code",
   "execution_count": 92,
   "metadata": {},
   "outputs": [
    {
     "data": {
      "text/html": [
       "<div>\n",
       "<style scoped>\n",
       "    .dataframe tbody tr th:only-of-type {\n",
       "        vertical-align: middle;\n",
       "    }\n",
       "\n",
       "    .dataframe tbody tr th {\n",
       "        vertical-align: top;\n",
       "    }\n",
       "\n",
       "    .dataframe thead th {\n",
       "        text-align: right;\n",
       "    }\n",
       "</style>\n",
       "<table border=\"1\" class=\"dataframe\">\n",
       "  <thead>\n",
       "    <tr style=\"text-align: right;\">\n",
       "      <th></th>\n",
       "      <th>created_at</th>\n",
       "      <th>id_str</th>\n",
       "      <th>user.id</th>\n",
       "      <th>retweeted_status.user.id</th>\n",
       "    </tr>\n",
       "  </thead>\n",
       "  <tbody>\n",
       "    <tr>\n",
       "      <th>1275</th>\n",
       "      <td>2020-02-20 08:43:08+00:00</td>\n",
       "      <td>1230397459932774401</td>\n",
       "      <td>2278132116</td>\n",
       "      <td>7.328175e+17</td>\n",
       "    </tr>\n",
       "    <tr>\n",
       "      <th>1277</th>\n",
       "      <td>2020-02-20 08:43:42+00:00</td>\n",
       "      <td>1230397601658343426</td>\n",
       "      <td>420977208</td>\n",
       "      <td>7.328175e+17</td>\n",
       "    </tr>\n",
       "    <tr>\n",
       "      <th>1299</th>\n",
       "      <td>2020-02-20 08:49:51+00:00</td>\n",
       "      <td>1230399147766927360</td>\n",
       "      <td>1372859420</td>\n",
       "      <td>4.752349e+08</td>\n",
       "    </tr>\n",
       "    <tr>\n",
       "      <th>1307</th>\n",
       "      <td>2020-02-20 08:50:56+00:00</td>\n",
       "      <td>1230399422208630784</td>\n",
       "      <td>630644340</td>\n",
       "      <td>1.442108e+08</td>\n",
       "    </tr>\n",
       "    <tr>\n",
       "      <th>1308</th>\n",
       "      <td>2020-02-20 08:51:02+00:00</td>\n",
       "      <td>1230399448083288064</td>\n",
       "      <td>3207950973</td>\n",
       "      <td>9.944532e+17</td>\n",
       "    </tr>\n",
       "  </tbody>\n",
       "</table>\n",
       "</div>"
      ],
      "text/plain": [
       "                     created_at               id_str     user.id  \\\n",
       "1275  2020-02-20 08:43:08+00:00  1230397459932774401  2278132116   \n",
       "1277  2020-02-20 08:43:42+00:00  1230397601658343426   420977208   \n",
       "1299  2020-02-20 08:49:51+00:00  1230399147766927360  1372859420   \n",
       "1307  2020-02-20 08:50:56+00:00  1230399422208630784   630644340   \n",
       "1308  2020-02-20 08:51:02+00:00  1230399448083288064  3207950973   \n",
       "\n",
       "      retweeted_status.user.id  \n",
       "1275              7.328175e+17  \n",
       "1277              7.328175e+17  \n",
       "1299              4.752349e+08  \n",
       "1307              1.442108e+08  \n",
       "1308              9.944532e+17  "
      ]
     },
     "execution_count": 92,
     "metadata": {},
     "output_type": "execute_result"
    }
   ],
   "source": [
    "data[data['retweeted_status.user.id'].isin(id_top_retweeted)].head()"
   ]
  },
  {
   "cell_type": "code",
   "execution_count": 37,
   "metadata": {},
   "outputs": [],
   "source": [
    "#ricarico le misure calcolate\n",
    "measures_3_days=pd.read_csv('measures/measures_3_days')\n",
    "measures_7_days=pd.read_csv('measures/measures_7_days')\n",
    "measures_30_days=pd.read_csv('measures/measures_30_days')\n",
    "measures_first_2_week=pd.read_csv('measures/measures_first_2_week')\n",
    "measures_last_2_week=pd.read_csv('measures/measures_last_2_week')"
   ]
  },
  {
   "cell_type": "code",
   "execution_count": 38,
   "metadata": {},
   "outputs": [],
   "source": [
    "def norm_betweenness(series):\n",
    "    n = len(series)\n",
    "    return series / ((n-1)*(n-2))"
   ]
  },
  {
   "cell_type": "code",
   "execution_count": 88,
   "metadata": {},
   "outputs": [],
   "source": [
    "measures_3_days['norm_betweenness']=norm_betweenness(measures_3_days['betweenness'])\n",
    "measures_7_days['norm_betweenness']=norm_betweenness(measures_7_days['betweenness'])\n",
    "measures_30_days['norm_betweenness']=norm_betweenness(measures_30_days['betweenness'])\n",
    "measures_first_2_week['norm_betweenness']=norm_betweenness(measures_first_2_week['betweenness'])\n",
    "measures_last_2_week['norm_betweenness']=norm_betweenness(measures_last_2_week['betweenness'])\n"
   ]
  },
  {
   "cell_type": "code",
   "execution_count": 83,
   "metadata": {},
   "outputs": [
    {
     "data": {
      "text/plain": [
       "([array([4., 3., 5., 6., 6., 0., 3., 1., 3., 1., 1., 1., 0., 0., 1., 2., 0.,\n",
       "         0., 3., 0., 1., 0., 0., 0., 0., 0., 0., 1., 0.]),\n",
       "  array([12., 21.,  9., 33., 12.,  5.,  7.,  8.,  3.,  6.,  5.,  5.,  5.,\n",
       "          4.,  2., 17.,  4., 10.,  4.,  9.,  4.,  6.,  1.,  5.,  1.,  0.,\n",
       "          2.,  3.,  1.]),\n",
       "  array([165., 115., 286.,  77., 137.,  73.,  50.,  94.,  46.,  43.,  60.,\n",
       "          30.,  42.,  44., 258.,  83.,  49.,  60.,  43.,  46.,  37.,  30.,\n",
       "          37.,  32.,  30.,  21.,  22.,  22.,  28.])],\n",
       " array([1.00000000e-06, 1.31034483e-06, 1.62068966e-06, 1.93103448e-06,\n",
       "        2.24137931e-06, 2.55172414e-06, 2.86206897e-06, 3.17241379e-06,\n",
       "        3.48275862e-06, 3.79310345e-06, 4.10344828e-06, 4.41379310e-06,\n",
       "        4.72413793e-06, 5.03448276e-06, 5.34482759e-06, 5.65517241e-06,\n",
       "        5.96551724e-06, 6.27586207e-06, 6.58620690e-06, 6.89655172e-06,\n",
       "        7.20689655e-06, 7.51724138e-06, 7.82758621e-06, 8.13793103e-06,\n",
       "        8.44827586e-06, 8.75862069e-06, 9.06896552e-06, 9.37931034e-06,\n",
       "        9.68965517e-06, 1.00000000e-05]),\n",
       " <a list of 3 Lists of Patches objects>)"
      ]
     },
     "execution_count": 83,
     "metadata": {},
     "output_type": "execute_result"
    },
    {
     "data": {
      "image/png": "[encoded data removed]",
      "text/plain": [
       "<Figure size 432x288 with 1 Axes>"
      ]
     },
     "metadata": {
      "needs_background": "light"
     },
     "output_type": "display_data"
    }
   ],
   "source": [
    "plt.hist([measures_3_days.norm_betweenness,\n",
    "              measures_7_days.norm_betweenness,\n",
    "              measures_30_days.norm_betweenness]\n",
    "             , bins = np.linspace(1e-6,0.1e-4,30))\n"
   ]
  },
  {
   "cell_type": "code",
   "execution_count": 87,
   "metadata": {},
   "outputs": [
    {
     "data": {
      "text/plain": [
       "<matplotlib.axes._subplots.AxesSubplot at 0x7fef32ccccc0>"
      ]
     },
     "execution_count": 87,
     "metadata": {},
     "output_type": "execute_result"
    },
    {
     "data": {
      "image/png": "[encoded data removed]",
      "text/plain": [
       "<Figure size 432x288 with 1 Axes>"
      ]
     },
     "metadata": {
      "needs_background": "light"
     },
     "output_type": "display_data"
    }
   ],
   "source": [
    "sns.distplot(measures_30_days.norm_betweenness, kde=False, bins=np.linspace(1e-6,1e-4,30))\n",
    "sns.distplot(measures_3_days.norm_betweenness, kde=False, bins=np.linspace(1e-6,1e-4,30))\n",
    "sns.distplot(measures_7_days.norm_betweenness, kde=False, bins=np.linspace(1e-6,1e-4,30))"
   ]
  },
  {
   "cell_type": "code",
   "execution_count": 91,
   "metadata": {},
   "outputs": [
    {
     "data": {
      "text/plain": [
       "<matplotlib.legend.Legend at 0x7fef32782ef0>"
      ]
     },
     "execution_count": 91,
     "metadata": {},
     "output_type": "execute_result"
    },
    {
     "data": {
      "image/png": "[encoded data removed]",
      "text/plain": [
       "<Figure size 432x288 with 1 Axes>"
      ]
     },
     "metadata": {
      "needs_background": "light"
     },
     "output_type": "display_data"
    }
   ],
   "source": [
    "sns.distplot(measures_first_2_week.norm_betweenness, kde=False, bins=np.linspace(1e-6,1e-4,30))\n",
    "sns.distplot(measures_last_2_week.norm_betweenness, kde=False, bins=np.linspace(1e-6,1e-4,30))\n",
    "plt.legend(['first 2 weeks', 'last 2 weeks'])"
   ]
  },
  {
   "cell_type": "code",
   "execution_count": 122,
   "metadata": {},
   "outputs": [
    {
     "data": {
      "image/png": "[encoded data removed]",
      "text/plain": [
       "<Figure size 576x576 with 4 Axes>"
      ]
     },
     "metadata": {
      "needs_background": "light"
     },
     "output_type": "display_data"
    }
   ],
   "source": [
    "fig, [[ax1,ax2],[ax3,ax4]] = plt.subplots(2,2, figsize= (8,8))\n",
    "fig.suptitle('Distribution of outdegree for 5 < k < 200')\n",
    "ax1.hist(measures_3_days.outdegree, bins = np.linspace(5,200,30))\n",
    "ax1.set_title('3 days')\n",
    "ax2.hist(measures_7_days.outdegree, bins = np.linspace(5,200,30))\n",
    "ax2.set_title('7 days')\n",
    "ax3.hist(measures_first_2_week.outdegree, bins = np.linspace(5,200,30))\n",
    "ax3.set_title('15 days')\n",
    "ax4.hist(measures_30_days.outdegree, bins = np.linspace(5,200,30))\n",
    "ax4.set_title('30 days')\n",
    "plt.show()"
   ]
  },
  {
   "cell_type": "code",
   "execution_count": 133,
   "metadata": {},
   "outputs": [
    {
     "data": {
      "image/png": "[encoded data removed]",
      "text/plain": [
       "<Figure size 576x576 with 4 Axes>"
      ]
     },
     "metadata": {
      "needs_background": "light"
     },
     "output_type": "display_data"
    }
   ],
   "source": [
    "fig, [[ax1,ax2],[ax3,ax4]] = plt.subplots(2,2, figsize= (8,8))\n",
    "fig.suptitle('Distribution of pagerank for 1e-3 < pr < 1e-2')\n",
    "ax1.hist(measures_3_days.pagerank, bins = np.linspace(1e-3,0.01,30))\n",
    "ax1.set_title('3 days')\n",
    "ax2.hist(measures_7_days.pagerank, bins = np.linspace(1e-3,0.01,30))\n",
    "ax2.set_title('7 days')\n",
    "ax3.hist(measures_first_2_week.pagerank, bins = np.linspace(1e-3,0.01,30))\n",
    "ax3.set_title('15 days')\n",
    "ax4.hist(measures_30_days.pagerank, bins = np.linspace(1e-3,0.01,30))\n",
    "ax4.set_title('30 days')\n",
    "plt.show()"
   ]
  },
  {
   "cell_type": "markdown",
   "metadata": {},
   "source": [
    "### Ricerca dei leader"
   ]
  },
  {
   "cell_type": "markdown",
   "metadata": {},
   "source": [
    "##### betweenness"
   ]
  },
  {
   "cell_type": "code",
   "execution_count": 175,
   "metadata": {},
   "outputs": [],
   "source": [
    "top_100_btwn = pd.DataFrame({'30_days' : measures_30_days.sort_values('betweenness')['name'].values[-100:],\n",
    "                            '15_days' : measures_first_2_week.sort_values('betweenness')['name'].values[-100:],\n",
    "                            '7_days' : measures_7_days.sort_values('betweenness')['name'].values[-100:],\n",
    "                            '3_days' : measures_3_days.sort_values('betweenness')['name'].values[-100:]})"
   ]
  },
  {
   "cell_type": "code",
   "execution_count": 176,
   "metadata": {},
   "outputs": [
    {
     "data": {
      "text/html": [
       "<div>\n",
       "<style scoped>\n",
       "    .dataframe tbody tr th:only-of-type {\n",
       "        vertical-align: middle;\n",
       "    }\n",
       "\n",
       "    .dataframe tbody tr th {\n",
       "        vertical-align: top;\n",
       "    }\n",
       "\n",
       "    .dataframe thead th {\n",
       "        text-align: right;\n",
       "    }\n",
       "</style>\n",
       "<table border=\"1\" class=\"dataframe\">\n",
       "  <thead>\n",
       "    <tr style=\"text-align: right;\">\n",
       "      <th></th>\n",
       "      <th>30_days</th>\n",
       "      <th>15_days</th>\n",
       "      <th>7_days</th>\n",
       "      <th>3_days</th>\n",
       "    </tr>\n",
       "  </thead>\n",
       "  <tbody>\n",
       "    <tr>\n",
       "      <th>0</th>\n",
       "      <td>52424550</td>\n",
       "      <td>986811270</td>\n",
       "      <td>1007990392279748608</td>\n",
       "      <td>1062799087</td>\n",
       "    </tr>\n",
       "    <tr>\n",
       "      <th>1</th>\n",
       "      <td>1575496556</td>\n",
       "      <td>96853674</td>\n",
       "      <td>18935802</td>\n",
       "      <td>156931889</td>\n",
       "    </tr>\n",
       "    <tr>\n",
       "      <th>2</th>\n",
       "      <td>69569643</td>\n",
       "      <td>1490509230</td>\n",
       "      <td>804354408</td>\n",
       "      <td>500882938</td>\n",
       "    </tr>\n",
       "    <tr>\n",
       "      <th>3</th>\n",
       "      <td>361985955</td>\n",
       "      <td>479810905</td>\n",
       "      <td>861946438439383040</td>\n",
       "      <td>3426504598</td>\n",
       "    </tr>\n",
       "    <tr>\n",
       "      <th>4</th>\n",
       "      <td>856216775830253568</td>\n",
       "      <td>547936685</td>\n",
       "      <td>493833883</td>\n",
       "      <td>903898838</td>\n",
       "    </tr>\n",
       "  </tbody>\n",
       "</table>\n",
       "</div>"
      ],
      "text/plain": [
       "              30_days     15_days               7_days      3_days\n",
       "0            52424550   986811270  1007990392279748608  1062799087\n",
       "1          1575496556    96853674             18935802   156931889\n",
       "2            69569643  1490509230            804354408   500882938\n",
       "3           361985955   479810905   861946438439383040  3426504598\n",
       "4  856216775830253568   547936685            493833883   903898838"
      ]
     },
     "execution_count": 176,
     "metadata": {},
     "output_type": "execute_result"
    }
   ],
   "source": [
    "top_100_btwn.head()"
   ]
  },
  {
   "cell_type": "code",
   "execution_count": 177,
   "metadata": {},
   "outputs": [],
   "source": [
    "#chi compare in più set?\n",
    "counter_btwn = Counter(np.concatenate([i for i in top_100_btwn.values]))"
   ]
  },
  {
   "cell_type": "code",
   "execution_count": 178,
   "metadata": {},
   "outputs": [
    {
     "data": {
      "text/plain": [
       "(array([167.,  62.,  19.,  13.]),\n",
       " array([0.5, 1.5, 2.5, 3.5, 4.5]),\n",
       " <a list of 4 Patch objects>)"
      ]
     },
     "execution_count": 178,
     "metadata": {},
     "output_type": "execute_result"
    },
    {
     "data": {
      "image/png": "[encoded data removed]",
      "text/plain": [
       "<Figure size 432x288 with 1 Axes>"
      ]
     },
     "metadata": {
      "needs_background": "light"
     },
     "output_type": "display_data"
    }
   ],
   "source": [
    "plt.hist(list(counter_btwn.values()),  bins= np.linspace(0.5,4.5,5))"
   ]
  },
  {
   "cell_type": "markdown",
   "metadata": {},
   "source": [
    "a differenza della connettività i nodi con maggiore bwtn cambiano nel tempo"
   ]
  },
  {
   "cell_type": "code",
   "execution_count": 157,
   "metadata": {},
   "outputs": [
    {
     "data": {
      "text/plain": [
       "3"
      ]
     },
     "execution_count": 157,
     "metadata": {},
     "output_type": "execute_result"
    }
   ],
   "source": [
    "max(list(counter_btwn.values()))"
   ]
  },
  {
   "cell_type": "markdown",
   "metadata": {},
   "source": [
    "#####  pagerank"
   ]
  },
  {
   "cell_type": "code",
   "execution_count": 170,
   "metadata": {},
   "outputs": [],
   "source": [
    "top_100_pr = pd.DataFrame({'30_days' : measures_30_days.sort_values('pagerank')['name'].values[-100:],\n",
    "                            '15_days' : measures_first_2_week.sort_values('pagerank')['name'].values[-100:],\n",
    "                            '7_days' : measures_7_days.sort_values('pagerank')['name'].values[-100:],\n",
    "                            '3_days' : measures_3_days.sort_values('pagerank')['name'].values[-100:]})"
   ]
  },
  {
   "cell_type": "code",
   "execution_count": 168,
   "metadata": {},
   "outputs": [],
   "source": [
    "counter_pr = Counter(np.concatenate([i for i in top_20_pr.values]))"
   ]
  },
  {
   "cell_type": "code",
   "execution_count": 169,
   "metadata": {},
   "outputs": [
    {
     "data": {
      "text/plain": [
       "(array([187.,  48.,  27.,   9.]),\n",
       " array([0.5, 1.5, 2.5, 3.5, 4.5]),\n",
       " <a list of 4 Patch objects>)"
      ]
     },
     "execution_count": 169,
     "metadata": {},
     "output_type": "execute_result"
    },
    {
     "data": {
      "image/png": "[encoded data removed]",
      "text/plain": [
       "<Figure size 432x288 with 1 Axes>"
      ]
     },
     "metadata": {
      "needs_background": "light"
     },
     "output_type": "display_data"
    }
   ],
   "source": [
    "plt.hist(list(counter_pr.values()),  bins= np.linspace(0.5,4.5,5))"
   ]
  },
  {
   "cell_type": "markdown",
   "metadata": {},
   "source": [
    "#####  clustering coefficient"
   ]
  },
  {
   "cell_type": "code",
   "execution_count": 171,
   "metadata": {},
   "outputs": [],
   "source": [
    "top_100_cc = pd.DataFrame({'30_days' : measures_30_days.sort_values('local_transitivity')['name'].values[-100:],\n",
    "                            '15_days' : measures_first_2_week.sort_values('local_transitivity')['name'].values[-100:],\n",
    "                            '7_days' : measures_7_days.sort_values('local_transitivity')['name'].values[-100:],\n",
    "                            '3_days' : measures_3_days.sort_values('local_transitivity')['name'].values[-100:]})"
   ]
  },
  {
   "cell_type": "code",
   "execution_count": 166,
   "metadata": {},
   "outputs": [
    {
     "data": {
      "text/plain": [
       "(array([22., 11.,  8.,  3.]),\n",
       " array([0.5, 1.5, 2.5, 3.5, 4.5]),\n",
       " <a list of 4 Patch objects>)"
      ]
     },
     "execution_count": 166,
     "metadata": {},
     "output_type": "execute_result"
    },
    {
     "data": {
      "image/png": "[encoded data removed]",
      "text/plain": [
       "<Figure size 432x288 with 1 Axes>"
      ]
     },
     "metadata": {
      "needs_background": "light"
     },
     "output_type": "display_data"
    }
   ],
   "source": [
    "counter_pr = Counter(np.concatenate([i for i in top_20_pr.values]))\n",
    "plt.hist(list(counter_pr.values()),  bins= np.linspace(0.5,4.5,5))"
   ]
  },
  {
   "cell_type": "markdown",
   "metadata": {},
   "source": [
    "##### Outdegree"
   ]
  },
  {
   "cell_type": "code",
   "execution_count": 172,
   "metadata": {},
   "outputs": [],
   "source": [
    "top_100_k = pd.DataFrame({'30_days' : measures_30_days.sort_values('outdegree')['name'].values[-100:],\n",
    "                            '15_days' : measures_first_2_week.sort_values('outdegree')['name'].values[-100:],\n",
    "                            '7_days' : measures_7_days.sort_values('outdegree')['name'].values[-100:],\n",
    "                            '3_days' : measures_3_days.sort_values('outdegree')['name'].values[-100:]})"
   ]
  },
  {
   "cell_type": "code",
   "execution_count": 164,
   "metadata": {},
   "outputs": [
    {
     "data": {
      "text/plain": [
       "(array([63., 33., 17., 55.]),\n",
       " array([0.5, 1.5, 2.5, 3.5, 4.5]),\n",
       " <a list of 4 Patch objects>)"
      ]
     },
     "execution_count": 164,
     "metadata": {},
     "output_type": "execute_result"
    },
    {
     "data": {
      "image/png": "[encoded data removed]",
      "text/plain": [
       "<Figure size 432x288 with 1 Axes>"
      ]
     },
     "metadata": {
      "needs_background": "light"
     },
     "output_type": "display_data"
    }
   ],
   "source": [
    "counter_k = Counter(np.concatenate([i for i in top_20_k.values]))\n",
    "plt.hist(list(counter_k.values()),  bins= np.linspace(0.5,4.5,5))"
   ]
  },
  {
   "cell_type": "markdown",
   "metadata": {},
   "source": [
    "##  Community Detection"
   ]
  },
  {
   "cell_type": "code",
   "execution_count": 183,
   "metadata": {},
   "outputs": [
    {
     "name": "stdout",
     "output_type": "stream",
     "text": [
      "Help on function graph in module __main__:\n",
      "\n",
      "graph(fini_day, init_day=0)\n",
      "\n"
     ]
    }
   ],
   "source": [
    "help(graph)"
   ]
  },
  {
   "cell_type": "code",
   "execution_count": 3,
   "metadata": {},
   "outputs": [],
   "source": [
    "#ricarivo dati e funzione graph()\n",
    "data_retweet = pd.read_csv('data_retweet')"
   ]
  },
  {
   "cell_type": "code",
   "execution_count": 6,
   "metadata": {},
   "outputs": [],
   "source": [
    "g_3 = graph(3)\n",
    "g_7 = graph(7)\n",
    "g_15 = graph(15)\n",
    "g_30 = graph(30)\n"
   ]
  },
  {
   "cell_type": "code",
   "execution_count": 7,
   "metadata": {},
   "outputs": [
    {
     "data": {
      "text/plain": [
       "'IGRAPH DNW- 7787 14003 -- \\n+ attr: name (v), weight (e)'"
      ]
     },
     "execution_count": 7,
     "metadata": {},
     "output_type": "execute_result"
    }
   ],
   "source": [
    "g_3.summary()"
   ]
  },
  {
   "cell_type": "code",
   "execution_count": 9,
   "metadata": {},
   "outputs": [],
   "source": [
    "g_3.to_undirected(combine_edges='sum')\n",
    "cl_3 = g_3.community_multilevel(weights='weight',return_levels=False)"
   ]
  },
  {
   "cell_type": "code",
   "execution_count": 10,
   "metadata": {},
   "outputs": [],
   "source": [
    "g_3.vs['membership'] = cl_3.membership"
   ]
  },
  {
   "cell_type": "code",
   "execution_count": 90,
   "metadata": {},
   "outputs": [],
   "source": [
    "g_7.to_undirected(combine_edges='sum')\n",
    "cl_7 = g_7.community_multilevel(weights='weight',return_levels=False)\n",
    "g_15.to_undirected(combine_edges='sum')\n",
    "cl_15 = g_15.community_multilevel(weights='weight',return_levels=False)\n",
    "g_30.to_undirected(combine_edges='sum')\n",
    "cl_30 = g_30.community_multilevel(weights='weight',return_levels=False)"
   ]
  },
  {
   "cell_type": "code",
   "execution_count": 91,
   "metadata": {},
   "outputs": [],
   "source": [
    "g_7.vs['membership'] = cl_7.membership\n",
    "g_15.vs['membership'] = cl_15.membership\n",
    "g_30.vs['membership'] = cl_30.membership"
   ]
  },
  {
   "cell_type": "code",
   "execution_count": 92,
   "metadata": {},
   "outputs": [
    {
     "name": "stdout",
     "output_type": "stream",
     "text": [
      "523 1057 1742 3021\n",
      "7787 21350 51366 106770\n"
     ]
    }
   ],
   "source": [
    "print(max(cl_3.membership),\n",
    "     max(cl_7.membership),\n",
    "     max(cl_15.membership),\n",
    "     max(cl_30.membership))\n",
    "print(len(g_3.vs),\n",
    "     len(g_7.vs),\n",
    "     len(g_15.vs),\n",
    "     len(g_30.vs),)"
   ]
  },
  {
   "cell_type": "markdown",
   "metadata": {},
   "source": [
    "Guardo come cambiano le community dei leader"
   ]
  },
  {
   "cell_type": "code",
   "execution_count": 38,
   "metadata": {},
   "outputs": [],
   "source": [
    "#guardo i 100 con degree più alto in ogni set di misure\n",
    "top_100_retweeted  = measures_30_days.sort_values('outdegree')['name'].values[-100:]"
   ]
  },
  {
   "cell_type": "code",
   "execution_count": 40,
   "metadata": {},
   "outputs": [
    {
     "data": {
      "text/plain": [
       "array([ 845,  850,  858,  862,  865,  878,  879,  895,  899,  921,  927,\n",
       "        937,  951,  956,  980,  987,  998, 1006, 1014, 1017, 1025, 1047,\n",
       "       1052, 1060, 1062, 1080, 1088, 1097, 1117, 1139, 1139, 1141, 1144,\n",
       "       1156, 1172, 1192, 1192, 1201, 1204, 1210, 1214, 1214, 1222, 1250,\n",
       "       1278, 1297, 1299, 1300, 1341, 1366, 1405, 1417, 1432, 1493, 1494,\n",
       "       1495, 1495, 1499, 1522, 1568, 1579, 1583, 1621, 1628, 1678, 1686,\n",
       "       1727, 1753, 1755, 1763, 1777, 1790, 1794, 1868, 1994, 2027, 2089,\n",
       "       2174, 2183, 2257, 2320, 2350, 2492, 2496, 3036, 3109, 3120, 3272,\n",
       "       3468, 3591, 3634, 4129, 4301, 5451, 5598, 6212, 6896, 7060, 8758,\n",
       "       9146])"
      ]
     },
     "execution_count": 40,
     "metadata": {},
     "output_type": "execute_result"
    }
   ],
   "source": [
    "measures_30_days.sort_values('outdegree')['outdegree'].values[-100:]"
   ]
  },
  {
   "cell_type": "markdown",
   "metadata": {},
   "source": [
    "quanti di questi sono nella giant component"
   ]
  },
  {
   "cell_type": "code",
   "execution_count": 43,
   "metadata": {},
   "outputs": [],
   "source": [
    "giant30= cl_30.giant()"
   ]
  }
 ],
 "metadata": {
  "kernelspec": {
   "display_name": "Python 3",
   "language": "python",
   "name": "python3"
  },
  "language_info": {
   "codemirror_mode": {
    "name": "ipython",
    "version": 3
   },
   "file_extension": ".py",
   "mimetype": "text/x-python",
   "name": "python",
   "nbconvert_exporter": "python",
   "pygments_lexer": "ipython3",
   "version": "3.7.3"
  }
 },
 "nbformat": 4,
 "nbformat_minor": 2
}
