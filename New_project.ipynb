{
 "cells": [
  {
   "cell_type": "code",
   "execution_count": 1,
   "metadata": {},
   "outputs": [],
   "source": [
    "import numpy as np\n",
    "import igraph as ig\n",
    "import seaborn as sns\n",
    "import pandas as pd\n",
    "import matplotlib.pylab as plt\n",
    "import scipy.stats as st\n",
    "\n",
    "sns.set()"
   ]
  },
  {
   "cell_type": "code",
   "execution_count": 111,
   "metadata": {},
   "outputs": [],
   "source": [
    "data = pd.read_csv('table_retweets1.csv',nrows=10)"
   ]
  },
  {
   "cell_type": "code",
   "execution_count": 112,
   "metadata": {},
   "outputs": [
    {
     "data": {
      "text/html": [
       "<div>\n",
       "<style scoped>\n",
       "    .dataframe tbody tr th:only-of-type {\n",
       "        vertical-align: middle;\n",
       "    }\n",
       "\n",
       "    .dataframe tbody tr th {\n",
       "        vertical-align: top;\n",
       "    }\n",
       "\n",
       "    .dataframe thead th {\n",
       "        text-align: right;\n",
       "    }\n",
       "</style>\n",
       "<table border=\"1\" class=\"dataframe\">\n",
       "  <thead>\n",
       "    <tr style=\"text-align: right;\">\n",
       "      <th></th>\n",
       "      <th>created_at</th>\n",
       "      <th>id_str</th>\n",
       "      <th>user.id</th>\n",
       "      <th>retweeted_status.user.id</th>\n",
       "    </tr>\n",
       "  </thead>\n",
       "  <tbody>\n",
       "    <tr>\n",
       "      <th>0</th>\n",
       "      <td>2013-03-19 10:59:53+00:00</td>\n",
       "      <td>313952961422295040</td>\n",
       "      <td>353934881</td>\n",
       "      <td>NaN</td>\n",
       "    </tr>\n",
       "    <tr>\n",
       "      <th>1</th>\n",
       "      <td>2013-03-19 23:00:32+00:00</td>\n",
       "      <td>314134318471593985</td>\n",
       "      <td>419828092</td>\n",
       "      <td>NaN</td>\n",
       "    </tr>\n",
       "    <tr>\n",
       "      <th>2</th>\n",
       "      <td>2013-12-12 14:14:54+00:00</td>\n",
       "      <td>411121987369832448</td>\n",
       "      <td>1257609660</td>\n",
       "      <td>NaN</td>\n",
       "    </tr>\n",
       "    <tr>\n",
       "      <th>3</th>\n",
       "      <td>2017-05-22 05:47:28+00:00</td>\n",
       "      <td>866515833895473153</td>\n",
       "      <td>264806169</td>\n",
       "      <td>NaN</td>\n",
       "    </tr>\n",
       "    <tr>\n",
       "      <th>4</th>\n",
       "      <td>2017-05-25 18:17:39+00:00</td>\n",
       "      <td>867791787007463424</td>\n",
       "      <td>508538467</td>\n",
       "      <td>NaN</td>\n",
       "    </tr>\n",
       "    <tr>\n",
       "      <th>5</th>\n",
       "      <td>2017-06-29 08:30:41+00:00</td>\n",
       "      <td>880327646810341377</td>\n",
       "      <td>2878256099</td>\n",
       "      <td>NaN</td>\n",
       "    </tr>\n",
       "    <tr>\n",
       "      <th>6</th>\n",
       "      <td>2017-08-21 11:03:36+00:00</td>\n",
       "      <td>899572685264617473</td>\n",
       "      <td>195454642</td>\n",
       "      <td>NaN</td>\n",
       "    </tr>\n",
       "    <tr>\n",
       "      <th>7</th>\n",
       "      <td>2017-10-24 12:41:43+00:00</td>\n",
       "      <td>922790204301246464</td>\n",
       "      <td>776465110856589312</td>\n",
       "      <td>NaN</td>\n",
       "    </tr>\n",
       "    <tr>\n",
       "      <th>8</th>\n",
       "      <td>2017-12-16 07:26:01+00:00</td>\n",
       "      <td>941917309098168320</td>\n",
       "      <td>410584380</td>\n",
       "      <td>NaN</td>\n",
       "    </tr>\n",
       "    <tr>\n",
       "      <th>9</th>\n",
       "      <td>2018-04-06 10:48:19+00:00</td>\n",
       "      <td>982193274319335424</td>\n",
       "      <td>4835674227</td>\n",
       "      <td>NaN</td>\n",
       "    </tr>\n",
       "  </tbody>\n",
       "</table>\n",
       "</div>"
      ],
      "text/plain": [
       "                  created_at              id_str             user.id  \\\n",
       "0  2013-03-19 10:59:53+00:00  313952961422295040           353934881   \n",
       "1  2013-03-19 23:00:32+00:00  314134318471593985           419828092   \n",
       "2  2013-12-12 14:14:54+00:00  411121987369832448          1257609660   \n",
       "3  2017-05-22 05:47:28+00:00  866515833895473153           264806169   \n",
       "4  2017-05-25 18:17:39+00:00  867791787007463424           508538467   \n",
       "5  2017-06-29 08:30:41+00:00  880327646810341377          2878256099   \n",
       "6  2017-08-21 11:03:36+00:00  899572685264617473           195454642   \n",
       "7  2017-10-24 12:41:43+00:00  922790204301246464  776465110856589312   \n",
       "8  2017-12-16 07:26:01+00:00  941917309098168320           410584380   \n",
       "9  2018-04-06 10:48:19+00:00  982193274319335424          4835674227   \n",
       "\n",
       "   retweeted_status.user.id  \n",
       "0                       NaN  \n",
       "1                       NaN  \n",
       "2                       NaN  \n",
       "3                       NaN  \n",
       "4                       NaN  \n",
       "5                       NaN  \n",
       "6                       NaN  \n",
       "7                       NaN  \n",
       "8                       NaN  \n",
       "9                       NaN  "
      ]
     },
     "execution_count": 112,
     "metadata": {},
     "output_type": "execute_result"
    }
   ],
   "source": [
    "data"
   ]
  },
  {
   "cell_type": "markdown",
   "metadata": {},
   "source": [
    "### sistemo database"
   ]
  },
  {
   "cell_type": "markdown",
   "metadata": {},
   "source": [
    "#### tengo solo i tweet con retweet (tolgo i NaN)"
   ]
  },
  {
   "cell_type": "code",
   "execution_count": 2,
   "metadata": {},
   "outputs": [],
   "source": [
    "data = pd.read_csv('table_retweets1.csv', low_memory = False)"
   ]
  },
  {
   "cell_type": "code",
   "execution_count": 3,
   "metadata": {},
   "outputs": [
    {
     "data": {
      "text/html": [
       "<div>\n",
       "<style scoped>\n",
       "    .dataframe tbody tr th:only-of-type {\n",
       "        vertical-align: middle;\n",
       "    }\n",
       "\n",
       "    .dataframe tbody tr th {\n",
       "        vertical-align: top;\n",
       "    }\n",
       "\n",
       "    .dataframe thead th {\n",
       "        text-align: right;\n",
       "    }\n",
       "</style>\n",
       "<table border=\"1\" class=\"dataframe\">\n",
       "  <thead>\n",
       "    <tr style=\"text-align: right;\">\n",
       "      <th></th>\n",
       "      <th>created_at</th>\n",
       "      <th>id_str</th>\n",
       "      <th>user.id</th>\n",
       "      <th>retweeted_status.user.id</th>\n",
       "    </tr>\n",
       "  </thead>\n",
       "  <tbody>\n",
       "    <tr>\n",
       "      <th>1249</th>\n",
       "      <td>2020-02-20 08:37:00+00:00</td>\n",
       "      <td>1230395916974247936</td>\n",
       "      <td>369687882</td>\n",
       "      <td>1.007990e+18</td>\n",
       "    </tr>\n",
       "    <tr>\n",
       "      <th>1250</th>\n",
       "      <td>2020-02-20 08:37:11+00:00</td>\n",
       "      <td>1230395960221630465</td>\n",
       "      <td>911650004955226113</td>\n",
       "      <td>1.469192e+09</td>\n",
       "    </tr>\n",
       "    <tr>\n",
       "      <th>1251</th>\n",
       "      <td>2020-02-20 08:37:24+00:00</td>\n",
       "      <td>1230396015137525761</td>\n",
       "      <td>480544142</td>\n",
       "      <td>3.840013e+07</td>\n",
       "    </tr>\n",
       "    <tr>\n",
       "      <th>1252</th>\n",
       "      <td>2020-02-20 08:37:35+00:00</td>\n",
       "      <td>1230396061497413632</td>\n",
       "      <td>1440784603</td>\n",
       "      <td>4.806271e+07</td>\n",
       "    </tr>\n",
       "    <tr>\n",
       "      <th>1253</th>\n",
       "      <td>2020-02-20 08:37:45+00:00</td>\n",
       "      <td>1230396104405110786</td>\n",
       "      <td>2305735179</td>\n",
       "      <td>4.855866e+08</td>\n",
       "    </tr>\n",
       "  </tbody>\n",
       "</table>\n",
       "</div>"
      ],
      "text/plain": [
       "                     created_at               id_str             user.id  \\\n",
       "1249  2020-02-20 08:37:00+00:00  1230395916974247936           369687882   \n",
       "1250  2020-02-20 08:37:11+00:00  1230395960221630465  911650004955226113   \n",
       "1251  2020-02-20 08:37:24+00:00  1230396015137525761           480544142   \n",
       "1252  2020-02-20 08:37:35+00:00  1230396061497413632          1440784603   \n",
       "1253  2020-02-20 08:37:45+00:00  1230396104405110786          2305735179   \n",
       "\n",
       "      retweeted_status.user.id  \n",
       "1249              1.007990e+18  \n",
       "1250              1.469192e+09  \n",
       "1251              3.840013e+07  \n",
       "1252              4.806271e+07  \n",
       "1253              4.855866e+08  "
      ]
     },
     "execution_count": 3,
     "metadata": {},
     "output_type": "execute_result"
    }
   ],
   "source": [
    "data_retweet = data[data['retweeted_status.user.id'].isnull() == False].copy()\n",
    "data_retweet.head()"
   ]
  },
  {
   "cell_type": "markdown",
   "metadata": {},
   "source": [
    "####  aggiungo colonna per la data"
   ]
  },
  {
   "cell_type": "code",
   "execution_count": 6,
   "metadata": {},
   "outputs": [
    {
     "name": "stdout",
     "output_type": "stream",
     "text": [
      "<class 'str'> <class 'numpy.int64'> <class 'numpy.int64'> <class 'pandas.core.series.Series'>\n"
     ]
    }
   ],
   "source": [
    "#columns type\n",
    "print(type(data.created_at[0]),type(data.id_str[0]), type(data['user.id'][0]),type(data['retweeted_status.user.id']))"
   ]
  },
  {
   "cell_type": "code",
   "execution_count": 187,
   "metadata": {},
   "outputs": [
    {
     "data": {
      "text/html": [
       "<div>\n",
       "<style scoped>\n",
       "    .dataframe tbody tr th:only-of-type {\n",
       "        vertical-align: middle;\n",
       "    }\n",
       "\n",
       "    .dataframe tbody tr th {\n",
       "        vertical-align: top;\n",
       "    }\n",
       "\n",
       "    .dataframe thead th {\n",
       "        text-align: right;\n",
       "    }\n",
       "</style>\n",
       "<table border=\"1\" class=\"dataframe\">\n",
       "  <thead>\n",
       "    <tr style=\"text-align: right;\">\n",
       "      <th></th>\n",
       "      <th>created_at</th>\n",
       "      <th>id_str</th>\n",
       "      <th>user.id</th>\n",
       "      <th>retweeted_status.user.id</th>\n",
       "      <th>date</th>\n",
       "    </tr>\n",
       "  </thead>\n",
       "  <tbody>\n",
       "    <tr>\n",
       "      <th>1249</th>\n",
       "      <td>2020-02-20 08:37:00+00:00</td>\n",
       "      <td>1230395916974247936</td>\n",
       "      <td>369687882</td>\n",
       "      <td>1.007990e+18</td>\n",
       "      <td>02-20</td>\n",
       "    </tr>\n",
       "    <tr>\n",
       "      <th>1250</th>\n",
       "      <td>2020-02-20 08:37:11+00:00</td>\n",
       "      <td>1230395960221630465</td>\n",
       "      <td>911650004955226113</td>\n",
       "      <td>1.469192e+09</td>\n",
       "      <td>02-20</td>\n",
       "    </tr>\n",
       "    <tr>\n",
       "      <th>1251</th>\n",
       "      <td>2020-02-20 08:37:24+00:00</td>\n",
       "      <td>1230396015137525761</td>\n",
       "      <td>480544142</td>\n",
       "      <td>3.840013e+07</td>\n",
       "      <td>02-20</td>\n",
       "    </tr>\n",
       "    <tr>\n",
       "      <th>1252</th>\n",
       "      <td>2020-02-20 08:37:35+00:00</td>\n",
       "      <td>1230396061497413632</td>\n",
       "      <td>1440784603</td>\n",
       "      <td>4.806271e+07</td>\n",
       "      <td>02-20</td>\n",
       "    </tr>\n",
       "    <tr>\n",
       "      <th>1253</th>\n",
       "      <td>2020-02-20 08:37:45+00:00</td>\n",
       "      <td>1230396104405110786</td>\n",
       "      <td>2305735179</td>\n",
       "      <td>4.855866e+08</td>\n",
       "      <td>02-20</td>\n",
       "    </tr>\n",
       "  </tbody>\n",
       "</table>\n",
       "</div>"
      ],
      "text/plain": [
       "                     created_at               id_str             user.id  \\\n",
       "1249  2020-02-20 08:37:00+00:00  1230395916974247936           369687882   \n",
       "1250  2020-02-20 08:37:11+00:00  1230395960221630465  911650004955226113   \n",
       "1251  2020-02-20 08:37:24+00:00  1230396015137525761           480544142   \n",
       "1252  2020-02-20 08:37:35+00:00  1230396061497413632          1440784603   \n",
       "1253  2020-02-20 08:37:45+00:00  1230396104405110786          2305735179   \n",
       "\n",
       "      retweeted_status.user.id   date  \n",
       "1249              1.007990e+18  02-20  \n",
       "1250              1.469192e+09  02-20  \n",
       "1251              3.840013e+07  02-20  \n",
       "1252              4.806271e+07  02-20  \n",
       "1253              4.855866e+08  02-20  "
      ]
     },
     "execution_count": 187,
     "metadata": {},
     "output_type": "execute_result"
    }
   ],
   "source": [
    "#data_retweet['created_at'] = pd.to_datetime(data_retweet['created_at'])\n",
    "data_retweet['date'] = data_retweet['created_at'].apply(lambda x: x[5:10])\n",
    "data_retweet.head()"
   ]
  },
  {
   "cell_type": "markdown",
   "metadata": {},
   "source": [
    "### distribuzione retweets giornaieri"
   ]
  },
  {
   "cell_type": "code",
   "execution_count": 8,
   "metadata": {},
   "outputs": [
    {
     "data": {
      "image/png": "[encoded data removed]",
      "text/plain": [
       "<Figure size 432x288 with 1 Axes>"
      ]
     },
     "metadata": {
      "needs_background": "light"
     },
     "output_type": "display_data"
    }
   ],
   "source": [
    "#ragrruppo in base al mese e al giorno\n",
    "count_per_day = data_retweet.groupby('date',as_index=False).count()\n",
    "\n",
    "plt.xlabel('date')\n",
    "plt.ylabel('number of tweets')\n",
    "plt.title('Tweets per Day')\n",
    "plt.xticks(count_per_day.index,count_per_day.date, rotation= 'vertical')\n",
    "plt.bar(count_per_day.index,count_per_day.id_str)\n",
    "plt.show()"
   ]
  },
  {
   "cell_type": "markdown",
   "metadata": {},
   "source": [
    "#### aggiungo colonna per contare i giorni"
   ]
  },
  {
   "cell_type": "code",
   "execution_count": 188,
   "metadata": {},
   "outputs": [],
   "source": [
    "data_retweet['day_count'] = data_retweet.groupby('date').ngroup().values"
   ]
  },
  {
   "cell_type": "code",
   "execution_count": 34,
   "metadata": {},
   "outputs": [
    {
     "data": {
      "text/html": [
       "<div>\n",
       "<style scoped>\n",
       "    .dataframe tbody tr th:only-of-type {\n",
       "        vertical-align: middle;\n",
       "    }\n",
       "\n",
       "    .dataframe tbody tr th {\n",
       "        vertical-align: top;\n",
       "    }\n",
       "\n",
       "    .dataframe thead th {\n",
       "        text-align: right;\n",
       "    }\n",
       "</style>\n",
       "<table border=\"1\" class=\"dataframe\">\n",
       "  <thead>\n",
       "    <tr style=\"text-align: right;\">\n",
       "      <th></th>\n",
       "      <th>created_at</th>\n",
       "      <th>id_str</th>\n",
       "      <th>user.id</th>\n",
       "      <th>retweeted_status.user.id</th>\n",
       "      <th>date</th>\n",
       "      <th>day_count</th>\n",
       "    </tr>\n",
       "  </thead>\n",
       "  <tbody>\n",
       "    <tr>\n",
       "      <th>1249</th>\n",
       "      <td>2020-02-20 08:37:00+00:00</td>\n",
       "      <td>1230395916974247936</td>\n",
       "      <td>369687882</td>\n",
       "      <td>1.007990e+18</td>\n",
       "      <td>02-20</td>\n",
       "      <td>0</td>\n",
       "    </tr>\n",
       "    <tr>\n",
       "      <th>1250</th>\n",
       "      <td>2020-02-20 08:37:11+00:00</td>\n",
       "      <td>1230395960221630465</td>\n",
       "      <td>911650004955226113</td>\n",
       "      <td>1.469192e+09</td>\n",
       "      <td>02-20</td>\n",
       "      <td>0</td>\n",
       "    </tr>\n",
       "    <tr>\n",
       "      <th>1251</th>\n",
       "      <td>2020-02-20 08:37:24+00:00</td>\n",
       "      <td>1230396015137525761</td>\n",
       "      <td>480544142</td>\n",
       "      <td>3.840013e+07</td>\n",
       "      <td>02-20</td>\n",
       "      <td>0</td>\n",
       "    </tr>\n",
       "    <tr>\n",
       "      <th>1252</th>\n",
       "      <td>2020-02-20 08:37:35+00:00</td>\n",
       "      <td>1230396061497413632</td>\n",
       "      <td>1440784603</td>\n",
       "      <td>4.806271e+07</td>\n",
       "      <td>02-20</td>\n",
       "      <td>0</td>\n",
       "    </tr>\n",
       "    <tr>\n",
       "      <th>1253</th>\n",
       "      <td>2020-02-20 08:37:45+00:00</td>\n",
       "      <td>1230396104405110786</td>\n",
       "      <td>2305735179</td>\n",
       "      <td>4.855866e+08</td>\n",
       "      <td>02-20</td>\n",
       "      <td>0</td>\n",
       "    </tr>\n",
       "  </tbody>\n",
       "</table>\n",
       "</div>"
      ],
      "text/plain": [
       "                     created_at               id_str             user.id  \\\n",
       "1249  2020-02-20 08:37:00+00:00  1230395916974247936           369687882   \n",
       "1250  2020-02-20 08:37:11+00:00  1230395960221630465  911650004955226113   \n",
       "1251  2020-02-20 08:37:24+00:00  1230396015137525761           480544142   \n",
       "1252  2020-02-20 08:37:35+00:00  1230396061497413632          1440784603   \n",
       "1253  2020-02-20 08:37:45+00:00  1230396104405110786          2305735179   \n",
       "\n",
       "      retweeted_status.user.id   date  day_count  \n",
       "1249              1.007990e+18  02-20          0  \n",
       "1250              1.469192e+09  02-20          0  \n",
       "1251              3.840013e+07  02-20          0  \n",
       "1252              4.806271e+07  02-20          0  \n",
       "1253              4.855866e+08  02-20          0  "
      ]
     },
     "execution_count": 34,
     "metadata": {},
     "output_type": "execute_result"
    }
   ],
   "source": [
    "data_retweet.head()"
   ]
  },
  {
   "cell_type": "markdown",
   "metadata": {},
   "source": [
    "#### aggiungo una colonna per i pesi del network"
   ]
  },
  {
   "cell_type": "code",
   "execution_count": 192,
   "metadata": {},
   "outputs": [],
   "source": [
    "data_retweet['weight'] = 1"
   ]
  },
  {
   "cell_type": "markdown",
   "metadata": {},
   "source": [
    "#### salvo il nuovo dataset"
   ]
  },
  {
   "cell_type": "code",
   "execution_count": 193,
   "metadata": {},
   "outputs": [],
   "source": [
    "data_retweet.to_csv('data_retweet',index=False)"
   ]
  },
  {
   "cell_type": "markdown",
   "metadata": {},
   "source": [
    "#### costruisco un network di 3 giorni: 20,25,26 febbraio"
   ]
  },
  {
   "cell_type": "code",
   "execution_count": 116,
   "metadata": {},
   "outputs": [],
   "source": [
    "sub_set = data_retweet[data_retweet.day_count < 3]\n",
    "sub_set_3_days = sub_set.copy()"
   ]
  },
  {
   "cell_type": "code",
   "execution_count": 117,
   "metadata": {},
   "outputs": [],
   "source": [
    "#raggruppo i tweet in base a utente del tweet ed utente del retweet, che sono target e source del network\n",
    "#'retweeted_status.user.id' è l'id di colui che è stato retweetato da 'user.id'\n",
    "db_for_network = sub_set_3_days.groupby(['retweeted_status.user.id','user.id'], as_index=False).count()"
   ]
  },
  {
   "cell_type": "code",
   "execution_count": 118,
   "metadata": {},
   "outputs": [
    {
     "data": {
      "text/html": [
       "<div>\n",
       "<style scoped>\n",
       "    .dataframe tbody tr th:only-of-type {\n",
       "        vertical-align: middle;\n",
       "    }\n",
       "\n",
       "    .dataframe tbody tr th {\n",
       "        vertical-align: top;\n",
       "    }\n",
       "\n",
       "    .dataframe thead th {\n",
       "        text-align: right;\n",
       "    }\n",
       "</style>\n",
       "<table border=\"1\" class=\"dataframe\">\n",
       "  <thead>\n",
       "    <tr style=\"text-align: right;\">\n",
       "      <th></th>\n",
       "      <th>retweeted_status.user.id</th>\n",
       "      <th>user.id</th>\n",
       "      <th>created_at</th>\n",
       "      <th>id_str</th>\n",
       "      <th>date</th>\n",
       "      <th>day_count</th>\n",
       "      <th>weight</th>\n",
       "    </tr>\n",
       "  </thead>\n",
       "  <tbody>\n",
       "    <tr>\n",
       "      <th>0</th>\n",
       "      <td>45763.0</td>\n",
       "      <td>218488177</td>\n",
       "      <td>1</td>\n",
       "      <td>1</td>\n",
       "      <td>1</td>\n",
       "      <td>1</td>\n",
       "      <td>1</td>\n",
       "    </tr>\n",
       "    <tr>\n",
       "      <th>1</th>\n",
       "      <td>394613.0</td>\n",
       "      <td>2002721</td>\n",
       "      <td>1</td>\n",
       "      <td>1</td>\n",
       "      <td>1</td>\n",
       "      <td>1</td>\n",
       "      <td>1</td>\n",
       "    </tr>\n",
       "    <tr>\n",
       "      <th>2</th>\n",
       "      <td>394613.0</td>\n",
       "      <td>3015121</td>\n",
       "      <td>1</td>\n",
       "      <td>1</td>\n",
       "      <td>1</td>\n",
       "      <td>1</td>\n",
       "      <td>1</td>\n",
       "    </tr>\n",
       "    <tr>\n",
       "      <th>3</th>\n",
       "      <td>394613.0</td>\n",
       "      <td>7830782</td>\n",
       "      <td>1</td>\n",
       "      <td>1</td>\n",
       "      <td>1</td>\n",
       "      <td>1</td>\n",
       "      <td>1</td>\n",
       "    </tr>\n",
       "    <tr>\n",
       "      <th>4</th>\n",
       "      <td>394613.0</td>\n",
       "      <td>11198782</td>\n",
       "      <td>1</td>\n",
       "      <td>1</td>\n",
       "      <td>1</td>\n",
       "      <td>1</td>\n",
       "      <td>1</td>\n",
       "    </tr>\n",
       "  </tbody>\n",
       "</table>\n",
       "</div>"
      ],
      "text/plain": [
       "   retweeted_status.user.id    user.id  created_at  id_str  date  day_count  \\\n",
       "0                   45763.0  218488177           1       1     1          1   \n",
       "1                  394613.0    2002721           1       1     1          1   \n",
       "2                  394613.0    3015121           1       1     1          1   \n",
       "3                  394613.0    7830782           1       1     1          1   \n",
       "4                  394613.0   11198782           1       1     1          1   \n",
       "\n",
       "   weight  \n",
       "0       1  \n",
       "1       1  \n",
       "2       1  \n",
       "3       1  \n",
       "4       1  "
      ]
     },
     "execution_count": 118,
     "metadata": {},
     "output_type": "execute_result"
    }
   ],
   "source": [
    "db_for_network.head()"
   ]
  },
  {
   "cell_type": "markdown",
   "metadata": {},
   "source": [
    "#### tengo solo i link con peso > 1, così da evitare eventuale rumore "
   ]
  },
  {
   "cell_type": "code",
   "execution_count": 125,
   "metadata": {},
   "outputs": [
    {
     "name": "stdout",
     "output_type": "stream",
     "text": [
      "numero link della rete: 14003\n"
     ]
    },
    {
     "data": {
      "text/html": [
       "<div>\n",
       "<style scoped>\n",
       "    .dataframe tbody tr th:only-of-type {\n",
       "        vertical-align: middle;\n",
       "    }\n",
       "\n",
       "    .dataframe tbody tr th {\n",
       "        vertical-align: top;\n",
       "    }\n",
       "\n",
       "    .dataframe thead th {\n",
       "        text-align: right;\n",
       "    }\n",
       "</style>\n",
       "<table border=\"1\" class=\"dataframe\">\n",
       "  <thead>\n",
       "    <tr style=\"text-align: right;\">\n",
       "      <th></th>\n",
       "      <th>retweeted_status.user.id</th>\n",
       "      <th>user.id</th>\n",
       "      <th>created_at</th>\n",
       "      <th>id_str</th>\n",
       "      <th>date</th>\n",
       "      <th>day_count</th>\n",
       "      <th>weight</th>\n",
       "    </tr>\n",
       "  </thead>\n",
       "  <tbody>\n",
       "    <tr>\n",
       "      <th>10</th>\n",
       "      <td>394613</td>\n",
       "      <td>169112670</td>\n",
       "      <td>3</td>\n",
       "      <td>3</td>\n",
       "      <td>3</td>\n",
       "      <td>3</td>\n",
       "      <td>3</td>\n",
       "    </tr>\n",
       "    <tr>\n",
       "      <th>111</th>\n",
       "      <td>673203</td>\n",
       "      <td>29482112</td>\n",
       "      <td>2</td>\n",
       "      <td>2</td>\n",
       "      <td>2</td>\n",
       "      <td>2</td>\n",
       "      <td>2</td>\n",
       "    </tr>\n",
       "    <tr>\n",
       "      <th>122</th>\n",
       "      <td>673203</td>\n",
       "      <td>545448505</td>\n",
       "      <td>2</td>\n",
       "      <td>2</td>\n",
       "      <td>2</td>\n",
       "      <td>2</td>\n",
       "      <td>2</td>\n",
       "    </tr>\n",
       "    <tr>\n",
       "      <th>146</th>\n",
       "      <td>814227</td>\n",
       "      <td>40985455</td>\n",
       "      <td>2</td>\n",
       "      <td>2</td>\n",
       "      <td>2</td>\n",
       "      <td>2</td>\n",
       "      <td>2</td>\n",
       "    </tr>\n",
       "    <tr>\n",
       "      <th>159</th>\n",
       "      <td>814227</td>\n",
       "      <td>151482583</td>\n",
       "      <td>2</td>\n",
       "      <td>2</td>\n",
       "      <td>2</td>\n",
       "      <td>2</td>\n",
       "      <td>2</td>\n",
       "    </tr>\n",
       "  </tbody>\n",
       "</table>\n",
       "</div>"
      ],
      "text/plain": [
       "     retweeted_status.user.id    user.id  created_at  id_str  date  day_count  \\\n",
       "10                     394613  169112670           3       3     3          3   \n",
       "111                    673203   29482112           2       2     2          2   \n",
       "122                    673203  545448505           2       2     2          2   \n",
       "146                    814227   40985455           2       2     2          2   \n",
       "159                    814227  151482583           2       2     2          2   \n",
       "\n",
       "     weight  \n",
       "10        3  \n",
       "111       2  \n",
       "122       2  \n",
       "146       2  \n",
       "159       2  "
      ]
     },
     "execution_count": 125,
     "metadata": {},
     "output_type": "execute_result"
    }
   ],
   "source": [
    "db_for_network = db_for_network[db_for_network.weight > 1]#.astype(int) #per comodità metto tutti i valori interi, anche per evitar problemi se si usa Graph.DataFrame che trasforma in stringa e ci sarebbero problemi a confrontare str(int) e str(float)\n",
    "print('numero link della rete:',len(db_for_network))\n",
    "db_for_network.head()"
   ]
  },
  {
   "cell_type": "markdown",
   "metadata": {},
   "source": [
    "#### costruisco il network"
   ]
  },
  {
   "cell_type": "code",
   "execution_count": 40,
   "metadata": {},
   "outputs": [],
   "source": [
    "#prova per vedere come funziona Graph.DataFrame\n",
    "aaa_df = pd.DataFrame({'s':[1,2,3,4],'t':[3,4,5,6],'w':[1,2,1,1]})\n",
    "aaa_df_v = pd.DataFrame({'name' : np.unique(aaa_df.values[:,:2])})"
   ]
  },
  {
   "cell_type": "code",
   "execution_count": 41,
   "metadata": {},
   "outputs": [
    {
     "name": "stdout",
     "output_type": "stream",
     "text": [
      "   s  t  w\n",
      "0  1  3  1\n",
      "1  2  4  2\n",
      "2  3  5  1\n",
      "3  4  6  1\n",
      "   name\n",
      "0     1\n",
      "1     2\n",
      "2     3\n",
      "3     4\n",
      "4     5\n",
      "5     6\n"
     ]
    }
   ],
   "source": [
    "print(aaa_df)\n",
    "print(aaa_df_v)"
   ]
  },
  {
   "cell_type": "code",
   "execution_count": 43,
   "metadata": {},
   "outputs": [],
   "source": [
    "# dataframe deve essere in formato stringa altrimenti non funziona\n",
    "aaa_g = ig.Graph.DataFrame(aaa_df.astype(str),vertices = aaa_df_v)"
   ]
  },
  {
   "cell_type": "code",
   "execution_count": 44,
   "metadata": {},
   "outputs": [
    {
     "data": {
      "text/plain": [
       "'IGRAPH DN-- 6 4 -- \\n+ attr: name (v), w (e)'"
      ]
     },
     "execution_count": 44,
     "metadata": {},
     "output_type": "execute_result"
    }
   ],
   "source": [
    "aaa_g.summary()"
   ]
  },
  {
   "cell_type": "markdown",
   "metadata": {},
   "source": [
    "#### uso TupleList che è più rapido"
   ]
  },
  {
   "cell_type": "code",
   "execution_count": 126,
   "metadata": {},
   "outputs": [],
   "source": [
    "graph_3_days = ig.Graph.TupleList(db_for_network[['retweeted_status.user.id','user.id','weight']].itertuples(index=False), directed=True, weights=True)"
   ]
  },
  {
   "cell_type": "code",
   "execution_count": 127,
   "metadata": {},
   "outputs": [
    {
     "data": {
      "text/plain": [
       "'IGRAPH DNW- 7787 14003 -- \\n+ attr: name (v), weight (e)'"
      ]
     },
     "execution_count": 127,
     "metadata": {},
     "output_type": "execute_result"
    }
   ],
   "source": [
    "graph_3_days.summary()"
   ]
  },
  {
   "cell_type": "markdown",
   "metadata": {},
   "source": [
    "### Analisi delle misure di centralita"
   ]
  },
  {
   "cell_type": "code",
   "execution_count": 3,
   "metadata": {},
   "outputs": [],
   "source": [
    "#definisco una funzione per il calcolo delle misure, che restituisca un dataframe \n",
    "def centrality_measures(graph, df, weights = None):\n",
    "    # graph = igraph.Graph object\n",
    "    # df = pandas.DataFrame object\n",
    "    df['name'] = graph.vs['name']\n",
    "    df['betweenness'] = graph.betweenness(weights=weights)\n",
    "    df['pagerank'] = graph.pagerank(weights=weights)\n",
    "    df['degree'] = graph.degree()\n",
    "    df['outdegree'] = graph.outdegree()\n",
    "    df['local_transitivity'] = graph.transitivity_local_undirected(mode = 'zero',weights=weights)\n",
    "    if graph.is_simple():\n",
    "        df['knn'] = graph.knn(weights=weights)\n",
    "    return df"
   ]
  },
  {
   "cell_type": "code",
   "execution_count": 134,
   "metadata": {},
   "outputs": [
    {
     "data": {
      "text/html": [
       "<div>\n",
       "<style scoped>\n",
       "    .dataframe tbody tr th:only-of-type {\n",
       "        vertical-align: middle;\n",
       "    }\n",
       "\n",
       "    .dataframe tbody tr th {\n",
       "        vertical-align: top;\n",
       "    }\n",
       "\n",
       "    .dataframe thead th {\n",
       "        text-align: right;\n",
       "    }\n",
       "</style>\n",
       "<table border=\"1\" class=\"dataframe\">\n",
       "  <thead>\n",
       "    <tr style=\"text-align: right;\">\n",
       "      <th></th>\n",
       "      <th>name</th>\n",
       "      <th>betweenness</th>\n",
       "      <th>pagerank</th>\n",
       "      <th>degree</th>\n",
       "      <th>outdegree</th>\n",
       "      <th>local_transitivity</th>\n",
       "    </tr>\n",
       "  </thead>\n",
       "  <tbody>\n",
       "    <tr>\n",
       "      <th>0</th>\n",
       "      <td>394613</td>\n",
       "      <td>0.0</td>\n",
       "      <td>0.000099</td>\n",
       "      <td>1</td>\n",
       "      <td>1</td>\n",
       "      <td>0.0</td>\n",
       "    </tr>\n",
       "    <tr>\n",
       "      <th>1</th>\n",
       "      <td>169112670</td>\n",
       "      <td>0.0</td>\n",
       "      <td>0.000183</td>\n",
       "      <td>1</td>\n",
       "      <td>0</td>\n",
       "      <td>0.0</td>\n",
       "    </tr>\n",
       "    <tr>\n",
       "      <th>2</th>\n",
       "      <td>673203</td>\n",
       "      <td>0.0</td>\n",
       "      <td>0.000099</td>\n",
       "      <td>2</td>\n",
       "      <td>2</td>\n",
       "      <td>0.0</td>\n",
       "    </tr>\n",
       "    <tr>\n",
       "      <th>3</th>\n",
       "      <td>29482112</td>\n",
       "      <td>0.0</td>\n",
       "      <td>0.000141</td>\n",
       "      <td>1</td>\n",
       "      <td>0</td>\n",
       "      <td>0.0</td>\n",
       "    </tr>\n",
       "    <tr>\n",
       "      <th>4</th>\n",
       "      <td>545448505</td>\n",
       "      <td>0.0</td>\n",
       "      <td>0.000141</td>\n",
       "      <td>1</td>\n",
       "      <td>0</td>\n",
       "      <td>0.0</td>\n",
       "    </tr>\n",
       "  </tbody>\n",
       "</table>\n",
       "</div>"
      ],
      "text/plain": [
       "        name  betweenness  pagerank  degree  outdegree  local_transitivity\n",
       "0     394613          0.0  0.000099       1          1                 0.0\n",
       "1  169112670          0.0  0.000183       1          0                 0.0\n",
       "2     673203          0.0  0.000099       2          2                 0.0\n",
       "3   29482112          0.0  0.000141       1          0                 0.0\n",
       "4  545448505          0.0  0.000141       1          0                 0.0"
      ]
     },
     "execution_count": 134,
     "metadata": {},
     "output_type": "execute_result"
    }
   ],
   "source": [
    "measures_3_days = centrality_measures(graph_3_days,pd.DataFrame(),weights ='weight')\n",
    "measures_3_days.head()"
   ]
  },
  {
   "cell_type": "markdown",
   "metadata": {},
   "source": [
    "#### analisi in periodi più lunghi, una settimana, un mese"
   ]
  },
  {
   "cell_type": "markdown",
   "metadata": {},
   "source": [
    "#### Costruisco un funzione che automatizzi il processo"
   ]
  },
  {
   "cell_type": "code",
   "execution_count": 240,
   "metadata": {},
   "outputs": [],
   "source": [
    "def build_graph(fini_day,init_day = 0):\n",
    "    sub_set = data_retweet[(data_retweet.day_count >= init_day)&(data_retweet.day_count < fini_day)]\n",
    "    db_for_network = sub_set.groupby(['retweeted_status.user.id','user.id'], as_index=False).count()\n",
    "    db_for_network = db_for_network[db_for_network.weight > 1]#.astype(int)\n",
    "    return ig.Graph.TupleList(db_for_network[['retweeted_status.user.id','user.id','weight']].itertuples(index=False), directed=True, weights=True)"
   ]
  },
  {
   "cell_type": "markdown",
   "metadata": {},
   "source": [
    "##### una settimana"
   ]
  },
  {
   "cell_type": "code",
   "execution_count": 136,
   "metadata": {},
   "outputs": [
    {
     "data": {
      "text/html": [
       "<div>\n",
       "<style scoped>\n",
       "    .dataframe tbody tr th:only-of-type {\n",
       "        vertical-align: middle;\n",
       "    }\n",
       "\n",
       "    .dataframe tbody tr th {\n",
       "        vertical-align: top;\n",
       "    }\n",
       "\n",
       "    .dataframe thead th {\n",
       "        text-align: right;\n",
       "    }\n",
       "</style>\n",
       "<table border=\"1\" class=\"dataframe\">\n",
       "  <thead>\n",
       "    <tr style=\"text-align: right;\">\n",
       "      <th></th>\n",
       "      <th>name</th>\n",
       "      <th>betweenness</th>\n",
       "      <th>pagerank</th>\n",
       "      <th>degree</th>\n",
       "      <th>outdegree</th>\n",
       "      <th>local_transitivity</th>\n",
       "    </tr>\n",
       "  </thead>\n",
       "  <tbody>\n",
       "    <tr>\n",
       "      <th>0</th>\n",
       "      <td>394613</td>\n",
       "      <td>0.0</td>\n",
       "      <td>0.000035</td>\n",
       "      <td>24</td>\n",
       "      <td>24</td>\n",
       "      <td>0.000000</td>\n",
       "    </tr>\n",
       "    <tr>\n",
       "      <th>1</th>\n",
       "      <td>2002721</td>\n",
       "      <td>0.0</td>\n",
       "      <td>0.000038</td>\n",
       "      <td>2</td>\n",
       "      <td>0</td>\n",
       "      <td>0.000000</td>\n",
       "    </tr>\n",
       "    <tr>\n",
       "      <th>2</th>\n",
       "      <td>16192743</td>\n",
       "      <td>0.0</td>\n",
       "      <td>0.000036</td>\n",
       "      <td>1</td>\n",
       "      <td>0</td>\n",
       "      <td>0.000000</td>\n",
       "    </tr>\n",
       "    <tr>\n",
       "      <th>3</th>\n",
       "      <td>29521878</td>\n",
       "      <td>0.0</td>\n",
       "      <td>0.000051</td>\n",
       "      <td>12</td>\n",
       "      <td>0</td>\n",
       "      <td>0.074747</td>\n",
       "    </tr>\n",
       "    <tr>\n",
       "      <th>4</th>\n",
       "      <td>54964150</td>\n",
       "      <td>0.0</td>\n",
       "      <td>0.000036</td>\n",
       "      <td>1</td>\n",
       "      <td>0</td>\n",
       "      <td>0.000000</td>\n",
       "    </tr>\n",
       "  </tbody>\n",
       "</table>\n",
       "</div>"
      ],
      "text/plain": [
       "       name  betweenness  pagerank  degree  outdegree  local_transitivity\n",
       "0    394613          0.0  0.000035      24         24            0.000000\n",
       "1   2002721          0.0  0.000038       2          0            0.000000\n",
       "2  16192743          0.0  0.000036       1          0            0.000000\n",
       "3  29521878          0.0  0.000051      12          0            0.074747\n",
       "4  54964150          0.0  0.000036       1          0            0.000000"
      ]
     },
     "execution_count": 136,
     "metadata": {},
     "output_type": "execute_result"
    }
   ],
   "source": [
    "measures_7_days = centrality_measures(build_graph(7),pd.DataFrame(),weights ='weight')\n",
    "measures_7_days.head()"
   ]
  },
  {
   "cell_type": "markdown",
   "metadata": {},
   "source": [
    "##### un mese"
   ]
  },
  {
   "cell_type": "code",
   "execution_count": 131,
   "metadata": {},
   "outputs": [
    {
     "data": {
      "text/html": [
       "<div>\n",
       "<style scoped>\n",
       "    .dataframe tbody tr th:only-of-type {\n",
       "        vertical-align: middle;\n",
       "    }\n",
       "\n",
       "    .dataframe tbody tr th {\n",
       "        vertical-align: top;\n",
       "    }\n",
       "\n",
       "    .dataframe thead th {\n",
       "        text-align: right;\n",
       "    }\n",
       "</style>\n",
       "<table border=\"1\" class=\"dataframe\">\n",
       "  <thead>\n",
       "    <tr style=\"text-align: right;\">\n",
       "      <th></th>\n",
       "      <th>name</th>\n",
       "      <th>betweenness</th>\n",
       "      <th>pagerank</th>\n",
       "      <th>degree</th>\n",
       "      <th>outdegree</th>\n",
       "      <th>local_transitivity</th>\n",
       "    </tr>\n",
       "  </thead>\n",
       "  <tbody>\n",
       "    <tr>\n",
       "      <th>0</th>\n",
       "      <td>22083.0</td>\n",
       "      <td>0.000000e+00</td>\n",
       "      <td>0.000007</td>\n",
       "      <td>1</td>\n",
       "      <td>1</td>\n",
       "      <td>0.000000</td>\n",
       "    </tr>\n",
       "    <tr>\n",
       "      <th>1</th>\n",
       "      <td>70054648.0</td>\n",
       "      <td>1.263340e+05</td>\n",
       "      <td>0.000185</td>\n",
       "      <td>70</td>\n",
       "      <td>14</td>\n",
       "      <td>0.083783</td>\n",
       "    </tr>\n",
       "    <tr>\n",
       "      <th>2</th>\n",
       "      <td>394613.0</td>\n",
       "      <td>1.806557e+06</td>\n",
       "      <td>0.000012</td>\n",
       "      <td>234</td>\n",
       "      <td>232</td>\n",
       "      <td>0.012486</td>\n",
       "    </tr>\n",
       "    <tr>\n",
       "      <th>3</th>\n",
       "      <td>808231.0</td>\n",
       "      <td>0.000000e+00</td>\n",
       "      <td>0.000009</td>\n",
       "      <td>27</td>\n",
       "      <td>0</td>\n",
       "      <td>0.201450</td>\n",
       "    </tr>\n",
       "    <tr>\n",
       "      <th>4</th>\n",
       "      <td>2002721.0</td>\n",
       "      <td>0.000000e+00</td>\n",
       "      <td>0.000008</td>\n",
       "      <td>23</td>\n",
       "      <td>0</td>\n",
       "      <td>0.066535</td>\n",
       "    </tr>\n",
       "  </tbody>\n",
       "</table>\n",
       "</div>"
      ],
      "text/plain": [
       "         name   betweenness  pagerank  degree  outdegree  local_transitivity\n",
       "0     22083.0  0.000000e+00  0.000007       1          1            0.000000\n",
       "1  70054648.0  1.263340e+05  0.000185      70         14            0.083783\n",
       "2    394613.0  1.806557e+06  0.000012     234        232            0.012486\n",
       "3    808231.0  0.000000e+00  0.000009      27          0            0.201450\n",
       "4   2002721.0  0.000000e+00  0.000008      23          0            0.066535"
      ]
     },
     "execution_count": 131,
     "metadata": {},
     "output_type": "execute_result"
    }
   ],
   "source": [
    "measures_30_days = centrality_measures(build_graph(30),pd.DataFrame(),weights ='weight')\n",
    "measures_30_days.head()"
   ]
  },
  {
   "cell_type": "markdown",
   "metadata": {},
   "source": [
    "##### due sttimane"
   ]
  },
  {
   "cell_type": "code",
   "execution_count": 138,
   "metadata": {},
   "outputs": [
    {
     "data": {
      "text/html": [
       "<div>\n",
       "<style scoped>\n",
       "    .dataframe tbody tr th:only-of-type {\n",
       "        vertical-align: middle;\n",
       "    }\n",
       "\n",
       "    .dataframe tbody tr th {\n",
       "        vertical-align: top;\n",
       "    }\n",
       "\n",
       "    .dataframe thead th {\n",
       "        text-align: right;\n",
       "    }\n",
       "</style>\n",
       "<table border=\"1\" class=\"dataframe\">\n",
       "  <thead>\n",
       "    <tr style=\"text-align: right;\">\n",
       "      <th></th>\n",
       "      <th>name</th>\n",
       "      <th>betweenness</th>\n",
       "      <th>pagerank</th>\n",
       "      <th>degree</th>\n",
       "      <th>outdegree</th>\n",
       "      <th>local_transitivity</th>\n",
       "    </tr>\n",
       "  </thead>\n",
       "  <tbody>\n",
       "    <tr>\n",
       "      <th>0</th>\n",
       "      <td>394613</td>\n",
       "      <td>1314.600000</td>\n",
       "      <td>0.000017</td>\n",
       "      <td>119</td>\n",
       "      <td>118</td>\n",
       "      <td>0.008502</td>\n",
       "    </tr>\n",
       "    <tr>\n",
       "      <th>1</th>\n",
       "      <td>808231</td>\n",
       "      <td>0.000000</td>\n",
       "      <td>0.000018</td>\n",
       "      <td>11</td>\n",
       "      <td>0</td>\n",
       "      <td>0.211321</td>\n",
       "    </tr>\n",
       "    <tr>\n",
       "      <th>2</th>\n",
       "      <td>2002721</td>\n",
       "      <td>0.000000</td>\n",
       "      <td>0.000018</td>\n",
       "      <td>8</td>\n",
       "      <td>0</td>\n",
       "      <td>0.000000</td>\n",
       "    </tr>\n",
       "    <tr>\n",
       "      <th>3</th>\n",
       "      <td>9584192</td>\n",
       "      <td>25412.128236</td>\n",
       "      <td>0.000020</td>\n",
       "      <td>54</td>\n",
       "      <td>41</td>\n",
       "      <td>0.113546</td>\n",
       "    </tr>\n",
       "    <tr>\n",
       "      <th>4</th>\n",
       "      <td>13056322</td>\n",
       "      <td>0.000000</td>\n",
       "      <td>0.000017</td>\n",
       "      <td>1</td>\n",
       "      <td>0</td>\n",
       "      <td>0.000000</td>\n",
       "    </tr>\n",
       "  </tbody>\n",
       "</table>\n",
       "</div>"
      ],
      "text/plain": [
       "       name   betweenness  pagerank  degree  outdegree  local_transitivity\n",
       "0    394613   1314.600000  0.000017     119        118            0.008502\n",
       "1    808231      0.000000  0.000018      11          0            0.211321\n",
       "2   2002721      0.000000  0.000018       8          0            0.000000\n",
       "3   9584192  25412.128236  0.000020      54         41            0.113546\n",
       "4  13056322      0.000000  0.000017       1          0            0.000000"
      ]
     },
     "execution_count": 138,
     "metadata": {},
     "output_type": "execute_result"
    }
   ],
   "source": [
    "measures_first_2_week = centrality_measures(build_graph(14),pd.DataFrame(),weights='weight')\n",
    "measures_first_2_week.head()"
   ]
  },
  {
   "cell_type": "markdown",
   "metadata": {},
   "source": [
    "##### ultime due settimane"
   ]
  },
  {
   "cell_type": "code",
   "execution_count": 245,
   "metadata": {},
   "outputs": [
    {
     "data": {
      "text/html": [
       "<div>\n",
       "<style scoped>\n",
       "    .dataframe tbody tr th:only-of-type {\n",
       "        vertical-align: middle;\n",
       "    }\n",
       "\n",
       "    .dataframe tbody tr th {\n",
       "        vertical-align: top;\n",
       "    }\n",
       "\n",
       "    .dataframe thead th {\n",
       "        text-align: right;\n",
       "    }\n",
       "</style>\n",
       "<table border=\"1\" class=\"dataframe\">\n",
       "  <thead>\n",
       "    <tr style=\"text-align: right;\">\n",
       "      <th></th>\n",
       "      <th>name</th>\n",
       "      <th>betweenness</th>\n",
       "      <th>pagerank</th>\n",
       "      <th>degree</th>\n",
       "      <th>outdegree</th>\n",
       "      <th>local_transitivity</th>\n",
       "    </tr>\n",
       "  </thead>\n",
       "  <tbody>\n",
       "    <tr>\n",
       "      <th>0</th>\n",
       "      <td>394613.0</td>\n",
       "      <td>223248.791382</td>\n",
       "      <td>0.000018</td>\n",
       "      <td>67</td>\n",
       "      <td>66</td>\n",
       "      <td>0.008589</td>\n",
       "    </tr>\n",
       "    <tr>\n",
       "      <th>1</th>\n",
       "      <td>7046912.0</td>\n",
       "      <td>0.000000</td>\n",
       "      <td>0.000010</td>\n",
       "      <td>4</td>\n",
       "      <td>0</td>\n",
       "      <td>0.000000</td>\n",
       "    </tr>\n",
       "    <tr>\n",
       "      <th>2</th>\n",
       "      <td>7697992.0</td>\n",
       "      <td>141976.732162</td>\n",
       "      <td>0.000011</td>\n",
       "      <td>71</td>\n",
       "      <td>66</td>\n",
       "      <td>0.046981</td>\n",
       "    </tr>\n",
       "    <tr>\n",
       "      <th>3</th>\n",
       "      <td>9497072.0</td>\n",
       "      <td>0.000000</td>\n",
       "      <td>0.000016</td>\n",
       "      <td>43</td>\n",
       "      <td>0</td>\n",
       "      <td>0.088820</td>\n",
       "    </tr>\n",
       "    <tr>\n",
       "      <th>4</th>\n",
       "      <td>9831832.0</td>\n",
       "      <td>0.000000</td>\n",
       "      <td>0.000009</td>\n",
       "      <td>9</td>\n",
       "      <td>0</td>\n",
       "      <td>0.115000</td>\n",
       "    </tr>\n",
       "  </tbody>\n",
       "</table>\n",
       "</div>"
      ],
      "text/plain": [
       "        name    betweenness  pagerank  degree  outdegree  local_transitivity\n",
       "0   394613.0  223248.791382  0.000018      67         66            0.008589\n",
       "1  7046912.0       0.000000  0.000010       4          0            0.000000\n",
       "2  7697992.0  141976.732162  0.000011      71         66            0.046981\n",
       "3  9497072.0       0.000000  0.000016      43          0            0.088820\n",
       "4  9831832.0       0.000000  0.000009       9          0            0.115000"
      ]
     },
     "execution_count": 245,
     "metadata": {},
     "output_type": "execute_result"
    }
   ],
   "source": [
    "measures_last_2_week = centrality_measures(build_graph(31,15),pd.DataFrame(),weights='weight')\n",
    "measures_last_2_week.head()"
   ]
  },
  {
   "cell_type": "markdown",
   "metadata": {},
   "source": [
    "#### Salvo le misure"
   ]
  },
  {
   "cell_type": "code",
   "execution_count": 145,
   "metadata": {},
   "outputs": [],
   "source": [
    "measures_3_days.to_csv('measures/measures_3_days',index=False)\n",
    "measures_7_days.to_csv('measures/measures_7_days',index=False)\n",
    "measures_30_days.to_csv('measures/measures_30_days',index=False)\n",
    "measures_first_2_week.to_csv('measures/measures_first_2_week', index= False)\n",
    "measures_last_2_week.to_csv('measures/measures_last_2_week', index= False)"
   ]
  },
  {
   "cell_type": "code",
   "execution_count": 103,
   "metadata": {},
   "outputs": [
    {
     "data": {
      "text/plain": [
       "<matplotlib.axes._subplots.AxesSubplot at 0x7f03772dd400>"
      ]
     },
     "execution_count": 103,
     "metadata": {},
     "output_type": "execute_result"
    },
    {
     "data": {
      "image/png": "[encoded data removed]",
      "text/plain": [
       "<Figure size 432x288 with 1 Axes>"
      ]
     },
     "metadata": {
      "needs_background": "light"
     },
     "output_type": "display_data"
    }
   ],
   "source": [
    "#degree distribution after degree 500\n",
    "sns.distplot(measures_30_days.outdegree,bins=np.linspace(500,measures_30_days.outdegree.max(),30), kde=False)"
   ]
  },
  {
   "cell_type": "code",
   "execution_count": 113,
   "metadata": {},
   "outputs": [
    {
     "data": {
      "text/plain": [
       "<matplotlib.axes._subplots.AxesSubplot at 0x7f0376ef3710>"
      ]
     },
     "execution_count": 113,
     "metadata": {},
     "output_type": "execute_result"
    },
    {
     "data": {
      "image/png": "[encoded data removed]",
      "text/plain": [
       "<Figure size 432x288 with 1 Axes>"
      ]
     },
     "metadata": {
      "needs_background": "light"
     },
     "output_type": "display_data"
    }
   ],
   "source": [
    "#distribution between 10 and 1000\n",
    "sns.distplot(measures_30_days.outdegree,bins=np.linspace(10,1000,30),kde=False)"
   ]
  },
  {
   "cell_type": "markdown",
   "metadata": {},
   "source": [
    "#### guardo gli utenti più retweetati"
   ]
  },
  {
   "cell_type": "code",
   "execution_count": 9,
   "metadata": {},
   "outputs": [],
   "source": [
    "#guardo i 20 con degree più alto\n",
    "top_20_retweeted = measures_30_days.sort_values('outdegree')['name'].values[-20:]"
   ]
  },
  {
   "cell_type": "markdown",
   "metadata": {},
   "source": [
    "#### incorcio col file metadata per capire i nomi degli utenti"
   ]
  },
  {
   "cell_type": "code",
   "execution_count": 208,
   "metadata": {},
   "outputs": [
    {
     "data": {
      "text/html": [
       "<div>\n",
       "<style scoped>\n",
       "    .dataframe tbody tr th:only-of-type {\n",
       "        vertical-align: middle;\n",
       "    }\n",
       "\n",
       "    .dataframe tbody tr th {\n",
       "        vertical-align: top;\n",
       "    }\n",
       "\n",
       "    .dataframe thead th {\n",
       "        text-align: right;\n",
       "    }\n",
       "</style>\n",
       "<table border=\"1\" class=\"dataframe\">\n",
       "  <thead>\n",
       "    <tr style=\"text-align: right;\">\n",
       "      <th></th>\n",
       "      <th>id_str</th>\n",
       "      <th>text</th>\n",
       "      <th>retweeted_status.id</th>\n",
       "      <th>user.screen_name</th>\n",
       "      <th>user.followers_count</th>\n",
       "      <th>user.location</th>\n",
       "    </tr>\n",
       "  </thead>\n",
       "  <tbody>\n",
       "    <tr>\n",
       "      <th>0</th>\n",
       "      <td>313952961422295040</td>\n",
       "      <td>http://t.co/LqhmyOCsUB | Coronavirus: sarà la ...</td>\n",
       "      <td>NaN</td>\n",
       "      <td>urcaurcait</td>\n",
       "      <td>7</td>\n",
       "      <td>Italia</td>\n",
       "    </tr>\n",
       "    <tr>\n",
       "      <th>1</th>\n",
       "      <td>314134318471593985</td>\n",
       "      <td>La prossima pandemia sará scatenata dal corona...</td>\n",
       "      <td>NaN</td>\n",
       "      <td>alle_iccir</td>\n",
       "      <td>521</td>\n",
       "      <td>Purgatorio</td>\n",
       "    </tr>\n",
       "    <tr>\n",
       "      <th>2</th>\n",
       "      <td>411121987369832448</td>\n",
       "      <td>Isoliamo il virus del buon senso e diffondiamo...</td>\n",
       "      <td>NaN</td>\n",
       "      <td>AleLinari</td>\n",
       "      <td>212</td>\n",
       "      <td>Romagna</td>\n",
       "    </tr>\n",
       "    <tr>\n",
       "      <th>3</th>\n",
       "      <td>866515833895473153</td>\n",
       "      <td>Che sempre più persone credono in teorie bisla...</td>\n",
       "      <td>NaN</td>\n",
       "      <td>AsinoMorto</td>\n",
       "      <td>18035</td>\n",
       "      <td>Generalmente eretta</td>\n",
       "    </tr>\n",
       "    <tr>\n",
       "      <th>4</th>\n",
       "      <td>867791787007463424</td>\n",
       "      <td>Mai un'epidemia di intelligenza</td>\n",
       "      <td>NaN</td>\n",
       "      <td>mcomemax</td>\n",
       "      <td>2614</td>\n",
       "      <td>reggio emilia</td>\n",
       "    </tr>\n",
       "  </tbody>\n",
       "</table>\n",
       "</div>"
      ],
      "text/plain": [
       "               id_str                                               text  \\\n",
       "0  313952961422295040  http://t.co/LqhmyOCsUB | Coronavirus: sarà la ...   \n",
       "1  314134318471593985  La prossima pandemia sará scatenata dal corona...   \n",
       "2  411121987369832448  Isoliamo il virus del buon senso e diffondiamo...   \n",
       "3  866515833895473153  Che sempre più persone credono in teorie bisla...   \n",
       "4  867791787007463424                    Mai un'epidemia di intelligenza   \n",
       "\n",
       "   retweeted_status.id user.screen_name  user.followers_count  \\\n",
       "0                  NaN       urcaurcait                     7   \n",
       "1                  NaN       alle_iccir                   521   \n",
       "2                  NaN        AleLinari                   212   \n",
       "3                  NaN       AsinoMorto                 18035   \n",
       "4                  NaN         mcomemax                  2614   \n",
       "\n",
       "         user.location  \n",
       "0               Italia  \n",
       "1           Purgatorio  \n",
       "2              Romagna  \n",
       "3  Generalmente eretta  \n",
       "4        reggio emilia  "
      ]
     },
     "execution_count": 208,
     "metadata": {},
     "output_type": "execute_result"
    }
   ],
   "source": [
    "pd.read_csv('transfer_41033_files_4cf7ccc6(1)/table_metadata.csv', nrows = 5)"
   ]
  },
  {
   "cell_type": "code",
   "execution_count": 133,
   "metadata": {},
   "outputs": [],
   "source": [
    "#aggiunta si lineterminator = '\\n' per evitare un errore che si h anel caricamento del file\n",
    "chunksize = 10**5\n",
    "meta_data=pd.DataFrame()\n",
    "for chunk in pd.read_csv('transfer_41033_files_4cf7ccc6(1)/table_metadata.csv', chunksize=chunksize, lineterminator='\\n'):\n",
    "    meta_data = pd.concat([meta_data, chunk])"
   ]
  },
  {
   "cell_type": "code",
   "execution_count": 140,
   "metadata": {},
   "outputs": [],
   "source": [
    "new_meta = meta_data[meta_data['retweeted_status.id'].isnull() == False]"
   ]
  },
  {
   "cell_type": "code",
   "execution_count": 144,
   "metadata": {},
   "outputs": [],
   "source": [
    "new_meta.to_csv('file_metadata.csv',index=False)"
   ]
  },
  {
   "cell_type": "code",
   "execution_count": 146,
   "metadata": {},
   "outputs": [
    {
     "data": {
      "text/html": [
       "<div>\n",
       "<style scoped>\n",
       "    .dataframe tbody tr th:only-of-type {\n",
       "        vertical-align: middle;\n",
       "    }\n",
       "\n",
       "    .dataframe tbody tr th {\n",
       "        vertical-align: top;\n",
       "    }\n",
       "\n",
       "    .dataframe thead th {\n",
       "        text-align: right;\n",
       "    }\n",
       "</style>\n",
       "<table border=\"1\" class=\"dataframe\">\n",
       "  <thead>\n",
       "    <tr style=\"text-align: right;\">\n",
       "      <th></th>\n",
       "      <th>id_str</th>\n",
       "      <th>text</th>\n",
       "      <th>retweeted_status.id</th>\n",
       "      <th>user.screen_name</th>\n",
       "      <th>user.followers_count</th>\n",
       "      <th>user.location</th>\n",
       "    </tr>\n",
       "  </thead>\n",
       "  <tbody>\n",
       "  </tbody>\n",
       "</table>\n",
       "</div>"
      ],
      "text/plain": [
       "Empty DataFrame\n",
       "Columns: [id_str, text, retweeted_status.id, user.screen_name, user.followers_count, user.location]\n",
       "Index: []"
      ]
     },
     "execution_count": 146,
     "metadata": {},
     "output_type": "execute_result"
    }
   ],
   "source": [
    "new_meta[new_meta['retweeted_status.id'].isin(top_20_retweeted)].head()"
   ]
  },
  {
   "cell_type": "markdown",
   "metadata": {},
   "source": [
    "gli id nel file metadata.csv sembrerebbero diversi da quelli del file rewteets.csv, poichè nel primo non compaiono e nel secondo si"
   ]
  },
  {
   "cell_type": "code",
   "execution_count": 138,
   "metadata": {},
   "outputs": [
    {
     "data": {
      "text/html": [
       "<div>\n",
       "<style scoped>\n",
       "    .dataframe tbody tr th:only-of-type {\n",
       "        vertical-align: middle;\n",
       "    }\n",
       "\n",
       "    .dataframe tbody tr th {\n",
       "        vertical-align: top;\n",
       "    }\n",
       "\n",
       "    .dataframe thead th {\n",
       "        text-align: right;\n",
       "    }\n",
       "</style>\n",
       "<table border=\"1\" class=\"dataframe\">\n",
       "  <thead>\n",
       "    <tr style=\"text-align: right;\">\n",
       "      <th></th>\n",
       "      <th>created_at</th>\n",
       "      <th>id_str</th>\n",
       "      <th>user.id</th>\n",
       "      <th>retweeted_status.user.id</th>\n",
       "      <th>date</th>\n",
       "      <th>day_count</th>\n",
       "      <th>weight</th>\n",
       "    </tr>\n",
       "  </thead>\n",
       "  <tbody>\n",
       "    <tr>\n",
       "      <th>21</th>\n",
       "      <td>2020-02-20 08:43:08+00:00</td>\n",
       "      <td>1230397459932774401</td>\n",
       "      <td>2278132116</td>\n",
       "      <td>7.328175e+17</td>\n",
       "      <td>02-20</td>\n",
       "      <td>0</td>\n",
       "      <td>1</td>\n",
       "    </tr>\n",
       "    <tr>\n",
       "      <th>23</th>\n",
       "      <td>2020-02-20 08:43:42+00:00</td>\n",
       "      <td>1230397601658343426</td>\n",
       "      <td>420977208</td>\n",
       "      <td>7.328175e+17</td>\n",
       "      <td>02-20</td>\n",
       "      <td>0</td>\n",
       "      <td>1</td>\n",
       "    </tr>\n",
       "    <tr>\n",
       "      <th>49</th>\n",
       "      <td>2020-02-20 08:51:02+00:00</td>\n",
       "      <td>1230399448083288064</td>\n",
       "      <td>3207950973</td>\n",
       "      <td>9.944532e+17</td>\n",
       "      <td>02-20</td>\n",
       "      <td>0</td>\n",
       "      <td>1</td>\n",
       "    </tr>\n",
       "    <tr>\n",
       "      <th>50</th>\n",
       "      <td>2020-02-20 08:51:11+00:00</td>\n",
       "      <td>1230399483558727680</td>\n",
       "      <td>1131588822</td>\n",
       "      <td>7.328175e+17</td>\n",
       "      <td>02-20</td>\n",
       "      <td>0</td>\n",
       "      <td>1</td>\n",
       "    </tr>\n",
       "    <tr>\n",
       "      <th>58</th>\n",
       "      <td>2020-02-20 08:53:14+00:00</td>\n",
       "      <td>1230400000997416962</td>\n",
       "      <td>1022095164406476800</td>\n",
       "      <td>5.893702e+06</td>\n",
       "      <td>02-20</td>\n",
       "      <td>0</td>\n",
       "      <td>1</td>\n",
       "    </tr>\n",
       "  </tbody>\n",
       "</table>\n",
       "</div>"
      ],
      "text/plain": [
       "                   created_at               id_str              user.id  \\\n",
       "21  2020-02-20 08:43:08+00:00  1230397459932774401           2278132116   \n",
       "23  2020-02-20 08:43:42+00:00  1230397601658343426            420977208   \n",
       "49  2020-02-20 08:51:02+00:00  1230399448083288064           3207950973   \n",
       "50  2020-02-20 08:51:11+00:00  1230399483558727680           1131588822   \n",
       "58  2020-02-20 08:53:14+00:00  1230400000997416962  1022095164406476800   \n",
       "\n",
       "    retweeted_status.user.id   date  day_count  weight  \n",
       "21              7.328175e+17  02-20          0       1  \n",
       "23              7.328175e+17  02-20          0       1  \n",
       "49              9.944532e+17  02-20          0       1  \n",
       "50              7.328175e+17  02-20          0       1  \n",
       "58              5.893702e+06  02-20          0       1  "
      ]
     },
     "execution_count": 138,
     "metadata": {},
     "output_type": "execute_result"
    }
   ],
   "source": [
    "data_retweet[data_retweet['retweeted_status.user.id'].isin(top_20_retweeted)].head()"
   ]
  },
  {
   "cell_type": "markdown",
   "metadata": {},
   "source": [
    "#### Confronto misure"
   ]
  },
  {
   "cell_type": "code",
   "execution_count": 8,
   "metadata": {},
   "outputs": [],
   "source": [
    "#ricarico le misure calcolate\n",
    "measures_3_days=pd.read_csv('measures/measures_3_days')\n",
    "measures_7_days=pd.read_csv('measures/measures_7_days')\n",
    "measures_30_days=pd.read_csv('measures/measures_30_days')\n",
    "measures_first_2_week=pd.read_csv('measures/measures_first_2_week')\n",
    "measures_last_2_week=pd.read_csv('measures/measures_last_2_week')"
   ]
  },
  {
   "cell_type": "code",
   "execution_count": 151,
   "metadata": {},
   "outputs": [],
   "source": [
    "def norm_betweenness(series):\n",
    "    n = len(series)\n",
    "    return series / ((n-1)*(n-2))"
   ]
  },
  {
   "cell_type": "code",
   "execution_count": 152,
   "metadata": {},
   "outputs": [],
   "source": [
    "measures_3_days['norm_betweenness']=norm_betweenness(measures_3_days['betweenness'])\n",
    "measures_7_days['norm_betweenness']=norm_betweenness(measures_7_days['betweenness'])\n",
    "measures_30_days['norm_betweenness']=norm_betweenness(measures_30_days['betweenness'])\n",
    "measures_first_2_week['norm_betweenness']=norm_betweenness(measures_first_2_week['betweenness'])\n",
    "measures_last_2_week['norm_betweenness']=norm_betweenness(measures_last_2_week['betweenness'])\n"
   ]
  },
  {
   "cell_type": "code",
   "execution_count": 153,
   "metadata": {},
   "outputs": [
    {
     "data": {
      "text/plain": [
       "<matplotlib.legend.Legend at 0x7f9ce8901940>"
      ]
     },
     "execution_count": 153,
     "metadata": {},
     "output_type": "execute_result"
    },
    {
     "data": {
      "image/png": "[encoded data removed]",
      "text/plain": [
       "<Figure size 432x288 with 1 Axes>"
      ]
     },
     "metadata": {},
     "output_type": "display_data"
    }
   ],
   "source": [
    "sns.distplot(measures_30_days.norm_betweenness, kde=False, bins=np.linspace(1e-6,1e-4,30))\n",
    "sns.distplot(measures_3_days.norm_betweenness, kde=False, bins=np.linspace(1e-6,1e-4,30))\n",
    "sns.distplot(measures_7_days.norm_betweenness, kde=False, bins=np.linspace(1e-6,1e-4,30))\n",
    "plt.legend(['30','3','7'])"
   ]
  },
  {
   "cell_type": "code",
   "execution_count": 91,
   "metadata": {},
   "outputs": [
    {
     "data": {
      "text/plain": [
       "<matplotlib.legend.Legend at 0x7fef32782ef0>"
      ]
     },
     "execution_count": 91,
     "metadata": {},
     "output_type": "execute_result"
    },
    {
     "data": {
      "image/png": "[encoded data removed]",
      "text/plain": [
       "<Figure size 432x288 with 1 Axes>"
      ]
     },
     "metadata": {
      "needs_background": "light"
     },
     "output_type": "display_data"
    }
   ],
   "source": [
    "sns.distplot(measures_first_2_week.norm_betweenness, kde=False, bins=np.linspace(1e-6,1e-4,30))\n",
    "sns.distplot(measures_last_2_week.norm_betweenness, kde=False, bins=np.linspace(1e-6,1e-4,30))\n",
    "plt.legend(['first 2 weeks', 'last 2 weeks'])"
   ]
  },
  {
   "cell_type": "code",
   "execution_count": 122,
   "metadata": {},
   "outputs": [
    {
     "data": {
      "image/png": "[encoded data removed]",
      "text/plain": [
       "<Figure size 576x576 with 4 Axes>"
      ]
     },
     "metadata": {
      "needs_background": "light"
     },
     "output_type": "display_data"
    }
   ],
   "source": [
    "fig, [[ax1,ax2],[ax3,ax4]] = plt.subplots(2,2, figsize= (8,8))\n",
    "fig.suptitle('Distribution of outdegree for 5 < k < 200')\n",
    "ax1.hist(measures_3_days.outdegree, bins = np.linspace(5,200,30))\n",
    "ax1.set_title('3 days')\n",
    "ax2.hist(measures_7_days.outdegree, bins = np.linspace(5,200,30))\n",
    "ax2.set_title('7 days')\n",
    "ax3.hist(measures_first_2_week.outdegree, bins = np.linspace(5,200,30))\n",
    "ax3.set_title('15 days')\n",
    "ax4.hist(measures_30_days.outdegree, bins = np.linspace(5,200,30))\n",
    "ax4.set_title('30 days')\n",
    "plt.show()"
   ]
  },
  {
   "cell_type": "code",
   "execution_count": 133,
   "metadata": {},
   "outputs": [
    {
     "data": {
      "image/png": "[encoded data removed]",
      "text/plain": [
       "<Figure size 576x576 with 4 Axes>"
      ]
     },
     "metadata": {
      "needs_background": "light"
     },
     "output_type": "display_data"
    }
   ],
   "source": [
    "fig, [[ax1,ax2],[ax3,ax4]] = plt.subplots(2,2, figsize= (8,8))\n",
    "fig.suptitle('Distribution of pagerank for 1e-3 < pr < 1e-2')\n",
    "ax1.hist(measures_3_days.pagerank, bins = np.linspace(1e-3,0.01,30))\n",
    "ax1.set_title('3 days')\n",
    "ax2.hist(measures_7_days.pagerank, bins = np.linspace(1e-3,0.01,30))\n",
    "ax2.set_title('7 days')\n",
    "ax3.hist(measures_first_2_week.pagerank, bins = np.linspace(1e-3,0.01,30))\n",
    "ax3.set_title('15 days')\n",
    "ax4.hist(measures_30_days.pagerank, bins = np.linspace(1e-3,0.01,30))\n",
    "ax4.set_title('30 days')\n",
    "plt.show()"
   ]
  },
  {
   "cell_type": "markdown",
   "metadata": {},
   "source": [
    "### Ricerca dei leader"
   ]
  },
  {
   "cell_type": "markdown",
   "metadata": {},
   "source": [
    "##### betweenness"
   ]
  },
  {
   "cell_type": "code",
   "execution_count": 154,
   "metadata": {},
   "outputs": [],
   "source": [
    "top_100_btwn = pd.DataFrame({'30_days' : measures_30_days.sort_values('betweenness')['name'].values[-100:],\n",
    "                            '15_days' : measures_first_2_week.sort_values('betweenness')['name'].values[-100:],\n",
    "                            '7_days' : measures_7_days.sort_values('betweenness')['name'].values[-100:],\n",
    "                            '3_days' : measures_3_days.sort_values('betweenness')['name'].values[-100:]})"
   ]
  },
  {
   "cell_type": "code",
   "execution_count": 176,
   "metadata": {},
   "outputs": [
    {
     "data": {
      "text/html": [
       "<div>\n",
       "<style scoped>\n",
       "    .dataframe tbody tr th:only-of-type {\n",
       "        vertical-align: middle;\n",
       "    }\n",
       "\n",
       "    .dataframe tbody tr th {\n",
       "        vertical-align: top;\n",
       "    }\n",
       "\n",
       "    .dataframe thead th {\n",
       "        text-align: right;\n",
       "    }\n",
       "</style>\n",
       "<table border=\"1\" class=\"dataframe\">\n",
       "  <thead>\n",
       "    <tr style=\"text-align: right;\">\n",
       "      <th></th>\n",
       "      <th>30_days</th>\n",
       "      <th>15_days</th>\n",
       "      <th>7_days</th>\n",
       "      <th>3_days</th>\n",
       "    </tr>\n",
       "  </thead>\n",
       "  <tbody>\n",
       "    <tr>\n",
       "      <th>0</th>\n",
       "      <td>52424550</td>\n",
       "      <td>986811270</td>\n",
       "      <td>1007990392279748608</td>\n",
       "      <td>1062799087</td>\n",
       "    </tr>\n",
       "    <tr>\n",
       "      <th>1</th>\n",
       "      <td>1575496556</td>\n",
       "      <td>96853674</td>\n",
       "      <td>18935802</td>\n",
       "      <td>156931889</td>\n",
       "    </tr>\n",
       "    <tr>\n",
       "      <th>2</th>\n",
       "      <td>69569643</td>\n",
       "      <td>1490509230</td>\n",
       "      <td>804354408</td>\n",
       "      <td>500882938</td>\n",
       "    </tr>\n",
       "    <tr>\n",
       "      <th>3</th>\n",
       "      <td>361985955</td>\n",
       "      <td>479810905</td>\n",
       "      <td>861946438439383040</td>\n",
       "      <td>3426504598</td>\n",
       "    </tr>\n",
       "    <tr>\n",
       "      <th>4</th>\n",
       "      <td>856216775830253568</td>\n",
       "      <td>547936685</td>\n",
       "      <td>493833883</td>\n",
       "      <td>903898838</td>\n",
       "    </tr>\n",
       "  </tbody>\n",
       "</table>\n",
       "</div>"
      ],
      "text/plain": [
       "              30_days     15_days               7_days      3_days\n",
       "0            52424550   986811270  1007990392279748608  1062799087\n",
       "1          1575496556    96853674             18935802   156931889\n",
       "2            69569643  1490509230            804354408   500882938\n",
       "3           361985955   479810905   861946438439383040  3426504598\n",
       "4  856216775830253568   547936685            493833883   903898838"
      ]
     },
     "execution_count": 176,
     "metadata": {},
     "output_type": "execute_result"
    }
   ],
   "source": [
    "top_100_btwn.head()"
   ]
  },
  {
   "cell_type": "code",
   "execution_count": 155,
   "metadata": {},
   "outputs": [],
   "source": [
    "#chi compare in più set temporali?\n",
    "counter_btwn = Counter(np.concatenate([i for i in top_100_btwn.values]))"
   ]
  },
  {
   "cell_type": "code",
   "execution_count": 158,
   "metadata": {},
   "outputs": [
    {
     "data": {
      "text/plain": [
       "([<matplotlib.axis.XTick at 0x7f9cdc57d940>,\n",
       "  <matplotlib.axis.XTick at 0x7f9ccd995860>,\n",
       "  <matplotlib.axis.XTick at 0x7f9ccd99b7f0>,\n",
       "  <matplotlib.axis.XTick at 0x7f9ccd907ba8>],\n",
       " <a list of 4 Text xticklabel objects>)"
      ]
     },
     "execution_count": 158,
     "metadata": {},
     "output_type": "execute_result"
    },
    {
     "data": {
      "image/png": "[encoded data removed]",
      "text/plain": [
       "<Figure size 432x288 with 1 Axes>"
      ]
     },
     "metadata": {},
     "output_type": "display_data"
    }
   ],
   "source": [
    "plt.hist(list(counter_btwn.values()),  bins= np.linspace(0.5,4.5,5))\n",
    "plt.xticks([1,2,3,4])"
   ]
  },
  {
   "cell_type": "markdown",
   "metadata": {},
   "source": [
    "a differenza della connettività i nodi con maggiore bewteenness cambiano nel tempo"
   ]
  },
  {
   "cell_type": "code",
   "execution_count": 157,
   "metadata": {},
   "outputs": [
    {
     "data": {
      "text/plain": [
       "3"
      ]
     },
     "execution_count": 157,
     "metadata": {},
     "output_type": "execute_result"
    }
   ],
   "source": [
    "max(list(counter_btwn.values()))"
   ]
  },
  {
   "cell_type": "markdown",
   "metadata": {},
   "source": [
    "#####  pagerank"
   ]
  },
  {
   "cell_type": "code",
   "execution_count": 159,
   "metadata": {},
   "outputs": [],
   "source": [
    "top_100_pr = pd.DataFrame({'30_days' : measures_30_days.sort_values('pagerank')['name'].values[-100:],\n",
    "                            '15_days' : measures_first_2_week.sort_values('pagerank')['name'].values[-100:],\n",
    "                            '7_days' : measures_7_days.sort_values('pagerank')['name'].values[-100:],\n",
    "                            '3_days' : measures_3_days.sort_values('pagerank')['name'].values[-100:]})"
   ]
  },
  {
   "cell_type": "code",
   "execution_count": 162,
   "metadata": {},
   "outputs": [],
   "source": [
    "counter_pr = Counter(np.concatenate([i for i in top_100_pr.values]))"
   ]
  },
  {
   "cell_type": "code",
   "execution_count": 163,
   "metadata": {},
   "outputs": [
    {
     "data": {
      "text/plain": [
       "([<matplotlib.axis.XTick at 0x7f9ccd928668>,\n",
       "  <matplotlib.axis.XTick at 0x7f9ccd933550>,\n",
       "  <matplotlib.axis.XTick at 0x7f9ccd933668>,\n",
       "  <matplotlib.axis.XTick at 0x7f9ccd8e3e10>],\n",
       " <a list of 4 Text xticklabel objects>)"
      ]
     },
     "execution_count": 163,
     "metadata": {},
     "output_type": "execute_result"
    },
    {
     "data": {
      "image/png": "[encoded data removed]",
      "text/plain": [
       "<Figure size 432x288 with 1 Axes>"
      ]
     },
     "metadata": {},
     "output_type": "display_data"
    }
   ],
   "source": [
    "plt.hist(list(counter_pr.values()),  bins= np.linspace(0.5,4.5,5))\n",
    "plt.xticks([1,2,3,4])"
   ]
  },
  {
   "cell_type": "markdown",
   "metadata": {},
   "source": [
    "#####  clustering coefficient"
   ]
  },
  {
   "cell_type": "code",
   "execution_count": 164,
   "metadata": {},
   "outputs": [],
   "source": [
    "top_100_cc = pd.DataFrame({'30_days' : measures_30_days.sort_values('local_transitivity')['name'].values[-100:],\n",
    "                            '15_days' : measures_first_2_week.sort_values('local_transitivity')['name'].values[-100:],\n",
    "                            '7_days' : measures_7_days.sort_values('local_transitivity')['name'].values[-100:],\n",
    "                            '3_days' : measures_3_days.sort_values('local_transitivity')['name'].values[-100:]})"
   ]
  },
  {
   "cell_type": "code",
   "execution_count": 165,
   "metadata": {},
   "outputs": [
    {
     "data": {
      "text/plain": [
       "([<matplotlib.axis.XTick at 0x7f9ccd899cc0>,\n",
       "  <matplotlib.axis.XTick at 0x7f9ccd899518>,\n",
       "  <matplotlib.axis.XTick at 0x7f9ccd8993c8>,\n",
       "  <matplotlib.axis.XTick at 0x7f9ccd8c0748>],\n",
       " <a list of 4 Text xticklabel objects>)"
      ]
     },
     "execution_count": 165,
     "metadata": {},
     "output_type": "execute_result"
    },
    {
     "data": {
      "image/png": "[encoded data removed]",
      "text/plain": [
       "<Figure size 432x288 with 1 Axes>"
      ]
     },
     "metadata": {},
     "output_type": "display_data"
    }
   ],
   "source": [
    "counter_pr = Counter(np.concatenate([i for i in top_100_pr.values]))\n",
    "plt.hist(list(counter_pr.values()),  bins= np.linspace(0.5,4.5,5))\n",
    "plt.xticks([1,2,3,4])"
   ]
  },
  {
   "cell_type": "markdown",
   "metadata": {},
   "source": [
    "##### Outdegree"
   ]
  },
  {
   "cell_type": "code",
   "execution_count": 166,
   "metadata": {},
   "outputs": [],
   "source": [
    "top_100_k = pd.DataFrame({'30_days' : measures_30_days.sort_values('outdegree')['name'].values[-100:],\n",
    "                            '15_days' : measures_first_2_week.sort_values('outdegree')['name'].values[-100:],\n",
    "                            '7_days' : measures_7_days.sort_values('outdegree')['name'].values[-100:],\n",
    "                            '3_days' : measures_3_days.sort_values('outdegree')['name'].values[-100:]})"
   ]
  },
  {
   "cell_type": "code",
   "execution_count": 167,
   "metadata": {},
   "outputs": [
    {
     "data": {
      "text/plain": [
       "([<matplotlib.axis.XTick at 0x7f9ccd86c1d0>,\n",
       "  <matplotlib.axis.XTick at 0x7f9ccd853c18>,\n",
       "  <matplotlib.axis.XTick at 0x7f9ccd859710>,\n",
       "  <matplotlib.axis.XTick at 0x7f9ccd815d30>],\n",
       " <a list of 4 Text xticklabel objects>)"
      ]
     },
     "execution_count": 167,
     "metadata": {},
     "output_type": "execute_result"
    },
    {
     "data": {
      "image/png": "[encoded data removed]",
      "text/plain": [
       "<Figure size 432x288 with 1 Axes>"
      ]
     },
     "metadata": {},
     "output_type": "display_data"
    }
   ],
   "source": [
    "counter_k = Counter(np.concatenate([i for i in top_100_k.values]))\n",
    "plt.hist(list(counter_k.values()),  bins= np.linspace(0.5,4.5,5))\n",
    "plt.xticks([1,2,3,4])"
   ]
  },
  {
   "cell_type": "markdown",
   "metadata": {},
   "source": [
    "##  Community Detection"
   ]
  },
  {
   "cell_type": "code",
   "execution_count": 3,
   "metadata": {},
   "outputs": [],
   "source": [
    "\n",
    "data_retweet = pd.read_csv('data_retweet')"
   ]
  },
  {
   "cell_type": "code",
   "execution_count": 6,
   "metadata": {},
   "outputs": [],
   "source": [
    "g_3 = build_graph(3)\n",
    "g_7 = build_graph(7)\n",
    "g_15 = build_graph(15)\n",
    "g_30 = build_graph(30)\n"
   ]
  },
  {
   "cell_type": "code",
   "execution_count": 7,
   "metadata": {},
   "outputs": [
    {
     "data": {
      "text/plain": [
       "'IGRAPH DNW- 7787 14003 -- \\n+ attr: name (v), weight (e)'"
      ]
     },
     "execution_count": 7,
     "metadata": {},
     "output_type": "execute_result"
    }
   ],
   "source": [
    "g_3.summary()"
   ]
  },
  {
   "cell_type": "code",
   "execution_count": 9,
   "metadata": {},
   "outputs": [],
   "source": [
    "#serve undirected network per analizzare il clstering\n",
    "g_3.to_undirected(combine_edges='sum')\n",
    "cl_3 = g_3.community_multilevel(weights='weight',return_levels=False)"
   ]
  },
  {
   "cell_type": "code",
   "execution_count": 10,
   "metadata": {},
   "outputs": [],
   "source": [
    "g_3.vs['membership'] = cl_3.membership"
   ]
  },
  {
   "cell_type": "code",
   "execution_count": 90,
   "metadata": {},
   "outputs": [],
   "source": [
    "g_7.to_undirected(combine_edges='sum')\n",
    "cl_7 = g_7.community_multilevel(weights='weight',return_levels=False)\n",
    "g_15.to_undirected(combine_edges='sum')\n",
    "cl_15 = g_15.community_multilevel(weights='weight',return_levels=False)\n",
    "g_30.to_undirected(combine_edges='sum')\n",
    "cl_30 = g_30.community_multilevel(weights='weight',return_levels=False)"
   ]
  },
  {
   "cell_type": "code",
   "execution_count": 91,
   "metadata": {},
   "outputs": [],
   "source": [
    "g_7.vs['membership'] = cl_7.membership\n",
    "g_15.vs['membership'] = cl_15.membership\n",
    "g_30.vs['membership'] = cl_30.membership"
   ]
  },
  {
   "cell_type": "code",
   "execution_count": 172,
   "metadata": {},
   "outputs": [
    {
     "name": "stdout",
     "output_type": "stream",
     "text": [
      "number of communities :\t 524 1058 1743 3022\n",
      "nmber of vertex: \t 7787 21350 51366 106770\n"
     ]
    }
   ],
   "source": [
    "print('number of communities :\\t',max(cl_3.membership)+1,\n",
    "     max(cl_7.membership)+1,\n",
    "     max(cl_15.membership)+1,\n",
    "     max(cl_30.membership)+1)\n",
    "print('nmber of vertex: \\t',len(g_3.vs),\n",
    "     len(g_7.vs),\n",
    "     len(g_15.vs),\n",
    "     len(g_30.vs),)"
   ]
  },
  {
   "cell_type": "markdown",
   "metadata": {},
   "source": [
    "Guardo come cambiano le community dei leader"
   ]
  },
  {
   "cell_type": "code",
   "execution_count": 176,
   "metadata": {},
   "outputs": [],
   "source": [
    "#guardo i 100 con outdegree più alto \n",
    "top_100_retweeted  = measures_30_days.sort_values('outdegree')['name'][-100:]"
   ]
  },
  {
   "cell_type": "code",
   "execution_count": 177,
   "metadata": {},
   "outputs": [
    {
     "data": {
      "text/plain": [
       "array([ 845,  850,  858,  862,  865,  878,  879,  895,  899,  921,  927,\n",
       "        937,  951,  956,  980,  987,  998, 1006, 1014, 1017, 1025, 1047,\n",
       "       1052, 1060, 1062, 1080, 1088, 1097, 1117, 1139, 1139, 1141, 1144,\n",
       "       1156, 1172, 1192, 1192, 1201, 1204, 1210, 1214, 1214, 1222, 1250,\n",
       "       1278, 1297, 1299, 1300, 1341, 1366, 1405, 1417, 1432, 1493, 1494,\n",
       "       1495, 1495, 1499, 1522, 1568, 1579, 1583, 1621, 1628, 1678, 1686,\n",
       "       1727, 1753, 1755, 1763, 1777, 1790, 1794, 1868, 1994, 2027, 2089,\n",
       "       2174, 2183, 2257, 2320, 2350, 2492, 2496, 3036, 3109, 3120, 3272,\n",
       "       3468, 3591, 3634, 4129, 4301, 5451, 5598, 6212, 6896, 7060, 8758,\n",
       "       9146])"
      ]
     },
     "execution_count": 177,
     "metadata": {},
     "output_type": "execute_result"
    }
   ],
   "source": [
    "measures_30_days.sort_values('outdegree')['outdegree'].values[-100:]"
   ]
  },
  {
   "cell_type": "markdown",
   "metadata": {},
   "source": [
    "quanti di questi sono nella giant component?"
   ]
  },
  {
   "cell_type": "code",
   "execution_count": 224,
   "metadata": {},
   "outputs": [
    {
     "name": "stdout",
     "output_type": "stream",
     "text": [
      "IGRAPH UNW- 4857 7930 -- \n",
      "+ attr: membership (v), name (v), weight (e)\n",
      "IGRAPH UNW- 4721 9293 -- \n",
      "+ attr: membership (v), name (v), weight (e)\n",
      "IGRAPH UNW- 12050 34017 -- \n",
      "+ attr: membership (v), name (v), weight (e)\n",
      "IGRAPH UNW- 24720 63915 -- \n",
      "+ attr: membership (v), name (v), weight (e)\n"
     ]
    }
   ],
   "source": [
    "giant3= cl_3.giant()\n",
    "giant7= cl_7.giant()\n",
    "giant15= cl_15.giant()\n",
    "giant30= cl_30.giant()\n",
    "print(giant3.summary())\n",
    "print(giant7.summary())\n",
    "print(giant15.summary())\n",
    "print(giant30.summary())"
   ]
  },
  {
   "cell_type": "code",
   "execution_count": 211,
   "metadata": {},
   "outputs": [
    {
     "data": {
      "text/plain": [
       "22"
      ]
     },
     "execution_count": 211,
     "metadata": {},
     "output_type": "execute_result"
    }
   ],
   "source": [
    "leader_giant_30 = top_100_retweeted[top_100_retweeted.isin(giant30.vs['name'])]\n",
    "len(leader_giant_30)"
   ]
  },
  {
   "cell_type": "code",
   "execution_count": 182,
   "metadata": {},
   "outputs": [],
   "source": [
    "leader_giant_3 = top_100_retweeted[top_100_retweeted.isin(giant3.vs['name'])]\n",
    "leader_giant_15 = top_100_retweeted[top_100_retweeted.isin(giant15.vs['name'])]\n",
    "leader_giant_7 = top_100_retweeted[top_100_retweeted.isin(giant7.vs['name'])]"
   ]
  },
  {
   "cell_type": "code",
   "execution_count": 192,
   "metadata": {},
   "outputs": [],
   "source": [
    "#costruisco un dataframe con gli utenti più retwittati in assoluto, che compaiono nelle varie giant component\n",
    "leader_df = pd.concat([leader_giant_3,leader_giant_7,leader_giant_15,leader_giant_30],axis=1)"
   ]
  },
  {
   "cell_type": "code",
   "execution_count": 207,
   "metadata": {},
   "outputs": [],
   "source": [
    "leader_df.columns = ['3_days','7_days','15_days','30_days']\n",
    "leader_df.index = range(len(leader_df))"
   ]
  },
  {
   "cell_type": "code",
   "execution_count": 208,
   "metadata": {},
   "outputs": [
    {
     "data": {
      "text/html": [
       "<div>\n",
       "<style scoped>\n",
       "    .dataframe tbody tr th:only-of-type {\n",
       "        vertical-align: middle;\n",
       "    }\n",
       "\n",
       "    .dataframe tbody tr th {\n",
       "        vertical-align: top;\n",
       "    }\n",
       "\n",
       "    .dataframe thead th {\n",
       "        text-align: right;\n",
       "    }\n",
       "</style>\n",
       "<table border=\"1\" class=\"dataframe\">\n",
       "  <thead>\n",
       "    <tr style=\"text-align: right;\">\n",
       "      <th></th>\n",
       "      <th>3_days</th>\n",
       "      <th>7_days</th>\n",
       "      <th>15_days</th>\n",
       "      <th>30_days</th>\n",
       "    </tr>\n",
       "  </thead>\n",
       "  <tbody>\n",
       "    <tr>\n",
       "      <th>0</th>\n",
       "      <td>NaN</td>\n",
       "      <td>39240661.0</td>\n",
       "      <td>39240661.0</td>\n",
       "      <td>NaN</td>\n",
       "    </tr>\n",
       "    <tr>\n",
       "      <th>1</th>\n",
       "      <td>NaN</td>\n",
       "      <td>NaN</td>\n",
       "      <td>133790890.0</td>\n",
       "      <td>NaN</td>\n",
       "    </tr>\n",
       "    <tr>\n",
       "      <th>2</th>\n",
       "      <td>NaN</td>\n",
       "      <td>14724500.0</td>\n",
       "      <td>14724500.0</td>\n",
       "      <td>NaN</td>\n",
       "    </tr>\n",
       "    <tr>\n",
       "      <th>3</th>\n",
       "      <td>NaN</td>\n",
       "      <td>NaN</td>\n",
       "      <td>NaN</td>\n",
       "      <td>5893702.0</td>\n",
       "    </tr>\n",
       "    <tr>\n",
       "      <th>4</th>\n",
       "      <td>276698656.0</td>\n",
       "      <td>276698656.0</td>\n",
       "      <td>276698656.0</td>\n",
       "      <td>NaN</td>\n",
       "    </tr>\n",
       "  </tbody>\n",
       "</table>\n",
       "</div>"
      ],
      "text/plain": [
       "        3_days       7_days      15_days    30_days\n",
       "0          NaN   39240661.0   39240661.0        NaN\n",
       "1          NaN          NaN  133790890.0        NaN\n",
       "2          NaN   14724500.0   14724500.0        NaN\n",
       "3          NaN          NaN          NaN  5893702.0\n",
       "4  276698656.0  276698656.0  276698656.0        NaN"
      ]
     },
     "execution_count": 208,
     "metadata": {},
     "output_type": "execute_result"
    }
   ],
   "source": [
    "leader_df.head()"
   ]
  },
  {
   "cell_type": "code",
   "execution_count": 210,
   "metadata": {},
   "outputs": [
    {
     "data": {
      "text/plain": [
       "array([53, 16, 21, 22])"
      ]
     },
     "execution_count": 210,
     "metadata": {},
     "output_type": "execute_result"
    }
   ],
   "source": [
    "leader_df.count().values"
   ]
  },
  {
   "cell_type": "markdown",
   "metadata": {},
   "source": [
    "#### come cambia la comunità dell'utente pù retweetato"
   ]
  },
  {
   "cell_type": "code",
   "execution_count": 215,
   "metadata": {},
   "outputs": [
    {
     "data": {
      "text/plain": [
       "name                  1.100777e+18\n",
       "betweenness           3.551848e+07\n",
       "pagerank              7.058861e-06\n",
       "degree                9.149000e+03\n",
       "outdegree             9.146000e+03\n",
       "local_transitivity    2.683199e-03\n",
       "norm_betweenness      3.115789e-03\n",
       "Name: 59684, dtype: float64"
      ]
     },
     "execution_count": 215,
     "metadata": {},
     "output_type": "execute_result"
    }
   ],
   "source": [
    "measures_30_days.sort_values('outdegree').iloc[-1]"
   ]
  },
  {
   "cell_type": "code",
   "execution_count": 216,
   "metadata": {},
   "outputs": [],
   "source": [
    "top_influencer = measures_30_days.sort_values('outdegree')['name'].iloc[-1]"
   ]
  },
  {
   "cell_type": "code",
   "execution_count": 217,
   "metadata": {},
   "outputs": [
    {
     "data": {
      "text/plain": [
       "1.100776937004458e+18"
      ]
     },
     "execution_count": 217,
     "metadata": {},
     "output_type": "execute_result"
    }
   ],
   "source": [
    "top_influencer"
   ]
  },
  {
   "cell_type": "code",
   "execution_count": 220,
   "metadata": {},
   "outputs": [
    {
     "data": {
      "text/plain": [
       "[5]"
      ]
     },
     "execution_count": 220,
     "metadata": {},
     "output_type": "execute_result"
    }
   ],
   "source": [
    "[v['membership'] for v in g_30.vs if v['name'] == top_influencer]"
   ]
  },
  {
   "cell_type": "markdown",
   "metadata": {},
   "source": [
    "non è la giant component"
   ]
  },
  {
   "cell_type": "code",
   "execution_count": 221,
   "metadata": {},
   "outputs": [
    {
     "data": {
      "text/plain": [
       "2"
      ]
     },
     "execution_count": 221,
     "metadata": {},
     "output_type": "execute_result"
    }
   ],
   "source": [
    "giant30.vs['membership'][0]"
   ]
  },
  {
   "cell_type": "code",
   "execution_count": 222,
   "metadata": {},
   "outputs": [],
   "source": [
    "top_influencer_community= cl_30.subgraph(5)"
   ]
  },
  {
   "cell_type": "code",
   "execution_count": 223,
   "metadata": {},
   "outputs": [
    {
     "data": {
      "text/plain": [
       "'IGRAPH UNW- 15218 150322 -- \\n+ attr: membership (v), name (v), weight (e)'"
      ]
     },
     "execution_count": 223,
     "metadata": {},
     "output_type": "execute_result"
    }
   ],
   "source": [
    "top_influencer_community.summary()"
   ]
  },
  {
   "cell_type": "code",
   "execution_count": 295,
   "metadata": {},
   "outputs": [
    {
     "name": "stdout",
     "output_type": "stream",
     "text": [
      "n_cl \t n_cl/n_vert \t\t n_cl/n_links \n",
      "\n",
      "4857 \t 0.6237318607936304 \t 0.34720137250696975\n",
      "4367 \t 0.20454332552693208 \t 0.07303041958626687\n",
      "8638 \t 0.16816571272826383 \t 0.04573952089466884\n",
      "15218 \t 0.14253067341013392 \t 0.029306187846155032\n"
     ]
    }
   ],
   "source": [
    "print('n_cl \\t n_cl/n_vert \\t\\t n_cl/n_links \\n')\n",
    "for clusters,graph in [(cl_3,g_3),(cl_7,g_7),(cl_15,g_15),(cl_30,g_30)]:\n",
    "    idx  = [v['membership'] for v in graph.vs if v['name'] == top_influencer][0]\n",
    "    top_influencer_community= clusters.subgraph(idx)\n",
    "    print(len(top_influencer_community.vs),'\\t',len(top_influencer_community.vs)/len(graph.vs),\n",
    "          '\\t',len(top_influencer_community.vs)/len(graph.es))"
   ]
  },
  {
   "cell_type": "markdown",
   "metadata": {},
   "source": [
    "c'è un aumento della grandezza del cluster ma diminuisce relativamente al numero totale di nodi della rete e dei link"
   ]
  },
  {
   "cell_type": "markdown",
   "metadata": {},
   "source": [
    "#### confronto settimana per settimana"
   ]
  },
  {
   "cell_type": "code",
   "execution_count": 303,
   "metadata": {},
   "outputs": [],
   "source": [
    "graph_week = []\n",
    "for init,fini in [(1,8),(9,16),(17,23),(24,31)]:\n",
    "    graph_week.append(build_graph(fini,init))"
   ]
  },
  {
   "cell_type": "code",
   "execution_count": 304,
   "metadata": {},
   "outputs": [],
   "source": [
    "cluster_week = []\n",
    "for g in graph_week:\n",
    "    g.to_undirected(combine_edges='sum')\n",
    "    cluster_week.append(g.community_multilevel(weights='weight',return_levels=False))"
   ]
  },
  {
   "cell_type": "code",
   "execution_count": 308,
   "metadata": {},
   "outputs": [
    {
     "name": "stdout",
     "output_type": "stream",
     "text": [
      "n_cl \t n_cl/n_vert \t\t n_cl/n_links \n",
      "\n",
      "4585 \t 0.19332124636336806 \t 0.06595414137345723\n",
      "6784 \t 0.1597814310612841 \t 0.053722738719333536\n",
      "7762 \t 0.17412567018866232 \t 0.05869275905873813\n",
      "8571 \t 0.19249859629421673 \t 0.06372348572150807\n"
     ]
    }
   ],
   "source": [
    "print('n_cl \\t n_cl/n_vert \\t\\t n_cl/n_links \\n')\n",
    "n_rel_v = []\n",
    "n_rel_e = []\n",
    "for g,cl in zip(graph_week,cluster_week):\n",
    "    g.vs['membership'] = cl.membership\n",
    "    idx  = [v['membership'] for v in g.vs if v['name'] == top_influencer][0]\n",
    "    top_influencer_community= cl.subgraph(idx)\n",
    "    n_rel_v.append(len(top_influencer_community.vs)/len(g.vs))\n",
    "    n_rel_e.append(len(top_influencer_community.vs)/len(g.es))\n",
    "    print(len(top_influencer_community.vs),'\\t',len(top_influencer_community.vs)/len(g.vs),\n",
    "          '\\t',len(top_influencer_community.vs)/len(g.es))\n",
    "    "
   ]
  },
  {
   "cell_type": "code",
   "execution_count": 313,
   "metadata": {},
   "outputs": [
    {
     "data": {
      "image/png": "[encoded data removed]",
      "text/plain": [
       "<Figure size 432x288 with 1 Axes>"
      ]
     },
     "metadata": {},
     "output_type": "display_data"
    }
   ],
   "source": [
    "plt.plot(n_rel_e)\n",
    "plt.plot(n_rel_v)\n",
    "plt.legend(['n_cl/n_edges', 'n_cl/n_verteces'])\n",
    "plt.xticks(range(4),labels=[1,2,3,4])\n",
    "plt.xlabel('week')\n",
    "plt.title('weekly leader community relative dimension')\n",
    "plt.show()"
   ]
  },
  {
   "cell_type": "markdown",
   "metadata": {},
   "source": [
    "#### provo usando il file .pickle"
   ]
  },
  {
   "cell_type": "code",
   "execution_count": 4,
   "metadata": {},
   "outputs": [],
   "source": [
    "import pickle"
   ]
  },
  {
   "cell_type": "code",
   "execution_count": 3,
   "metadata": {},
   "outputs": [],
   "source": [
    "with open('data/pickles/df_metadata.pickle','rb') as f:\n",
    "    df_meta=pickle.load(f)"
   ]
  },
  {
   "cell_type": "markdown",
   "metadata": {},
   "source": [
    "poichè è troppo pesante, tengo solo i retweet e alcune colonne, e del testo solo il nome di chi è retweetato"
   ]
  },
  {
   "cell_type": "code",
   "execution_count": 4,
   "metadata": {},
   "outputs": [],
   "source": [
    "with open('data/pickles/short_df.pickle','wb') as file:\n",
    "    df_meta = df_meta[df_meta['retweeted_status.id'].isnull() == False]\n",
    "    df_meta.text = df_meta['text'].astype(str).apply(lambda x: x.split(' ')[1])\n",
    "    pickle.dump(df_meta[['id_str','text','retweeted_status.id','user.screen_name','user.followers_count']],file)"
   ]
  },
  {
   "cell_type": "markdown",
   "metadata": {},
   "source": [
    "carico ora il file leggero"
   ]
  },
  {
   "cell_type": "code",
   "execution_count": 4,
   "metadata": {},
   "outputs": [],
   "source": [
    "with open('data/pickles/short_df.pickle','rb') as f:\n",
    "    df_meta=pickle.load(f)"
   ]
  },
  {
   "cell_type": "code",
   "execution_count": 5,
   "metadata": {},
   "outputs": [
    {
     "data": {
      "text/html": [
       "<div>\n",
       "<style scoped>\n",
       "    .dataframe tbody tr th:only-of-type {\n",
       "        vertical-align: middle;\n",
       "    }\n",
       "\n",
       "    .dataframe tbody tr th {\n",
       "        vertical-align: top;\n",
       "    }\n",
       "\n",
       "    .dataframe thead th {\n",
       "        text-align: right;\n",
       "    }\n",
       "</style>\n",
       "<table border=\"1\" class=\"dataframe\">\n",
       "  <thead>\n",
       "    <tr style=\"text-align: right;\">\n",
       "      <th></th>\n",
       "      <th>id_str</th>\n",
       "      <th>text</th>\n",
       "      <th>retweeted_status.id</th>\n",
       "      <th>user.screen_name</th>\n",
       "      <th>user.followers_count</th>\n",
       "    </tr>\n",
       "  </thead>\n",
       "  <tbody>\n",
       "    <tr>\n",
       "      <th>0</th>\n",
       "      <td>1230395916974247936</td>\n",
       "      <td>@lunastorta13:</td>\n",
       "      <td>1230274860598857734</td>\n",
       "      <td>WTrumpy</td>\n",
       "      <td>1134</td>\n",
       "    </tr>\n",
       "    <tr>\n",
       "      <th>1</th>\n",
       "      <td>1230395960221630465</td>\n",
       "      <td>@TELADOIOLANIUS:</td>\n",
       "      <td>1229672160177815552</td>\n",
       "      <td>Enzaedma60</td>\n",
       "      <td>271</td>\n",
       "    </tr>\n",
       "    <tr>\n",
       "      <th>2</th>\n",
       "      <td>1230396015137525761</td>\n",
       "      <td>@ChannelNewsAsia:</td>\n",
       "      <td>1230394924324884480</td>\n",
       "      <td>Snzgmz</td>\n",
       "      <td>304</td>\n",
       "    </tr>\n",
       "    <tr>\n",
       "      <th>3</th>\n",
       "      <td>1230396061497413632</td>\n",
       "      <td>@luigidimaio:</td>\n",
       "      <td>1229856576812601345</td>\n",
       "      <td>DomenicoMazzil5</td>\n",
       "      <td>1914</td>\n",
       "    </tr>\n",
       "    <tr>\n",
       "      <th>4</th>\n",
       "      <td>1230396104405110786</td>\n",
       "      <td>@vfeltri:</td>\n",
       "      <td>1229407597150842881</td>\n",
       "      <td>stefano_zanone</td>\n",
       "      <td>16</td>\n",
       "    </tr>\n",
       "  </tbody>\n",
       "</table>\n",
       "</div>"
      ],
      "text/plain": [
       "                id_str               text  retweeted_status.id  \\\n",
       "0  1230395916974247936     @lunastorta13:  1230274860598857734   \n",
       "1  1230395960221630465   @TELADOIOLANIUS:  1229672160177815552   \n",
       "2  1230396015137525761  @ChannelNewsAsia:  1230394924324884480   \n",
       "3  1230396061497413632      @luigidimaio:  1229856576812601345   \n",
       "4  1230396104405110786          @vfeltri:  1229407597150842881   \n",
       "\n",
       "  user.screen_name  user.followers_count  \n",
       "0          WTrumpy                  1134  \n",
       "1       Enzaedma60                   271  \n",
       "2           Snzgmz                   304  \n",
       "3  DomenicoMazzil5                  1914  \n",
       "4   stefano_zanone                    16  "
      ]
     },
     "execution_count": 5,
     "metadata": {},
     "output_type": "execute_result"
    }
   ],
   "source": [
    "df_meta.head()"
   ]
  },
  {
   "cell_type": "code",
   "execution_count": 6,
   "metadata": {},
   "outputs": [],
   "source": [
    "df_meta['text']=df_meta['text'].apply(lambda x: x.split('@')[1].split(':')[0])"
   ]
  },
  {
   "cell_type": "code",
   "execution_count": 7,
   "metadata": {},
   "outputs": [],
   "source": [
    "df_meta = df_meta.rename(columns = {'text':'retweeted_username'})"
   ]
  },
  {
   "cell_type": "code",
   "execution_count": 8,
   "metadata": {},
   "outputs": [
    {
     "data": {
      "text/html": [
       "<div>\n",
       "<style scoped>\n",
       "    .dataframe tbody tr th:only-of-type {\n",
       "        vertical-align: middle;\n",
       "    }\n",
       "\n",
       "    .dataframe tbody tr th {\n",
       "        vertical-align: top;\n",
       "    }\n",
       "\n",
       "    .dataframe thead th {\n",
       "        text-align: right;\n",
       "    }\n",
       "</style>\n",
       "<table border=\"1\" class=\"dataframe\">\n",
       "  <thead>\n",
       "    <tr style=\"text-align: right;\">\n",
       "      <th></th>\n",
       "      <th>id_str</th>\n",
       "      <th>retweeted_username</th>\n",
       "      <th>retweeted_status.id</th>\n",
       "      <th>user.screen_name</th>\n",
       "      <th>user.followers_count</th>\n",
       "    </tr>\n",
       "  </thead>\n",
       "  <tbody>\n",
       "    <tr>\n",
       "      <th>0</th>\n",
       "      <td>1230395916974247936</td>\n",
       "      <td>lunastorta13</td>\n",
       "      <td>1230274860598857734</td>\n",
       "      <td>WTrumpy</td>\n",
       "      <td>1134</td>\n",
       "    </tr>\n",
       "    <tr>\n",
       "      <th>1</th>\n",
       "      <td>1230395960221630465</td>\n",
       "      <td>TELADOIOLANIUS</td>\n",
       "      <td>1229672160177815552</td>\n",
       "      <td>Enzaedma60</td>\n",
       "      <td>271</td>\n",
       "    </tr>\n",
       "    <tr>\n",
       "      <th>2</th>\n",
       "      <td>1230396015137525761</td>\n",
       "      <td>ChannelNewsAsia</td>\n",
       "      <td>1230394924324884480</td>\n",
       "      <td>Snzgmz</td>\n",
       "      <td>304</td>\n",
       "    </tr>\n",
       "    <tr>\n",
       "      <th>3</th>\n",
       "      <td>1230396061497413632</td>\n",
       "      <td>luigidimaio</td>\n",
       "      <td>1229856576812601345</td>\n",
       "      <td>DomenicoMazzil5</td>\n",
       "      <td>1914</td>\n",
       "    </tr>\n",
       "    <tr>\n",
       "      <th>4</th>\n",
       "      <td>1230396104405110786</td>\n",
       "      <td>vfeltri</td>\n",
       "      <td>1229407597150842881</td>\n",
       "      <td>stefano_zanone</td>\n",
       "      <td>16</td>\n",
       "    </tr>\n",
       "  </tbody>\n",
       "</table>\n",
       "</div>"
      ],
      "text/plain": [
       "                id_str retweeted_username  retweeted_status.id  \\\n",
       "0  1230395916974247936       lunastorta13  1230274860598857734   \n",
       "1  1230395960221630465     TELADOIOLANIUS  1229672160177815552   \n",
       "2  1230396015137525761    ChannelNewsAsia  1230394924324884480   \n",
       "3  1230396061497413632        luigidimaio  1229856576812601345   \n",
       "4  1230396104405110786            vfeltri  1229407597150842881   \n",
       "\n",
       "  user.screen_name  user.followers_count  \n",
       "0          WTrumpy                  1134  \n",
       "1       Enzaedma60                   271  \n",
       "2           Snzgmz                   304  \n",
       "3  DomenicoMazzil5                  1914  \n",
       "4   stefano_zanone                    16  "
      ]
     },
     "execution_count": 8,
     "metadata": {},
     "output_type": "execute_result"
    }
   ],
   "source": [
    "df_meta.head()"
   ]
  },
  {
   "cell_type": "code",
   "execution_count": 10,
   "metadata": {},
   "outputs": [],
   "source": [
    "with open('data/pickles/short_df.pickle','wb') as f:\n",
    "    pickle.dump(df_meta,f)"
   ]
  },
  {
   "cell_type": "code",
   "execution_count": 19,
   "metadata": {},
   "outputs": [],
   "source": [
    "Burioni_rt = df_meta[df_meta.retweeted_username == 'RobertoBurioni']['id_str'].values  #id dei tweet che rewtittano burioni"
   ]
  },
  {
   "cell_type": "markdown",
   "metadata": {},
   "source": [
    "#### invece degli id numerici, costruisco la rete con gli username"
   ]
  },
  {
   "cell_type": "code",
   "execution_count": 11,
   "metadata": {},
   "outputs": [],
   "source": [
    "types = {'created_at':str, 'id_str':str, 'user.id':str, 'retweeted_status.user.id':str, 'date':str,'day_count':int, 'weight':int}\n",
    "retweets = pd.read_csv('data/csvs/retweets.csv',dtype = types)"
   ]
  },
  {
   "cell_type": "code",
   "execution_count": 12,
   "metadata": {},
   "outputs": [],
   "source": [
    "new_df = retweets.merge(df_meta[['id_str','retweeted_username','user.screen_name']].astype(str), on = 'id_str')"
   ]
  },
  {
   "cell_type": "code",
   "execution_count": 18,
   "metadata": {},
   "outputs": [],
   "source": [
    "#salvo il nuovo database\n",
    "with open('complete_df.pickle','wb') as f:\n",
    "    pickle.dump(new_df,f)"
   ]
  },
  {
   "cell_type": "code",
   "execution_count": 5,
   "metadata": {},
   "outputs": [],
   "source": [
    "with open('data/pickles/complete_df.pickle','rb') as f:\n",
    "    new_df = pickle.load(f)"
   ]
  },
  {
   "cell_type": "code",
   "execution_count": 18,
   "metadata": {},
   "outputs": [],
   "source": [
    "def build_graph_username(data_retweet,fini_day,init_day = 0):\n",
    "    sub_set = data_retweet[(data_retweet.day_count >= init_day)&(data_retweet.day_count < fini_day)]\n",
    "    db_for_network = sub_set.groupby(['retweeted_username','user.screen_name'], as_index=False).count()\n",
    "    db_for_network = db_for_network[db_for_network.weight > 1]#.astype(int)\n",
    "    return ig.Graph.TupleList(db_for_network[['retweeted_username','user.screen_name','weight']].itertuples(index=False), directed=True, weights=True)"
   ]
  },
  {
   "cell_type": "code",
   "execution_count": 25,
   "metadata": {},
   "outputs": [],
   "source": [
    "graph_all_period = build_graph_username(new_df,31)"
   ]
  },
  {
   "cell_type": "code",
   "execution_count": 27,
   "metadata": {},
   "outputs": [],
   "source": [
    "def centrality_measures(graph, df, weights = None):\n",
    "    # graph = igraph.Graph object\n",
    "    # df = pandas.DataFrame object\n",
    "    df['name'] = graph.vs['name']\n",
    "    #df['betweenness'] = graph.betweenness(weights=weights)\n",
    "    #df['pagerank'] = graph.pagerank(weights=weights)\n",
    "    #df['degree'] = graph.degree()\n",
    "    df['outdegree'] = graph.outdegree()\n",
    "    #df['local_transitivity'] = graph.transitivity_local_undirected(mode = 'zero',weights=weights)\n",
    "    #if graph.is_simple():\n",
    "     #   df['knn'] = graph.knn(weights=weights)\n",
    "    return df"
   ]
  },
  {
   "cell_type": "code",
   "execution_count": 28,
   "metadata": {},
   "outputs": [],
   "source": [
    "global_measures = centrality_measures(graph_all_period,pd.DataFrame(), weights='weight')"
   ]
  },
  {
   "cell_type": "code",
   "execution_count": 29,
   "metadata": {},
   "outputs": [
    {
     "data": {
      "text/plain": [
       "39650    fattoquotidiano\n",
       "48843          ImolaOggi\n",
       "511             Corriere\n",
       "76046              TgLa7\n",
       "34809     poliziadistato\n",
       "55886    MediasetTgcom24\n",
       "29845    stanzaselvaggia\n",
       "78215    francescatotolo\n",
       "61953      PediatriaOggi\n",
       "74285            SkyTG24\n",
       "25532      Cartabellotta\n",
       "12831         tragicom24\n",
       "44836      GiorgiaMeloni\n",
       "30219    MinisteroSalute\n",
       "85506      ultimenotizie\n",
       "15449            AmbCina\n",
       "4412        Agenzia_Ansa\n",
       "28077         repubblica\n",
       "28883     RobertoBurioni\n",
       "44425        RadioSavana\n",
       "Name: name, dtype: object"
      ]
     },
     "execution_count": 29,
     "metadata": {},
     "output_type": "execute_result"
    }
   ],
   "source": [
    "global_measures.sort_values('outdegree')['name'][-20:]"
   ]
  },
  {
   "cell_type": "markdown",
   "metadata": {},
   "source": [
    "vado ora i più retweetati della giant component"
   ]
  },
  {
   "cell_type": "code",
   "execution_count": 8,
   "metadata": {},
   "outputs": [],
   "source": [
    "graph_to_clusterize = graph_all_period.copy()\n",
    "graph_to_clusterize.to_undirected(combine_edges='sum')\n",
    "clusters = graph_to_clusterize.community_multilevel(weights='weight',return_levels=False)\n",
    "#global_giant = cluster.giant()"
   ]
  },
  {
   "cell_type": "code",
   "execution_count": 35,
   "metadata": {},
   "outputs": [
    {
     "data": {
      "text/plain": [
       "10505            FBiasin\n",
       "22882         juventusfc\n",
       "17411            RaiNews\n",
       "25828            rtl1025\n",
       "6507              DPCgov\n",
       "17665       RegLombardia\n",
       "18208       RepubblicaTv\n",
       "5387           you_trend\n",
       "1048           Adnkronos\n",
       "7547            LaStampa\n",
       "111            sole24ore\n",
       "20017              TgLa7\n",
       "9556      poliziadistato\n",
       "60              Corriere\n",
       "13839    MediasetTgcom24\n",
       "19140            SkyTG24\n",
       "21872      ultimenotizie\n",
       "8055     MinisteroSalute\n",
       "790         Agenzia_Ansa\n",
       "7858          repubblica\n",
       "Name: name, dtype: object"
      ]
     },
     "execution_count": 35,
     "metadata": {},
     "output_type": "execute_result"
    }
   ],
   "source": [
    "centrality_measures(global_giant,pd.DataFrame(),weights='weight').sort_values('outdegree')['name'][-20:]"
   ]
  },
  {
   "cell_type": "markdown",
   "metadata": {},
   "source": [
    "invece di avere un dataframe per le misure, salvo le misure direttamente come attrivuti dei vertici"
   ]
  },
  {
   "cell_type": "code",
   "execution_count": 28,
   "metadata": {},
   "outputs": [],
   "source": [
    "graph_all_period.vs['membership']=  clusters.membership"
   ]
  },
  {
   "cell_type": "code",
   "execution_count": 29,
   "metadata": {},
   "outputs": [],
   "source": [
    "graph_all_period.vs['outdegree'] = graph_all_period.outdegree()"
   ]
  },
  {
   "cell_type": "code",
   "execution_count": 21,
   "metadata": {},
   "outputs": [
    {
     "ename": "KeyboardInterrupt",
     "evalue": "",
     "output_type": "error",
     "traceback": [
      "\u001b[0;31m---------------------------------------------------------------------------\u001b[0m",
      "\u001b[0;31mKeyboardInterrupt\u001b[0m                         Traceback (most recent call last)",
      "\u001b[0;32m<ipython-input-21-820892e8404a>\u001b[0m in \u001b[0;36m<module>\u001b[0;34m\u001b[0m\n\u001b[0;32m----> 1\u001b[0;31m \u001b[0mgraph_all_period\u001b[0m\u001b[0;34m.\u001b[0m\u001b[0mvs\u001b[0m\u001b[0;34m[\u001b[0m\u001b[0;34m'betweenness'\u001b[0m\u001b[0;34m]\u001b[0m \u001b[0;34m=\u001b[0m \u001b[0mgraph_all_period\u001b[0m\u001b[0;34m.\u001b[0m\u001b[0mbetweenness\u001b[0m\u001b[0;34m(\u001b[0m\u001b[0mweights\u001b[0m\u001b[0;34m=\u001b[0m\u001b[0;34m'weight'\u001b[0m\u001b[0;34m)\u001b[0m\u001b[0;34m\u001b[0m\u001b[0;34m\u001b[0m\u001b[0m\n\u001b[0m",
      "\u001b[0;31mKeyboardInterrupt\u001b[0m: "
     ]
    }
   ],
   "source": [
    "graph_all_period.vs['betweenness'] = graph_all_period.betweenness(weights='weight')"
   ]
  },
  {
   "cell_type": "markdown",
   "metadata": {},
   "source": [
    "#### cerco il più retwittato di ogni comunità "
   ]
  },
  {
   "cell_type": "code",
   "execution_count": 62,
   "metadata": {},
   "outputs": [],
   "source": [
    "df_of_each_cluster = []\n",
    "for cl in clusters.subgraphs():\n",
    "    df_of_each_cluster.append(pd.DataFrame({'name' :cl.vs['name'],'degree' :cl.outdegree()}))"
   ]
  },
  {
   "cell_type": "code",
   "execution_count": 77,
   "metadata": {},
   "outputs": [],
   "source": [
    "with open('measures/community_with_leaders.txt','w') as file:\n",
    "    for df in df_of_each_cluster:\n",
    "        if len(df)>100:\n",
    "            print('Number of members of community: ', len(df),file=file)\n",
    "            print(df.sort_values('degree').iloc[-20:],'\\n',file=file)"
   ]
  },
  {
   "cell_type": "code",
   "execution_count": null,
   "metadata": {},
   "outputs": [],
   "source": []
  }
 ],
 "metadata": {
  "kernelspec": {
   "display_name": "Python 3",
   "language": "python",
   "name": "python3"
  },
  "language_info": {
   "codemirror_mode": {
    "name": "ipython",
    "version": 3
   },
   "file_extension": ".py",
   "mimetype": "text/x-python",
   "name": "python",
   "nbconvert_exporter": "python",
   "pygments_lexer": "ipython3",
   "version": "3.7.3"
  }
 },
 "nbformat": 4,
 "nbformat_minor": 2
}
